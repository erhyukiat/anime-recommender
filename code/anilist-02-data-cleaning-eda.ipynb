{
 "cells": [
  {
   "cell_type": "markdown",
   "id": "0e2fd966-9be1-44cf-9221-f4c43345400c",
   "metadata": {},
   "source": [
    "# Anime Recommender 02: Data Cleaning & EDA"
   ]
  },
  {
   "cell_type": "markdown",
   "id": "4ed427e2-ea65-436f-8143-fbb016139993",
   "metadata": {},
   "source": [
    "## Imports"
   ]
  },
  {
   "cell_type": "code",
   "execution_count": 1,
   "id": "7bde19bd-4e6d-4f24-b30d-69aebc06645c",
   "metadata": {},
   "outputs": [],
   "source": [
    "import pandas as pd\n",
    "import numpy as np\n",
    "import matplotlib.pyplot as plt\n",
    "import seaborn as sns\n",
    "import pickle\n",
    "\n",
    "from sklearn.preprocessing import StandardScaler\n",
    "from sklearn.metrics.pairwise import cosine_similarity"
   ]
  },
  {
   "cell_type": "markdown",
   "id": "7ce9fe98-313d-49d9-ba8b-dec087df1e19",
   "metadata": {},
   "source": [
    "## Animes"
   ]
  },
  {
   "cell_type": "code",
   "execution_count": 2,
   "id": "214db8ca-3e39-40f8-8ad6-f5b766ee2143",
   "metadata": {},
   "outputs": [
    {
     "name": "stdout",
     "output_type": "stream",
     "text": [
      "(15954, 20)\n"
     ]
    },
    {
     "data": {
      "text/html": [
       "<div>\n",
       "<style scoped>\n",
       "    .dataframe tbody tr th:only-of-type {\n",
       "        vertical-align: middle;\n",
       "    }\n",
       "\n",
       "    .dataframe tbody tr th {\n",
       "        vertical-align: top;\n",
       "    }\n",
       "\n",
       "    .dataframe thead th {\n",
       "        text-align: right;\n",
       "    }\n",
       "</style>\n",
       "<table border=\"1\" class=\"dataframe\">\n",
       "  <thead>\n",
       "    <tr style=\"text-align: right;\">\n",
       "      <th></th>\n",
       "      <th>id</th>\n",
       "      <th>status</th>\n",
       "      <th>genres</th>\n",
       "      <th>format</th>\n",
       "      <th>description</th>\n",
       "      <th>startDate</th>\n",
       "      <th>endDate</th>\n",
       "      <th>episodes</th>\n",
       "      <th>season</th>\n",
       "      <th>seasonYear</th>\n",
       "      <th>duration</th>\n",
       "      <th>averageScore</th>\n",
       "      <th>meanScore</th>\n",
       "      <th>popularity</th>\n",
       "      <th>relations</th>\n",
       "      <th>siteUrl</th>\n",
       "      <th>title_romaji</th>\n",
       "      <th>title_english</th>\n",
       "      <th>coverImage_large</th>\n",
       "      <th>coverImage_medium</th>\n",
       "    </tr>\n",
       "  </thead>\n",
       "  <tbody>\n",
       "    <tr>\n",
       "      <th>0</th>\n",
       "      <td>1</td>\n",
       "      <td>FINISHED</td>\n",
       "      <td>Action, Adventure, Drama, Sci-Fi</td>\n",
       "      <td>TV</td>\n",
       "      <td>Enter a world in the distant future, where Bou...</td>\n",
       "      <td>1998-04-03</td>\n",
       "      <td>1999-04-24</td>\n",
       "      <td>26.0</td>\n",
       "      <td>SPRING</td>\n",
       "      <td>1998.0</td>\n",
       "      <td>24.0</td>\n",
       "      <td>86.0</td>\n",
       "      <td>86.0</td>\n",
       "      <td>249940</td>\n",
       "      <td>5, 17205, 4037</td>\n",
       "      <td>https://anilist.co/anime/1</td>\n",
       "      <td>Cowboy Bebop</td>\n",
       "      <td>Cowboy Bebop</td>\n",
       "      <td>https://s4.anilist.co/file/anilistcdn/media/an...</td>\n",
       "      <td>https://s4.anilist.co/file/anilistcdn/media/an...</td>\n",
       "    </tr>\n",
       "    <tr>\n",
       "      <th>1</th>\n",
       "      <td>5</td>\n",
       "      <td>FINISHED</td>\n",
       "      <td>Action, Drama, Mystery, Sci-Fi</td>\n",
       "      <td>MOVIE</td>\n",
       "      <td>As the Cowboy Bebop crew travels the stars, th...</td>\n",
       "      <td>2001-09-01</td>\n",
       "      <td>2001-09-01</td>\n",
       "      <td>1.0</td>\n",
       "      <td>SUMMER</td>\n",
       "      <td>2001.0</td>\n",
       "      <td>115.0</td>\n",
       "      <td>82.0</td>\n",
       "      <td>82.0</td>\n",
       "      <td>47081</td>\n",
       "      <td>1</td>\n",
       "      <td>https://anilist.co/anime/5</td>\n",
       "      <td>Cowboy Bebop: Tengoku no Tobira</td>\n",
       "      <td>Cowboy Bebop: The Movie - Knockin' on Heaven's...</td>\n",
       "      <td>https://s4.anilist.co/file/anilistcdn/media/an...</td>\n",
       "      <td>https://s4.anilist.co/file/anilistcdn/media/an...</td>\n",
       "    </tr>\n",
       "    <tr>\n",
       "      <th>2</th>\n",
       "      <td>6</td>\n",
       "      <td>FINISHED</td>\n",
       "      <td>Action, Adventure, Comedy, Drama, Sci-Fi</td>\n",
       "      <td>TV</td>\n",
       "      <td>Vash the Stampede is a wanted man with a habit...</td>\n",
       "      <td>1998-04-01</td>\n",
       "      <td>1998-09-30</td>\n",
       "      <td>26.0</td>\n",
       "      <td>SPRING</td>\n",
       "      <td>1998.0</td>\n",
       "      <td>24.0</td>\n",
       "      <td>79.0</td>\n",
       "      <td>79.0</td>\n",
       "      <td>81725</td>\n",
       "      <td>4106</td>\n",
       "      <td>https://anilist.co/anime/6</td>\n",
       "      <td>TRIGUN</td>\n",
       "      <td>Trigun</td>\n",
       "      <td>https://s4.anilist.co/file/anilistcdn/media/an...</td>\n",
       "      <td>https://s4.anilist.co/file/anilistcdn/media/an...</td>\n",
       "    </tr>\n",
       "    <tr>\n",
       "      <th>3</th>\n",
       "      <td>7</td>\n",
       "      <td>FINISHED</td>\n",
       "      <td>Action, Drama, Mystery, Supernatural</td>\n",
       "      <td>TV</td>\n",
       "      <td>Robin Sena is a powerful craft user drafted in...</td>\n",
       "      <td>2002-07-02</td>\n",
       "      <td>2002-12-24</td>\n",
       "      <td>26.0</td>\n",
       "      <td>SUMMER</td>\n",
       "      <td>2002.0</td>\n",
       "      <td>25.0</td>\n",
       "      <td>68.0</td>\n",
       "      <td>68.0</td>\n",
       "      <td>11850</td>\n",
       "      <td>NaN</td>\n",
       "      <td>https://anilist.co/anime/7</td>\n",
       "      <td>Witch Hunter ROBIN</td>\n",
       "      <td>Witch Hunter ROBIN</td>\n",
       "      <td>https://s4.anilist.co/file/anilistcdn/media/an...</td>\n",
       "      <td>https://s4.anilist.co/file/anilistcdn/media/an...</td>\n",
       "    </tr>\n",
       "    <tr>\n",
       "      <th>4</th>\n",
       "      <td>8</td>\n",
       "      <td>FINISHED</td>\n",
       "      <td>Adventure, Fantasy, Supernatural</td>\n",
       "      <td>TV</td>\n",
       "      <td>It is the dark century and the people are suff...</td>\n",
       "      <td>2004-09-30</td>\n",
       "      <td>2005-09-29</td>\n",
       "      <td>52.0</td>\n",
       "      <td>FALL</td>\n",
       "      <td>2004.0</td>\n",
       "      <td>23.0</td>\n",
       "      <td>62.0</td>\n",
       "      <td>64.0</td>\n",
       "      <td>1683</td>\n",
       "      <td>1123</td>\n",
       "      <td>https://anilist.co/anime/8</td>\n",
       "      <td>Bouken Ou Beet</td>\n",
       "      <td>Beet the Vandel Buster</td>\n",
       "      <td>https://s4.anilist.co/file/anilistcdn/media/an...</td>\n",
       "      <td>https://s4.anilist.co/file/anilistcdn/media/an...</td>\n",
       "    </tr>\n",
       "  </tbody>\n",
       "</table>\n",
       "</div>"
      ],
      "text/plain": [
       "   id    status                                    genres format  \\\n",
       "0   1  FINISHED          Action, Adventure, Drama, Sci-Fi     TV   \n",
       "1   5  FINISHED            Action, Drama, Mystery, Sci-Fi  MOVIE   \n",
       "2   6  FINISHED  Action, Adventure, Comedy, Drama, Sci-Fi     TV   \n",
       "3   7  FINISHED      Action, Drama, Mystery, Supernatural     TV   \n",
       "4   8  FINISHED          Adventure, Fantasy, Supernatural     TV   \n",
       "\n",
       "                                         description   startDate     endDate  \\\n",
       "0  Enter a world in the distant future, where Bou...  1998-04-03  1999-04-24   \n",
       "1  As the Cowboy Bebop crew travels the stars, th...  2001-09-01  2001-09-01   \n",
       "2  Vash the Stampede is a wanted man with a habit...  1998-04-01  1998-09-30   \n",
       "3  Robin Sena is a powerful craft user drafted in...  2002-07-02  2002-12-24   \n",
       "4  It is the dark century and the people are suff...  2004-09-30  2005-09-29   \n",
       "\n",
       "   episodes  season  seasonYear  duration  averageScore  meanScore  \\\n",
       "0      26.0  SPRING      1998.0      24.0          86.0       86.0   \n",
       "1       1.0  SUMMER      2001.0     115.0          82.0       82.0   \n",
       "2      26.0  SPRING      1998.0      24.0          79.0       79.0   \n",
       "3      26.0  SUMMER      2002.0      25.0          68.0       68.0   \n",
       "4      52.0    FALL      2004.0      23.0          62.0       64.0   \n",
       "\n",
       "   popularity       relations                     siteUrl  \\\n",
       "0      249940  5, 17205, 4037  https://anilist.co/anime/1   \n",
       "1       47081               1  https://anilist.co/anime/5   \n",
       "2       81725            4106  https://anilist.co/anime/6   \n",
       "3       11850             NaN  https://anilist.co/anime/7   \n",
       "4        1683            1123  https://anilist.co/anime/8   \n",
       "\n",
       "                      title_romaji  \\\n",
       "0                     Cowboy Bebop   \n",
       "1  Cowboy Bebop: Tengoku no Tobira   \n",
       "2                           TRIGUN   \n",
       "3               Witch Hunter ROBIN   \n",
       "4                   Bouken Ou Beet   \n",
       "\n",
       "                                       title_english  \\\n",
       "0                                       Cowboy Bebop   \n",
       "1  Cowboy Bebop: The Movie - Knockin' on Heaven's...   \n",
       "2                                             Trigun   \n",
       "3                                 Witch Hunter ROBIN   \n",
       "4                             Beet the Vandel Buster   \n",
       "\n",
       "                                    coverImage_large  \\\n",
       "0  https://s4.anilist.co/file/anilistcdn/media/an...   \n",
       "1  https://s4.anilist.co/file/anilistcdn/media/an...   \n",
       "2  https://s4.anilist.co/file/anilistcdn/media/an...   \n",
       "3  https://s4.anilist.co/file/anilistcdn/media/an...   \n",
       "4  https://s4.anilist.co/file/anilistcdn/media/an...   \n",
       "\n",
       "                                   coverImage_medium  \n",
       "0  https://s4.anilist.co/file/anilistcdn/media/an...  \n",
       "1  https://s4.anilist.co/file/anilistcdn/media/an...  \n",
       "2  https://s4.anilist.co/file/anilistcdn/media/an...  \n",
       "3  https://s4.anilist.co/file/anilistcdn/media/an...  \n",
       "4  https://s4.anilist.co/file/anilistcdn/media/an...  "
      ]
     },
     "execution_count": 2,
     "metadata": {},
     "output_type": "execute_result"
    }
   ],
   "source": [
    "anime_db = pd.read_csv(\"../data/anime_db.csv\", encoding='utf-8')\n",
    "print(anime_db.shape)\n",
    "anime_db.head()"
   ]
  },
  {
   "cell_type": "code",
   "execution_count": 3,
   "id": "c89ba0a8-3bd7-4fc2-9475-4ba679d2e8bd",
   "metadata": {
    "tags": []
   },
   "outputs": [
    {
     "name": "stdout",
     "output_type": "stream",
     "text": [
      "<class 'pandas.core.frame.DataFrame'>\n",
      "RangeIndex: 15954 entries, 0 to 15953\n",
      "Data columns (total 20 columns):\n",
      " #   Column             Non-Null Count  Dtype  \n",
      "---  ------             --------------  -----  \n",
      " 0   id                 15954 non-null  int64  \n",
      " 1   status             15951 non-null  object \n",
      " 2   genres             13885 non-null  object \n",
      " 3   format             15898 non-null  object \n",
      " 4   description        14879 non-null  object \n",
      " 5   startDate          13678 non-null  object \n",
      " 6   endDate            13353 non-null  object \n",
      " 7   episodes           15332 non-null  float64\n",
      " 8   season             10608 non-null  object \n",
      " 9   seasonYear         10608 non-null  float64\n",
      " 10  duration           15156 non-null  float64\n",
      " 11  averageScore       10885 non-null  float64\n",
      " 12  meanScore          15207 non-null  float64\n",
      " 13  popularity         15954 non-null  int64  \n",
      " 14  relations          8310 non-null   object \n",
      " 15  siteUrl            15954 non-null  object \n",
      " 16  title_romaji       15954 non-null  object \n",
      " 17  title_english      7313 non-null   object \n",
      " 18  coverImage_large   15954 non-null  object \n",
      " 19  coverImage_medium  15954 non-null  object \n",
      "dtypes: float64(5), int64(2), object(13)\n",
      "memory usage: 2.4+ MB\n"
     ]
    }
   ],
   "source": [
    "anime_db.info()"
   ]
  },
  {
   "cell_type": "code",
   "execution_count": 4,
   "id": "7eb96c43-5392-47ba-9834-1ac961566c39",
   "metadata": {},
   "outputs": [
    {
     "name": "stdout",
     "output_type": "stream",
     "text": [
      "(1432, 20)\n"
     ]
    },
    {
     "data": {
      "text/html": [
       "<div>\n",
       "<style scoped>\n",
       "    .dataframe tbody tr th:only-of-type {\n",
       "        vertical-align: middle;\n",
       "    }\n",
       "\n",
       "    .dataframe tbody tr th {\n",
       "        vertical-align: top;\n",
       "    }\n",
       "\n",
       "    .dataframe thead th {\n",
       "        text-align: right;\n",
       "    }\n",
       "</style>\n",
       "<table border=\"1\" class=\"dataframe\">\n",
       "  <thead>\n",
       "    <tr style=\"text-align: right;\">\n",
       "      <th></th>\n",
       "      <th>id</th>\n",
       "      <th>status</th>\n",
       "      <th>genres</th>\n",
       "      <th>format</th>\n",
       "      <th>description</th>\n",
       "      <th>startDate</th>\n",
       "      <th>endDate</th>\n",
       "      <th>episodes</th>\n",
       "      <th>season</th>\n",
       "      <th>seasonYear</th>\n",
       "      <th>duration</th>\n",
       "      <th>averageScore</th>\n",
       "      <th>meanScore</th>\n",
       "      <th>popularity</th>\n",
       "      <th>relations</th>\n",
       "      <th>siteUrl</th>\n",
       "      <th>title_romaji</th>\n",
       "      <th>title_english</th>\n",
       "      <th>coverImage_large</th>\n",
       "      <th>coverImage_medium</th>\n",
       "    </tr>\n",
       "  </thead>\n",
       "  <tbody>\n",
       "    <tr>\n",
       "      <th>0</th>\n",
       "      <td>188</td>\n",
       "      <td>FINISHED</td>\n",
       "      <td>Comedy, Hentai, Mystery, Supernatural</td>\n",
       "      <td>OVA</td>\n",
       "      <td>Masquerade is the story surrounding the Hiraga...</td>\n",
       "      <td>1998-09-25</td>\n",
       "      <td>1999-03-25</td>\n",
       "      <td>4.0</td>\n",
       "      <td>FALL</td>\n",
       "      <td>1998.0</td>\n",
       "      <td>30.0</td>\n",
       "      <td>51.0</td>\n",
       "      <td>54.0</td>\n",
       "      <td>448</td>\n",
       "      <td>4561</td>\n",
       "      <td>https://anilist.co/anime/188</td>\n",
       "      <td>Gosenzo San'e</td>\n",
       "      <td>Masquerade</td>\n",
       "      <td>https://s4.anilist.co/file/anilistcdn/media/an...</td>\n",
       "      <td>https://s4.anilist.co/file/anilistcdn/media/an...</td>\n",
       "    </tr>\n",
       "    <tr>\n",
       "      <th>1</th>\n",
       "      <td>203</td>\n",
       "      <td>FINISHED</td>\n",
       "      <td>Adventure, Fantasy, Hentai</td>\n",
       "      <td>OVA</td>\n",
       "      <td>Based on the erotic game by Elf.&lt;br&gt;\\n&lt;br&gt;\\nTh...</td>\n",
       "      <td>1999-08-25</td>\n",
       "      <td>2000-11-25</td>\n",
       "      <td>5.0</td>\n",
       "      <td>SUMMER</td>\n",
       "      <td>1999.0</td>\n",
       "      <td>30.0</td>\n",
       "      <td>57.0</td>\n",
       "      <td>59.0</td>\n",
       "      <td>954</td>\n",
       "      <td>2185, 125574</td>\n",
       "      <td>https://anilist.co/anime/203</td>\n",
       "      <td>Words Worth</td>\n",
       "      <td>NaN</td>\n",
       "      <td>https://s4.anilist.co/file/anilistcdn/media/an...</td>\n",
       "      <td>https://s4.anilist.co/file/anilistcdn/media/an...</td>\n",
       "    </tr>\n",
       "    <tr>\n",
       "      <th>2</th>\n",
       "      <td>211</td>\n",
       "      <td>FINISHED</td>\n",
       "      <td>Hentai</td>\n",
       "      <td>OVA</td>\n",
       "      <td>Episode 1:&lt;br&gt;\\n\"There is no need for relation...</td>\n",
       "      <td>2001-09-25</td>\n",
       "      <td>2001-12-21</td>\n",
       "      <td>2.0</td>\n",
       "      <td>FALL</td>\n",
       "      <td>2001.0</td>\n",
       "      <td>30.0</td>\n",
       "      <td>52.0</td>\n",
       "      <td>55.0</td>\n",
       "      <td>483</td>\n",
       "      <td>NaN</td>\n",
       "      <td>https://anilist.co/anime/211</td>\n",
       "      <td>Pure Mail</td>\n",
       "      <td>NaN</td>\n",
       "      <td>https://s4.anilist.co/file/anilistcdn/media/an...</td>\n",
       "      <td>https://s4.anilist.co/file/anilistcdn/media/an...</td>\n",
       "    </tr>\n",
       "    <tr>\n",
       "      <th>3</th>\n",
       "      <td>213</td>\n",
       "      <td>FINISHED</td>\n",
       "      <td>Comedy, Hentai, Romance</td>\n",
       "      <td>OVA</td>\n",
       "      <td>Yusuke Kinoshita is forced by his father to wo...</td>\n",
       "      <td>1997-10-24</td>\n",
       "      <td>1998-04-24</td>\n",
       "      <td>3.0</td>\n",
       "      <td>FALL</td>\n",
       "      <td>1997.0</td>\n",
       "      <td>29.0</td>\n",
       "      <td>48.0</td>\n",
       "      <td>51.0</td>\n",
       "      <td>451</td>\n",
       "      <td>214, 215</td>\n",
       "      <td>https://anilist.co/anime/213</td>\n",
       "      <td>Pia Carrot e Youkoso!!</td>\n",
       "      <td>Welcome to Pia Carrot</td>\n",
       "      <td>https://s4.anilist.co/file/anilistcdn/media/an...</td>\n",
       "      <td>https://s4.anilist.co/file/anilistcdn/media/an...</td>\n",
       "    </tr>\n",
       "    <tr>\n",
       "      <th>4</th>\n",
       "      <td>214</td>\n",
       "      <td>FINISHED</td>\n",
       "      <td>Comedy, Drama, Hentai, Romance</td>\n",
       "      <td>OVA</td>\n",
       "      <td>Yususke (from the first Pia Carrot series) ret...</td>\n",
       "      <td>1998-10-23</td>\n",
       "      <td>1999-04-23</td>\n",
       "      <td>3.0</td>\n",
       "      <td>FALL</td>\n",
       "      <td>1998.0</td>\n",
       "      <td>30.0</td>\n",
       "      <td>47.0</td>\n",
       "      <td>50.0</td>\n",
       "      <td>324</td>\n",
       "      <td>213, 215</td>\n",
       "      <td>https://anilist.co/anime/214</td>\n",
       "      <td>Pia Carrot e Youkoso!! 2</td>\n",
       "      <td>Welcome To Pia Carrot 2</td>\n",
       "      <td>https://s4.anilist.co/file/anilistcdn/media/an...</td>\n",
       "      <td>https://s4.anilist.co/file/anilistcdn/media/an...</td>\n",
       "    </tr>\n",
       "  </tbody>\n",
       "</table>\n",
       "</div>"
      ],
      "text/plain": [
       "    id    status                                 genres format  \\\n",
       "0  188  FINISHED  Comedy, Hentai, Mystery, Supernatural    OVA   \n",
       "1  203  FINISHED             Adventure, Fantasy, Hentai    OVA   \n",
       "2  211  FINISHED                                 Hentai    OVA   \n",
       "3  213  FINISHED                Comedy, Hentai, Romance    OVA   \n",
       "4  214  FINISHED         Comedy, Drama, Hentai, Romance    OVA   \n",
       "\n",
       "                                         description   startDate     endDate  \\\n",
       "0  Masquerade is the story surrounding the Hiraga...  1998-09-25  1999-03-25   \n",
       "1  Based on the erotic game by Elf.<br>\\n<br>\\nTh...  1999-08-25  2000-11-25   \n",
       "2  Episode 1:<br>\\n\"There is no need for relation...  2001-09-25  2001-12-21   \n",
       "3  Yusuke Kinoshita is forced by his father to wo...  1997-10-24  1998-04-24   \n",
       "4  Yususke (from the first Pia Carrot series) ret...  1998-10-23  1999-04-23   \n",
       "\n",
       "   episodes  season  seasonYear  duration  averageScore  meanScore  \\\n",
       "0       4.0    FALL      1998.0      30.0          51.0       54.0   \n",
       "1       5.0  SUMMER      1999.0      30.0          57.0       59.0   \n",
       "2       2.0    FALL      2001.0      30.0          52.0       55.0   \n",
       "3       3.0    FALL      1997.0      29.0          48.0       51.0   \n",
       "4       3.0    FALL      1998.0      30.0          47.0       50.0   \n",
       "\n",
       "   popularity     relations                       siteUrl  \\\n",
       "0         448          4561  https://anilist.co/anime/188   \n",
       "1         954  2185, 125574  https://anilist.co/anime/203   \n",
       "2         483           NaN  https://anilist.co/anime/211   \n",
       "3         451      214, 215  https://anilist.co/anime/213   \n",
       "4         324      213, 215  https://anilist.co/anime/214   \n",
       "\n",
       "               title_romaji            title_english  \\\n",
       "0             Gosenzo San'e               Masquerade   \n",
       "1               Words Worth                      NaN   \n",
       "2                 Pure Mail                      NaN   \n",
       "3    Pia Carrot e Youkoso!!    Welcome to Pia Carrot   \n",
       "4  Pia Carrot e Youkoso!! 2  Welcome To Pia Carrot 2   \n",
       "\n",
       "                                    coverImage_large  \\\n",
       "0  https://s4.anilist.co/file/anilistcdn/media/an...   \n",
       "1  https://s4.anilist.co/file/anilistcdn/media/an...   \n",
       "2  https://s4.anilist.co/file/anilistcdn/media/an...   \n",
       "3  https://s4.anilist.co/file/anilistcdn/media/an...   \n",
       "4  https://s4.anilist.co/file/anilistcdn/media/an...   \n",
       "\n",
       "                                   coverImage_medium  \n",
       "0  https://s4.anilist.co/file/anilistcdn/media/an...  \n",
       "1  https://s4.anilist.co/file/anilistcdn/media/an...  \n",
       "2  https://s4.anilist.co/file/anilistcdn/media/an...  \n",
       "3  https://s4.anilist.co/file/anilistcdn/media/an...  \n",
       "4  https://s4.anilist.co/file/anilistcdn/media/an...  "
      ]
     },
     "execution_count": 4,
     "metadata": {},
     "output_type": "execute_result"
    }
   ],
   "source": [
    "anime_db_18 = pd.read_csv(\"../data/anime_db_18.csv\", encoding='utf-8')\n",
    "print(anime_db_18.shape)\n",
    "anime_db_18.head()"
   ]
  },
  {
   "cell_type": "code",
   "execution_count": 5,
   "id": "bd9f0f4f-4d7a-4448-91b1-5f1153ceadb9",
   "metadata": {},
   "outputs": [
    {
     "name": "stdout",
     "output_type": "stream",
     "text": [
      "<class 'pandas.core.frame.DataFrame'>\n",
      "RangeIndex: 1432 entries, 0 to 1431\n",
      "Data columns (total 20 columns):\n",
      " #   Column             Non-Null Count  Dtype  \n",
      "---  ------             --------------  -----  \n",
      " 0   id                 1432 non-null   int64  \n",
      " 1   status             1432 non-null   object \n",
      " 2   genres             1432 non-null   object \n",
      " 3   format             1432 non-null   object \n",
      " 4   description        1376 non-null   object \n",
      " 5   startDate          1415 non-null   object \n",
      " 6   endDate            1374 non-null   object \n",
      " 7   episodes           1390 non-null   float64\n",
      " 8   season             1400 non-null   object \n",
      " 9   seasonYear         1400 non-null   float64\n",
      " 10  duration           1425 non-null   float64\n",
      " 11  averageScore       1320 non-null   float64\n",
      " 12  meanScore          1420 non-null   float64\n",
      " 13  popularity         1432 non-null   int64  \n",
      " 14  relations          347 non-null    object \n",
      " 15  siteUrl            1432 non-null   object \n",
      " 16  title_romaji       1432 non-null   object \n",
      " 17  title_english      455 non-null    object \n",
      " 18  coverImage_large   1432 non-null   object \n",
      " 19  coverImage_medium  1432 non-null   object \n",
      "dtypes: float64(5), int64(2), object(13)\n",
      "memory usage: 223.9+ KB\n"
     ]
    }
   ],
   "source": [
    "anime_db_18.info()"
   ]
  },
  {
   "cell_type": "code",
   "execution_count": 6,
   "id": "99c63711-cc88-451c-8a47-1472eeddab33",
   "metadata": {},
   "outputs": [],
   "source": [
    "anime_db['startDate']= pd.to_datetime(anime_db['startDate'], format='%Y-%m-%d')\n",
    "anime_db['endDate']= pd.to_datetime(anime_db['endDate'], format='%Y-%m-%d')\n",
    "anime_db_18['startDate']= pd.to_datetime(anime_db_18['startDate'], format='%Y-%m-%d')\n",
    "anime_db_18['endDate']= pd.to_datetime(anime_db_18['endDate'], format='%Y-%m-%d')"
   ]
  },
  {
   "cell_type": "code",
   "execution_count": 7,
   "id": "77b5348f-4658-4a5d-8925-05488f4ae473",
   "metadata": {},
   "outputs": [],
   "source": [
    "def convert_to_list(data_row):\n",
    "    return list(str(data_row).split(sep=\", \")) if data_row is not np.nan else None"
   ]
  },
  {
   "cell_type": "code",
   "execution_count": 8,
   "id": "2be26c8f-20fe-4364-9902-26fcfe292d7b",
   "metadata": {},
   "outputs": [],
   "source": [
    "anime_db['relations'] = anime_db['relations'].apply(convert_to_list)\n",
    "anime_db_18['relations'] = anime_db_18['relations'].apply(convert_to_list)"
   ]
  },
  {
   "cell_type": "code",
   "execution_count": 9,
   "id": "3d8bff85-ac9c-430b-aafa-2590e1591f71",
   "metadata": {},
   "outputs": [],
   "source": [
    "anime_db['genres_str'] = anime_db['genres']\n",
    "anime_db['genres'] = anime_db['genres'].apply(convert_to_list)\n",
    "anime_db_18['genres_str'] = anime_db_18['genres']\n",
    "anime_db_18['genres'] = anime_db_18['genres'].apply(convert_to_list)"
   ]
  },
  {
   "cell_type": "code",
   "execution_count": 10,
   "id": "bafd691b-f7b0-465b-92ef-92f81e62a9ca",
   "metadata": {},
   "outputs": [
    {
     "data": {
      "text/plain": [
       "FINISHED            15076\n",
       "NOT_YET_RELEASED      636\n",
       "RELEASING             208\n",
       "CANCELLED              31\n",
       "Name: status, dtype: int64"
      ]
     },
     "execution_count": 10,
     "metadata": {},
     "output_type": "execute_result"
    }
   ],
   "source": [
    "anime_db['status'].value_counts()"
   ]
  },
  {
   "cell_type": "code",
   "execution_count": 11,
   "id": "0ab97c84-2d2c-41db-a120-6f8ab161e84e",
   "metadata": {},
   "outputs": [
    {
     "data": {
      "text/plain": [
       "FINISHED            1381\n",
       "RELEASING             39\n",
       "NOT_YET_RELEASED      12\n",
       "Name: status, dtype: int64"
      ]
     },
     "execution_count": 11,
     "metadata": {},
     "output_type": "execute_result"
    }
   ],
   "source": [
    "anime_db_18['status'].value_counts()"
   ]
  },
  {
   "cell_type": "markdown",
   "id": "f31431f5-c7ff-489b-b04e-4e6116d7601f",
   "metadata": {},
   "source": [
    "We will drop records with status NOT_YET_RELEASED or CANCELLED, as NOT_YET_RELEASED animes should not have any user ratings and CANCELLED animes never aired"
   ]
  },
  {
   "cell_type": "code",
   "execution_count": 12,
   "id": "11ef054a-7b30-4f0c-9a8a-2cd0df81aafa",
   "metadata": {},
   "outputs": [],
   "source": [
    "anime_db = anime_db[(anime_db['status']!=\"NOT_YET_RELEASED\") & (anime_db['status']!=\"CANCELLED\")]\n",
    "anime_db_18 = anime_db_18[(anime_db_18['status']!=\"NOT_YET_RELEASED\")]"
   ]
  },
  {
   "cell_type": "markdown",
   "id": "54bdfe1b-e9dd-437f-b9d4-5bc0669309eb",
   "metadata": {},
   "source": [
    "We will drop records where the duration is less than 10 mins as these are either special episodes belonging to a anime franchise, or are one-off short episodes, which are not relevant in the scope of this recommender."
   ]
  },
  {
   "cell_type": "code",
   "execution_count": 13,
   "id": "05ca7a67-c1ca-4d11-b93f-6bb87316b0e5",
   "metadata": {},
   "outputs": [],
   "source": [
    "anime_db = anime_db[(anime_db['duration']>=10)]\n",
    "anime_db_18 = anime_db_18[(anime_db_18['duration']>=10)]"
   ]
  },
  {
   "cell_type": "code",
   "execution_count": 14,
   "id": "43c9f4f5-0cad-4d5f-b39a-1ec976a2013b",
   "metadata": {},
   "outputs": [
    {
     "data": {
      "text/plain": [
       "TV          3813\n",
       "MOVIE       2307\n",
       "OVA         1993\n",
       "SPECIAL      753\n",
       "ONA          677\n",
       "TV_SHORT     298\n",
       "MUSIC         11\n",
       "Name: format, dtype: int64"
      ]
     },
     "execution_count": 14,
     "metadata": {},
     "output_type": "execute_result"
    }
   ],
   "source": [
    "anime_db['format'].value_counts()"
   ]
  },
  {
   "cell_type": "code",
   "execution_count": 15,
   "id": "c4799515-e86a-44a6-b137-2df8c65b70fb",
   "metadata": {},
   "outputs": [
    {
     "data": {
      "text/plain": [
       "OVA        1341\n",
       "ONA          12\n",
       "MOVIE         5\n",
       "SPECIAL       5\n",
       "TV            1\n",
       "Name: format, dtype: int64"
      ]
     },
     "execution_count": 15,
     "metadata": {},
     "output_type": "execute_result"
    }
   ],
   "source": [
    "anime_db_18['format'].value_counts()"
   ]
  },
  {
   "cell_type": "markdown",
   "id": "13a9fa3e-9747-4ad6-b85e-1291fcaedf1b",
   "metadata": {},
   "source": [
    "We'll drop the 11 titles in MUSIC format in anime_db as they are not relevant in the scope of this recommender."
   ]
  },
  {
   "cell_type": "code",
   "execution_count": 16,
   "id": "de29ba54-118b-48eb-897d-5a7600b8dba1",
   "metadata": {},
   "outputs": [],
   "source": [
    "anime_db = anime_db[(anime_db['format']!=\"MUSIC\")]"
   ]
  },
  {
   "cell_type": "markdown",
   "id": "2d112844-269a-4c08-b627-8dbd689d87c1",
   "metadata": {},
   "source": [
    "We'll deal with null values next"
   ]
  },
  {
   "cell_type": "code",
   "execution_count": 17,
   "id": "c1c4e3a8-c373-40fe-a7d6-2c688ccf0216",
   "metadata": {
    "tags": []
   },
   "outputs": [
    {
     "data": {
      "text/plain": [
       "id                      0\n",
       "status                  0\n",
       "genres                295\n",
       "format                  0\n",
       "description           553\n",
       "startDate             507\n",
       "endDate               642\n",
       "episodes               33\n",
       "season               1475\n",
       "seasonYear           1475\n",
       "duration                0\n",
       "averageScore         2065\n",
       "meanScore              81\n",
       "popularity              0\n",
       "relations            3632\n",
       "siteUrl                 0\n",
       "title_romaji            0\n",
       "title_english        4361\n",
       "coverImage_large        0\n",
       "coverImage_medium       0\n",
       "genres_str            295\n",
       "dtype: int64"
      ]
     },
     "execution_count": 17,
     "metadata": {},
     "output_type": "execute_result"
    }
   ],
   "source": [
    "anime_db.isna().sum()"
   ]
  },
  {
   "cell_type": "code",
   "execution_count": 18,
   "id": "0039c387-6012-4a02-9572-551468ae9780",
   "metadata": {},
   "outputs": [
    {
     "data": {
      "text/plain": [
       "id                      0\n",
       "status                  0\n",
       "genres                  0\n",
       "format                  0\n",
       "description            48\n",
       "startDate               8\n",
       "endDate                46\n",
       "episodes               35\n",
       "season                 14\n",
       "seasonYear             14\n",
       "duration                0\n",
       "averageScore           92\n",
       "meanScore               0\n",
       "popularity              0\n",
       "relations            1045\n",
       "siteUrl                 0\n",
       "title_romaji            0\n",
       "title_english         918\n",
       "coverImage_large        0\n",
       "coverImage_medium       0\n",
       "genres_str              0\n",
       "dtype: int64"
      ]
     },
     "execution_count": 18,
     "metadata": {},
     "output_type": "execute_result"
    }
   ],
   "source": [
    "anime_db_18.isna().sum()"
   ]
  },
  {
   "cell_type": "markdown",
   "id": "b1050e39-bcac-4565-96c6-0f5a07a9be51",
   "metadata": {},
   "source": [
    "Null values in these columns are inconsequential: description, startDate, endDate, episodes, season, seasonYear, relations, title_english\n",
    "\n",
    "We will fill description with \"No description available\" in case we want to populate the description in the output of the recommender, and title_english with its corresponding title_romaji since the null values just means it does not have an English title. We will leave the other columns (as stated above) as is, since they are inconsequential."
   ]
  },
  {
   "cell_type": "code",
   "execution_count": 19,
   "id": "e84b80eb-56fd-466c-b355-163dd09ff12e",
   "metadata": {},
   "outputs": [],
   "source": [
    "anime_db['description'].fillna(\"No description available\", inplace=True)\n",
    "anime_db_18['description'].fillna(\"No description available\", inplace=True)\n",
    "anime_db['title_english'].fillna(anime_db['title_romaji'], inplace=True)\n",
    "anime_db_18['title_english'].fillna(anime_db_18['title_romaji'], inplace=True)"
   ]
  },
  {
   "cell_type": "markdown",
   "id": "6a5f7474-29f0-43c0-a1a3-86e2938a59bb",
   "metadata": {},
   "source": [
    "averageScore is the weighted average and the meanScore is the actual average score. averageScore will be empty if not enough users have rated the anime, and meanScore will be empty if no users have rated the anime. We will drop records where meanScore is null."
   ]
  },
  {
   "cell_type": "code",
   "execution_count": 20,
   "id": "f6368ba3-4570-4e53-9a56-f9a833f14fa5",
   "metadata": {},
   "outputs": [],
   "source": [
    "anime_db.dropna(subset=['meanScore'],inplace=True)"
   ]
  },
  {
   "cell_type": "code",
   "execution_count": 21,
   "id": "a6b3ad98-0930-47f6-8faa-156ee2fea738",
   "metadata": {
    "scrolled": true,
    "tags": []
   },
   "outputs": [
    {
     "data": {
      "text/plain": [
       "0.0     0.319573\n",
       "1.0     0.581276\n",
       "2.0     0.704604\n",
       "3.0     0.795267\n",
       "4.0     0.849408\n",
       "5.0     0.893647\n",
       "6.0     0.930427\n",
       "7.0     0.956019\n",
       "8.0     0.974151\n",
       "9.0     0.984182\n",
       "10.0    0.990355\n",
       "11.0    0.993570\n",
       "12.0    0.996013\n",
       "13.0    0.998328\n",
       "14.0    0.999100\n",
       "15.0    0.999357\n",
       "16.0    0.999614\n",
       "17.0    0.999743\n",
       "20.0    0.999871\n",
       "21.0    1.000000\n",
       "Name: score_diff, dtype: float64"
      ]
     },
     "execution_count": 21,
     "metadata": {},
     "output_type": "execute_result"
    }
   ],
   "source": [
    "anime_db['score_diff'] = anime_db['averageScore'] - anime_db['meanScore']\n",
    "np.cumsum(abs(anime_db['score_diff']).value_counts(normalize=True).sort_index())"
   ]
  },
  {
   "cell_type": "code",
   "execution_count": 22,
   "id": "2635629c-ad9c-49c3-b250-fadc6f82bffa",
   "metadata": {},
   "outputs": [
    {
     "data": {
      "text/plain": [
       "0.0     0.051887\n",
       "1.0     0.264937\n",
       "2.0     0.660377\n",
       "3.0     0.908019\n",
       "4.0     0.977201\n",
       "5.0     0.992138\n",
       "6.0     0.996855\n",
       "7.0     0.997642\n",
       "8.0     0.998428\n",
       "9.0     0.999214\n",
       "11.0    1.000000\n",
       "Name: score_diff, dtype: float64"
      ]
     },
     "execution_count": 22,
     "metadata": {},
     "output_type": "execute_result"
    }
   ],
   "source": [
    "anime_db_18['score_diff'] = anime_db_18['averageScore'] - anime_db_18['meanScore']\n",
    "np.cumsum(abs(anime_db_18['score_diff']).value_counts(normalize=True).sort_index())"
   ]
  },
  {
   "cell_type": "markdown",
   "id": "8bb761e3-1dd7-4d76-8ef2-09ab3419994b",
   "metadata": {},
   "source": [
    "For majority of anime titles, the averageScore and meanScore does not differ that much, ~99% of titles have the averageScore differing from the meanScore by up to 10. As the score is on a scale of 1 to 100, 10 is merely a 10% difference. We will impute the null values in averageScore with the meanScore. Same goes for anime_db_18."
   ]
  },
  {
   "cell_type": "code",
   "execution_count": 23,
   "id": "93e0fcf4-89b5-4fe4-8033-8d50330ceb81",
   "metadata": {},
   "outputs": [],
   "source": [
    "anime_db['averageScore'].fillna(anime_db['meanScore'], inplace=True)\n",
    "anime_db_18['averageScore'].fillna(anime_db_18['meanScore'], inplace=True)"
   ]
  },
  {
   "cell_type": "markdown",
   "id": "16b0f052-e001-4af3-ae7c-b72745a53b5c",
   "metadata": {},
   "source": [
    "anime_db_18 has no more null values that need cleaning at this point."
   ]
  },
  {
   "cell_type": "code",
   "execution_count": 24,
   "id": "8b533e2e-938a-46d3-a797-feef4f126deb",
   "metadata": {},
   "outputs": [],
   "source": [
    "def impute_genres(relation_ids,df):\n",
    "    relation_id_to_use = -1\n",
    "    \n",
    "    if relation_ids is None or relation_ids is np.nan:\n",
    "        return None\n",
    "    \n",
    "    for relation_id in relation_ids:\n",
    "        if len(df[(df['id']==int(relation_id))]['genres']) > 0:\n",
    "            relation_id_to_use = relation_id\n",
    "            break\n",
    "        \n",
    "    return list(df[(df['id']==int(relation_id_to_use))]['genres'])[0] if relation_id_to_use != -1 else None"
   ]
  },
  {
   "cell_type": "code",
   "execution_count": 25,
   "id": "13dc2920-3450-45df-bfa7-991f188f4b6f",
   "metadata": {},
   "outputs": [],
   "source": [
    "anime_db['relation_genres']=anime_db['relations']\n",
    "anime_db['relation_genres']=anime_db['relation_genres'].apply(impute_genres, args=(anime_db,))\n",
    "anime_db['genres'].fillna(anime_db['relation_genres'], inplace=True)"
   ]
  },
  {
   "cell_type": "code",
   "execution_count": 26,
   "id": "7d60ff03-434b-448e-b0d8-f8574364d01b",
   "metadata": {
    "scrolled": true,
    "tags": []
   },
   "outputs": [
    {
     "data": {
      "text/plain": [
       "238"
      ]
     },
     "execution_count": 26,
     "metadata": {},
     "output_type": "execute_result"
    }
   ],
   "source": [
    "anime_db['genres'].isna().sum()"
   ]
  },
  {
   "cell_type": "markdown",
   "id": "6e7ccd73-0919-44f9-ab28-81ecf2af7a36",
   "metadata": {},
   "source": [
    "There are still null values in genres, but since there are only 238 null values (2.4%), we will drop them."
   ]
  },
  {
   "cell_type": "code",
   "execution_count": 27,
   "id": "787cf3ac-2952-4d30-ac58-7a642edf9e96",
   "metadata": {},
   "outputs": [],
   "source": [
    "anime_db = anime_db[(anime_db['genres'].notna())]"
   ]
  },
  {
   "cell_type": "markdown",
   "id": "d605a038-2150-4f92-bdc4-1c6d770f964b",
   "metadata": {},
   "source": [
    "## Users"
   ]
  },
  {
   "cell_type": "code",
   "execution_count": 29,
   "id": "53b3df9c-270e-46e2-bad1-39fa2e100a02",
   "metadata": {
    "tags": []
   },
   "outputs": [
    {
     "name": "stdout",
     "output_type": "stream",
     "text": [
      "(937799, 3)\n"
     ]
    },
    {
     "data": {
      "text/html": [
       "<div>\n",
       "<style scoped>\n",
       "    .dataframe tbody tr th:only-of-type {\n",
       "        vertical-align: middle;\n",
       "    }\n",
       "\n",
       "    .dataframe tbody tr th {\n",
       "        vertical-align: top;\n",
       "    }\n",
       "\n",
       "    .dataframe thead th {\n",
       "        text-align: right;\n",
       "    }\n",
       "</style>\n",
       "<table border=\"1\" class=\"dataframe\">\n",
       "  <thead>\n",
       "    <tr style=\"text-align: right;\">\n",
       "      <th></th>\n",
       "      <th>userId</th>\n",
       "      <th>mediaId</th>\n",
       "      <th>rating</th>\n",
       "    </tr>\n",
       "  </thead>\n",
       "  <tbody>\n",
       "    <tr>\n",
       "      <th>0</th>\n",
       "      <td>710080</td>\n",
       "      <td>1535</td>\n",
       "      <td>70</td>\n",
       "    </tr>\n",
       "    <tr>\n",
       "      <th>1</th>\n",
       "      <td>710080</td>\n",
       "      <td>21459</td>\n",
       "      <td>70</td>\n",
       "    </tr>\n",
       "    <tr>\n",
       "      <th>2</th>\n",
       "      <td>710080</td>\n",
       "      <td>113415</td>\n",
       "      <td>70</td>\n",
       "    </tr>\n",
       "    <tr>\n",
       "      <th>3</th>\n",
       "      <td>710080</td>\n",
       "      <td>11757</td>\n",
       "      <td>70</td>\n",
       "    </tr>\n",
       "    <tr>\n",
       "      <th>4</th>\n",
       "      <td>710080</td>\n",
       "      <td>5114</td>\n",
       "      <td>70</td>\n",
       "    </tr>\n",
       "  </tbody>\n",
       "</table>\n",
       "</div>"
      ],
      "text/plain": [
       "   userId  mediaId  rating\n",
       "0  710080     1535      70\n",
       "1  710080    21459      70\n",
       "2  710080   113415      70\n",
       "3  710080    11757      70\n",
       "4  710080     5114      70"
      ]
     },
     "execution_count": 29,
     "metadata": {},
     "output_type": "execute_result"
    }
   ],
   "source": [
    "user_db_lightfm = pd.read_csv(\"../data/user_list_lightfm.csv\")\n",
    "print(user_db_lightfm.shape)\n",
    "user_db_lightfm.head()"
   ]
  },
  {
   "cell_type": "markdown",
   "id": "2fa32308-cd75-4195-82cc-db01f167643e",
   "metadata": {},
   "source": [
    "Anilist has dirty data, where a user can have their settings on a POINT-5 or POINT-10 scale, but there are ratings higher than 5 or 10. As a result, some ratings might have been scaled wrongly during data collection so we will drop users with rating > 100 (indication that the scores were scaled wrongly)"
   ]
  },
  {
   "cell_type": "code",
   "execution_count": 30,
   "id": "1bc571d7-47e3-4fca-8931-84b5f4abad3a",
   "metadata": {},
   "outputs": [],
   "source": [
    "users_to_drop = user_db_lightfm[user_db_lightfm['rating']>100]['userId'].unique()"
   ]
  },
  {
   "cell_type": "code",
   "execution_count": 31,
   "id": "ad142d1b-8349-45af-b438-d053be7a1123",
   "metadata": {},
   "outputs": [],
   "source": [
    "user_db_lightfm = user_db_lightfm[~user_db_lightfm['userId'].isin(users_to_drop)]"
   ]
  },
  {
   "cell_type": "code",
   "execution_count": 32,
   "id": "2aba939e-f740-4af2-80c9-a14eac177bf1",
   "metadata": {},
   "outputs": [],
   "source": [
    "rated_media_id = user_db_lightfm['mediaId'].unique()\n",
    "media_ids = anime_db['id'].unique()"
   ]
  },
  {
   "cell_type": "markdown",
   "id": "c6b59124-b170-4d77-aec8-5b646d5374fe",
   "metadata": {},
   "source": [
    "As the user list we scraped is just a subset of the Anilist user base, it is normal for the user_db to not have any ratings for some animes that are inside anime_db. \n",
    "\n",
    "Since we dropped quite a few animes during the data cleaning, we will drop those animes from user_db as well."
   ]
  },
  {
   "cell_type": "code",
   "execution_count": 33,
   "id": "e76ee653-887e-4b9b-b804-30cff934c411",
   "metadata": {},
   "outputs": [],
   "source": [
    "media_id_drop_from_users = []\n",
    "media_id_drop_from_anime = []\n",
    "\n",
    "for media_id in rated_media_id:\n",
    "    if media_id not in media_ids:\n",
    "        media_id_drop_from_users.append(media_id)\n",
    "        \n",
    "for media_id in media_ids:\n",
    "    if media_id not in rated_media_id:\n",
    "        media_id_drop_from_anime.append(media_id)"
   ]
  },
  {
   "cell_type": "code",
   "execution_count": 34,
   "id": "d31e6a5c-70bf-4a33-946a-d10b1cbc4435",
   "metadata": {},
   "outputs": [],
   "source": [
    "anime_db = anime_db[~anime_db['id'].isin(media_id_drop_from_anime)]"
   ]
  },
  {
   "cell_type": "code",
   "execution_count": 35,
   "id": "39a66082-7241-4968-980e-1a8e6858031a",
   "metadata": {},
   "outputs": [],
   "source": [
    "user_db_lightfm = user_db_lightfm[~user_db_lightfm['mediaId'].isin(media_id_drop_from_users)]"
   ]
  },
  {
   "cell_type": "markdown",
   "id": "16b8e5fc-0305-4aa7-b8d4-556b96695c2b",
   "metadata": {},
   "source": [
    "## Export cleaned anime_db and anime_db_18"
   ]
  },
  {
   "cell_type": "code",
   "execution_count": 36,
   "id": "273d498f-ca5d-460e-9b42-8b9eeac0a413",
   "metadata": {},
   "outputs": [],
   "source": [
    "anime_db.to_pickle(\"../data/anime_db_cleaned.pkl\")\n",
    "anime_db_18.to_pickle(\"../data/anime_db_18_cleaned.pkl\")"
   ]
  },
  {
   "cell_type": "markdown",
   "id": "ae614241-3cd8-4ef6-b3f5-323e721e1bed",
   "metadata": {},
   "source": [
    "## EDA"
   ]
  },
  {
   "cell_type": "code",
   "execution_count": 36,
   "id": "7dc638eb-60a4-4cac-9eed-5a3b788c1ec6",
   "metadata": {},
   "outputs": [
    {
     "data": {
      "image/png": "[encoded data removed]",
      "text/plain": [
       "<Figure size 864x576 with 1 Axes>"
      ]
     },
     "metadata": {
      "needs_background": "light"
     },
     "output_type": "display_data"
    }
   ],
   "source": [
    "plt.figure(figsize=(12,8))\n",
    "plt.hist(user_db_lightfm['rating'],bins=10);"
   ]
  },
  {
   "cell_type": "code",
   "execution_count": 37,
   "id": "7973c8d0-1978-44fc-9dc7-f637d4113741",
   "metadata": {},
   "outputs": [
    {
     "data": {
      "text/plain": [
       "80     0.185641\n",
       "90     0.331654\n",
       "70     0.471551\n",
       "100    0.605392\n",
       "60     0.705472\n",
       "50     0.759831\n",
       "85     0.812390\n",
       "75     0.855194\n",
       "40     0.890604\n",
       "95     0.919183\n",
       "65     0.941056\n",
       "30     0.958902\n",
       "20     0.971131\n",
       "10     0.980687\n",
       "55     0.989018\n",
       "45     0.993323\n",
       "5      0.995952\n",
       "35     0.998154\n",
       "25     0.999341\n",
       "15     1.000000\n",
       "Name: rating, dtype: float64"
      ]
     },
     "execution_count": 37,
     "metadata": {},
     "output_type": "execute_result"
    }
   ],
   "source": [
    "user_db_lightfm['rating'].value_counts(normalize=True).cumsum()"
   ]
  },
  {
   "cell_type": "markdown",
   "id": "d6227657-fd43-44c5-8a50-65ec7167882e",
   "metadata": {},
   "source": [
    "Majority of ratings are 60-100. 75% of ratings are >= 50. This could indicate that animes would generally have a high average score as ratings are heavily skewed to the higher end. Based on domain knowledge, even terrible animes can manage a score of > 50. This could be because the general viewer may see a rating below 50 as being too harsh. Those who rate < 50 are either haters or purists"
   ]
  },
  {
   "cell_type": "code",
   "execution_count": 38,
   "id": "2e837019-89bf-4056-838e-3e9f8f5b51b3",
   "metadata": {},
   "outputs": [],
   "source": [
    "rating_counts = pd.DataFrame(data=user_db_lightfm['mediaId'].value_counts())\n",
    "rating_counts.columns = ['rating_counts']"
   ]
  },
  {
   "cell_type": "code",
   "execution_count": 39,
   "id": "420a8abc-4222-4c81-853c-8d7fca129f97",
   "metadata": {},
   "outputs": [],
   "source": [
    "top_10_popular = rating_counts.head(10).index\n",
    "least_10_popular = rating_counts.tail(10).index"
   ]
  },
  {
   "cell_type": "code",
   "execution_count": 40,
   "id": "4ca5140b-c10f-4183-ada3-fefba5d00bc7",
   "metadata": {},
   "outputs": [],
   "source": [
    "def get_ratings_count(anime_id):\n",
    "    return rating_counts.loc[anime_id]"
   ]
  },
  {
   "cell_type": "code",
   "execution_count": 41,
   "id": "b9d16628-632e-4d0b-af02-9a37024c6900",
   "metadata": {},
   "outputs": [],
   "source": [
    "anime_db['ratings_count'] = anime_db['id'].apply(get_ratings_count)"
   ]
  },
  {
   "cell_type": "code",
   "execution_count": 42,
   "id": "cbcaa7c8-a0d7-496e-8b13-5687c1071180",
   "metadata": {},
   "outputs": [
    {
     "data": {
      "text/html": [
       "<div>\n",
       "<style scoped>\n",
       "    .dataframe tbody tr th:only-of-type {\n",
       "        vertical-align: middle;\n",
       "    }\n",
       "\n",
       "    .dataframe tbody tr th {\n",
       "        vertical-align: top;\n",
       "    }\n",
       "\n",
       "    .dataframe thead th {\n",
       "        text-align: right;\n",
       "    }\n",
       "</style>\n",
       "<table border=\"1\" class=\"dataframe\">\n",
       "  <thead>\n",
       "    <tr style=\"text-align: right;\">\n",
       "      <th></th>\n",
       "      <th>id</th>\n",
       "      <th>title_romaji</th>\n",
       "      <th>title_english</th>\n",
       "      <th>averageScore</th>\n",
       "      <th>ratings_count</th>\n",
       "    </tr>\n",
       "  </thead>\n",
       "  <tbody>\n",
       "    <tr>\n",
       "      <th>6510</th>\n",
       "      <td>16498</td>\n",
       "      <td>Shingeki no Kyojin</td>\n",
       "      <td>Attack on Titan</td>\n",
       "      <td>85.0</td>\n",
       "      <td>7946</td>\n",
       "    </tr>\n",
       "    <tr>\n",
       "      <th>9510</th>\n",
       "      <td>101922</td>\n",
       "      <td>Kimetsu no Yaiba</td>\n",
       "      <td>Demon Slayer: Kimetsu no Yaiba</td>\n",
       "      <td>85.0</td>\n",
       "      <td>7231</td>\n",
       "    </tr>\n",
       "    <tr>\n",
       "      <th>8167</th>\n",
       "      <td>21459</td>\n",
       "      <td>Boku no Hero Academia</td>\n",
       "      <td>My Hero Academia</td>\n",
       "      <td>78.0</td>\n",
       "      <td>7048</td>\n",
       "    </tr>\n",
       "    <tr>\n",
       "      <th>1331</th>\n",
       "      <td>1535</td>\n",
       "      <td>DEATH NOTE</td>\n",
       "      <td>Death Note</td>\n",
       "      <td>84.0</td>\n",
       "      <td>6930</td>\n",
       "    </tr>\n",
       "    <tr>\n",
       "      <th>7877</th>\n",
       "      <td>21087</td>\n",
       "      <td>One Punch Man</td>\n",
       "      <td>One-Punch Man</td>\n",
       "      <td>83.0</td>\n",
       "      <td>6335</td>\n",
       "    </tr>\n",
       "    <tr>\n",
       "      <th>7771</th>\n",
       "      <td>20958</td>\n",
       "      <td>Shingeki no Kyojin 2</td>\n",
       "      <td>Attack on Titan Season 2</td>\n",
       "      <td>85.0</td>\n",
       "      <td>6309</td>\n",
       "    </tr>\n",
       "    <tr>\n",
       "      <th>8475</th>\n",
       "      <td>21856</td>\n",
       "      <td>Boku no Hero Academia 2</td>\n",
       "      <td>My Hero Academia Season 2</td>\n",
       "      <td>81.0</td>\n",
       "      <td>5933</td>\n",
       "    </tr>\n",
       "    <tr>\n",
       "      <th>8217</th>\n",
       "      <td>21519</td>\n",
       "      <td>Kimi no Na wa.</td>\n",
       "      <td>Your Name.</td>\n",
       "      <td>86.0</td>\n",
       "      <td>5909</td>\n",
       "    </tr>\n",
       "    <tr>\n",
       "      <th>7767</th>\n",
       "      <td>20954</td>\n",
       "      <td>Koe no Katachi</td>\n",
       "      <td>A Silent Voice</td>\n",
       "      <td>88.0</td>\n",
       "      <td>5893</td>\n",
       "    </tr>\n",
       "    <tr>\n",
       "      <th>5754</th>\n",
       "      <td>11757</td>\n",
       "      <td>Sword Art Online</td>\n",
       "      <td>Sword Art Online</td>\n",
       "      <td>69.0</td>\n",
       "      <td>5814</td>\n",
       "    </tr>\n",
       "  </tbody>\n",
       "</table>\n",
       "</div>"
      ],
      "text/plain": [
       "          id             title_romaji                   title_english  \\\n",
       "6510   16498       Shingeki no Kyojin                 Attack on Titan   \n",
       "9510  101922         Kimetsu no Yaiba  Demon Slayer: Kimetsu no Yaiba   \n",
       "8167   21459    Boku no Hero Academia                My Hero Academia   \n",
       "1331    1535               DEATH NOTE                      Death Note   \n",
       "7877   21087            One Punch Man                   One-Punch Man   \n",
       "7771   20958     Shingeki no Kyojin 2        Attack on Titan Season 2   \n",
       "8475   21856  Boku no Hero Academia 2       My Hero Academia Season 2   \n",
       "8217   21519           Kimi no Na wa.                      Your Name.   \n",
       "7767   20954           Koe no Katachi                  A Silent Voice   \n",
       "5754   11757         Sword Art Online                Sword Art Online   \n",
       "\n",
       "      averageScore  ratings_count  \n",
       "6510          85.0           7946  \n",
       "9510          85.0           7231  \n",
       "8167          78.0           7048  \n",
       "1331          84.0           6930  \n",
       "7877          83.0           6335  \n",
       "7771          85.0           6309  \n",
       "8475          81.0           5933  \n",
       "8217          86.0           5909  \n",
       "7767          88.0           5893  \n",
       "5754          69.0           5814  "
      ]
     },
     "execution_count": 42,
     "metadata": {},
     "output_type": "execute_result"
    }
   ],
   "source": [
    "anime_db[anime_db['id'].isin(top_10_popular)][['id','title_romaji','title_english','averageScore','ratings_count']].sort_values('ratings_count',ascending=False)"
   ]
  },
  {
   "cell_type": "code",
   "execution_count": 43,
   "id": "d24fd7bd-fef8-4110-acbf-d0eca36ce00d",
   "metadata": {},
   "outputs": [
    {
     "data": {
      "text/html": [
       "<div>\n",
       "<style scoped>\n",
       "    .dataframe tbody tr th:only-of-type {\n",
       "        vertical-align: middle;\n",
       "    }\n",
       "\n",
       "    .dataframe tbody tr th {\n",
       "        vertical-align: top;\n",
       "    }\n",
       "\n",
       "    .dataframe thead th {\n",
       "        text-align: right;\n",
       "    }\n",
       "</style>\n",
       "<table border=\"1\" class=\"dataframe\">\n",
       "  <thead>\n",
       "    <tr style=\"text-align: right;\">\n",
       "      <th></th>\n",
       "      <th>title_romaji</th>\n",
       "      <th>title_english</th>\n",
       "      <th>averageScore</th>\n",
       "      <th>ratings_count</th>\n",
       "    </tr>\n",
       "  </thead>\n",
       "  <tbody>\n",
       "    <tr>\n",
       "      <th>1272</th>\n",
       "      <td>Hakugei Densetsu</td>\n",
       "      <td>Hakugei: Legend of the Moby Dick</td>\n",
       "      <td>59.0</td>\n",
       "      <td>1</td>\n",
       "    </tr>\n",
       "    <tr>\n",
       "      <th>1503</th>\n",
       "      <td>Muteki Kanban Musume</td>\n",
       "      <td>Ramen Fighter Miki</td>\n",
       "      <td>64.0</td>\n",
       "      <td>1</td>\n",
       "    </tr>\n",
       "    <tr>\n",
       "      <th>1775</th>\n",
       "      <td>Armored Dragon Legend Villgust</td>\n",
       "      <td>Armored Dragon Legend Villgust</td>\n",
       "      <td>51.0</td>\n",
       "      <td>1</td>\n",
       "    </tr>\n",
       "    <tr>\n",
       "      <th>2240</th>\n",
       "      <td>Kaette Kita Doraemon</td>\n",
       "      <td>Doraemon Comes Back</td>\n",
       "      <td>61.0</td>\n",
       "      <td>1</td>\n",
       "    </tr>\n",
       "    <tr>\n",
       "      <th>2345</th>\n",
       "      <td>Igano Kabamaru</td>\n",
       "      <td>Igano Kabamaru</td>\n",
       "      <td>66.0</td>\n",
       "      <td>1</td>\n",
       "    </tr>\n",
       "    <tr>\n",
       "      <th>2493</th>\n",
       "      <td>Yumedamaya Kidan</td>\n",
       "      <td>Yumedamaya Kidan</td>\n",
       "      <td>57.0</td>\n",
       "      <td>1</td>\n",
       "    </tr>\n",
       "    <tr>\n",
       "      <th>3682</th>\n",
       "      <td>Tiger Mask Nisei</td>\n",
       "      <td>Tiger Mask Nisei</td>\n",
       "      <td>64.0</td>\n",
       "      <td>1</td>\n",
       "    </tr>\n",
       "    <tr>\n",
       "      <th>3794</th>\n",
       "      <td>11 Piki no Neko to Ahoudori</td>\n",
       "      <td>Eleven Cats and an Albatross</td>\n",
       "      <td>46.0</td>\n",
       "      <td>1</td>\n",
       "    </tr>\n",
       "    <tr>\n",
       "      <th>7390</th>\n",
       "      <td>Uchuu Kyoudai: Apo's Dream</td>\n",
       "      <td>Space Brothers: Apo's Dream</td>\n",
       "      <td>48.0</td>\n",
       "      <td>1</td>\n",
       "    </tr>\n",
       "    <tr>\n",
       "      <th>14513</th>\n",
       "      <td>Douluo Dalu: Shan Yu Yu Lai</td>\n",
       "      <td>Douluo Dalu: Shan Yu Yu Lai</td>\n",
       "      <td>75.0</td>\n",
       "      <td>1</td>\n",
       "    </tr>\n",
       "  </tbody>\n",
       "</table>\n",
       "</div>"
      ],
      "text/plain": [
       "                         title_romaji                     title_english  \\\n",
       "1272                 Hakugei Densetsu  Hakugei: Legend of the Moby Dick   \n",
       "1503             Muteki Kanban Musume                Ramen Fighter Miki   \n",
       "1775   Armored Dragon Legend Villgust    Armored Dragon Legend Villgust   \n",
       "2240             Kaette Kita Doraemon               Doraemon Comes Back   \n",
       "2345                   Igano Kabamaru                    Igano Kabamaru   \n",
       "2493                 Yumedamaya Kidan                  Yumedamaya Kidan   \n",
       "3682                 Tiger Mask Nisei                  Tiger Mask Nisei   \n",
       "3794      11 Piki no Neko to Ahoudori      Eleven Cats and an Albatross   \n",
       "7390       Uchuu Kyoudai: Apo's Dream       Space Brothers: Apo's Dream   \n",
       "14513     Douluo Dalu: Shan Yu Yu Lai       Douluo Dalu: Shan Yu Yu Lai   \n",
       "\n",
       "       averageScore  ratings_count  \n",
       "1272           59.0              1  \n",
       "1503           64.0              1  \n",
       "1775           51.0              1  \n",
       "2240           61.0              1  \n",
       "2345           66.0              1  \n",
       "2493           57.0              1  \n",
       "3682           64.0              1  \n",
       "3794           46.0              1  \n",
       "7390           48.0              1  \n",
       "14513          75.0              1  "
      ]
     },
     "execution_count": 43,
     "metadata": {},
     "output_type": "execute_result"
    }
   ],
   "source": [
    "anime_db[anime_db['id'].isin(least_10_popular)][['title_romaji','title_english','averageScore','ratings_count']]"
   ]
  },
  {
   "cell_type": "code",
   "execution_count": 44,
   "id": "decc6b9a-d3ee-4a5f-868f-0a789fed816d",
   "metadata": {},
   "outputs": [
    {
     "data": {
      "text/plain": [
       "63.971528751753155"
      ]
     },
     "execution_count": 44,
     "metadata": {},
     "output_type": "execute_result"
    }
   ],
   "source": [
    "user_db_lightfm['userId'].value_counts().mean()"
   ]
  },
  {
   "cell_type": "markdown",
   "id": "d2717d04-4aa2-449d-8b89-62585f280bfb",
   "metadata": {},
   "source": [
    "Based on the dataset, on average, a user rates about 64 animes. During the data collection, we excluded users who have less than 10 animes recorded in their Anilist account. The average number of ratings made per user is skewed. "
   ]
  },
  {
   "cell_type": "code",
   "execution_count": 45,
   "id": "b943450f-3f7a-41f9-bec1-36e43b57061b",
   "metadata": {},
   "outputs": [
    {
     "data": {
      "text/html": [
       "<div>\n",
       "<style scoped>\n",
       "    .dataframe tbody tr th:only-of-type {\n",
       "        vertical-align: middle;\n",
       "    }\n",
       "\n",
       "    .dataframe tbody tr th {\n",
       "        vertical-align: top;\n",
       "    }\n",
       "\n",
       "    .dataframe thead th {\n",
       "        text-align: right;\n",
       "    }\n",
       "</style>\n",
       "<table border=\"1\" class=\"dataframe\">\n",
       "  <thead>\n",
       "    <tr style=\"text-align: right;\">\n",
       "      <th></th>\n",
       "      <th>genre_counts</th>\n",
       "    </tr>\n",
       "  </thead>\n",
       "  <tbody>\n",
       "    <tr>\n",
       "      <th>Comedy, Slice of Life</th>\n",
       "      <td>210</td>\n",
       "    </tr>\n",
       "    <tr>\n",
       "      <th>Comedy</th>\n",
       "      <td>179</td>\n",
       "    </tr>\n",
       "    <tr>\n",
       "      <th>Action, Adventure, Fantasy</th>\n",
       "      <td>109</td>\n",
       "    </tr>\n",
       "    <tr>\n",
       "      <th>Action, Mecha, Sci-Fi</th>\n",
       "      <td>99</td>\n",
       "    </tr>\n",
       "    <tr>\n",
       "      <th>Adventure, Comedy, Fantasy</th>\n",
       "      <td>95</td>\n",
       "    </tr>\n",
       "    <tr>\n",
       "      <th>Action, Sci-Fi</th>\n",
       "      <td>95</td>\n",
       "    </tr>\n",
       "    <tr>\n",
       "      <th>Action</th>\n",
       "      <td>87</td>\n",
       "    </tr>\n",
       "    <tr>\n",
       "      <th>Comedy, Romance, Slice of Life</th>\n",
       "      <td>80</td>\n",
       "    </tr>\n",
       "    <tr>\n",
       "      <th>Comedy, Romance</th>\n",
       "      <td>80</td>\n",
       "    </tr>\n",
       "    <tr>\n",
       "      <th>Action, Fantasy</th>\n",
       "      <td>72</td>\n",
       "    </tr>\n",
       "  </tbody>\n",
       "</table>\n",
       "</div>"
      ],
      "text/plain": [
       "                                genre_counts\n",
       "Comedy, Slice of Life                    210\n",
       "Comedy                                   179\n",
       "Action, Adventure, Fantasy               109\n",
       "Action, Mecha, Sci-Fi                     99\n",
       "Adventure, Comedy, Fantasy                95\n",
       "Action, Sci-Fi                            95\n",
       "Action                                    87\n",
       "Comedy, Romance, Slice of Life            80\n",
       "Comedy, Romance                           80\n",
       "Action, Fantasy                           72"
      ]
     },
     "execution_count": 45,
     "metadata": {},
     "output_type": "execute_result"
    }
   ],
   "source": [
    "genre_counts = pd.DataFrame(data=anime_db['genres_str'].value_counts())\n",
    "genre_counts.columns = ['genre_counts']\n",
    "genre_counts.head(10)"
   ]
  },
  {
   "cell_type": "code",
   "execution_count": 46,
   "id": "8aec501f-943d-4893-bd55-65cbf3710616",
   "metadata": {},
   "outputs": [],
   "source": [
    "dummy_genres = anime_db['genres_str'].str.get_dummies(', ')\n",
    "dummy_genres.columns = \"genres_\" + (dummy_genres.columns.str.lower()).str.replace(\" \",\"_\")"
   ]
  },
  {
   "cell_type": "code",
   "execution_count": 47,
   "id": "75e84177-b051-48ef-9174-bbd76aad9b11",
   "metadata": {},
   "outputs": [],
   "source": [
    "anime_db = pd.concat([anime_db,dummy_genres],axis=1)"
   ]
  },
  {
   "cell_type": "code",
   "execution_count": 48,
   "id": "8225ae1d-2f85-402e-a17e-07206047d557",
   "metadata": {},
   "outputs": [],
   "source": [
    "genre_count = []\n",
    "\n",
    "for column in dummy_genres.columns:\n",
    "    genre_count.append(anime_db[anime_db[column]==1][column].count())"
   ]
  },
  {
   "cell_type": "code",
   "execution_count": 49,
   "id": "2ff5da50-0062-4bf3-a88b-acf6dd6ab759",
   "metadata": {},
   "outputs": [],
   "source": [
    "genres_count_df = pd.DataFrame(data=[dummy_genres.columns.values,genre_count]).T\n",
    "genres_count_df.columns = ['genre','count']"
   ]
  },
  {
   "cell_type": "code",
   "execution_count": 50,
   "id": "83e32f43-f3d6-4be6-8adf-1b4b94358360",
   "metadata": {
    "tags": []
   },
   "outputs": [
    {
     "data": {
      "text/html": [
       "<div>\n",
       "<style scoped>\n",
       "    .dataframe tbody tr th:only-of-type {\n",
       "        vertical-align: middle;\n",
       "    }\n",
       "\n",
       "    .dataframe tbody tr th {\n",
       "        vertical-align: top;\n",
       "    }\n",
       "\n",
       "    .dataframe thead th {\n",
       "        text-align: right;\n",
       "    }\n",
       "</style>\n",
       "<table border=\"1\" class=\"dataframe\">\n",
       "  <thead>\n",
       "    <tr style=\"text-align: right;\">\n",
       "      <th></th>\n",
       "      <th>genre</th>\n",
       "      <th>count</th>\n",
       "    </tr>\n",
       "  </thead>\n",
       "  <tbody>\n",
       "    <tr>\n",
       "      <th>2</th>\n",
       "      <td>genres_comedy</td>\n",
       "      <td>2694</td>\n",
       "    </tr>\n",
       "    <tr>\n",
       "      <th>0</th>\n",
       "      <td>genres_action</td>\n",
       "      <td>2477</td>\n",
       "    </tr>\n",
       "    <tr>\n",
       "      <th>3</th>\n",
       "      <td>genres_drama</td>\n",
       "      <td>1754</td>\n",
       "    </tr>\n",
       "    <tr>\n",
       "      <th>5</th>\n",
       "      <td>genres_fantasy</td>\n",
       "      <td>1657</td>\n",
       "    </tr>\n",
       "    <tr>\n",
       "      <th>1</th>\n",
       "      <td>genres_adventure</td>\n",
       "      <td>1630</td>\n",
       "    </tr>\n",
       "    <tr>\n",
       "      <th>13</th>\n",
       "      <td>genres_sci-fi</td>\n",
       "      <td>1501</td>\n",
       "    </tr>\n",
       "    <tr>\n",
       "      <th>12</th>\n",
       "      <td>genres_romance</td>\n",
       "      <td>1393</td>\n",
       "    </tr>\n",
       "    <tr>\n",
       "      <th>14</th>\n",
       "      <td>genres_slice_of_life</td>\n",
       "      <td>988</td>\n",
       "    </tr>\n",
       "    <tr>\n",
       "      <th>16</th>\n",
       "      <td>genres_supernatural</td>\n",
       "      <td>943</td>\n",
       "    </tr>\n",
       "    <tr>\n",
       "      <th>8</th>\n",
       "      <td>genres_mecha</td>\n",
       "      <td>603</td>\n",
       "    </tr>\n",
       "    <tr>\n",
       "      <th>4</th>\n",
       "      <td>genres_ecchi</td>\n",
       "      <td>598</td>\n",
       "    </tr>\n",
       "    <tr>\n",
       "      <th>10</th>\n",
       "      <td>genres_mystery</td>\n",
       "      <td>564</td>\n",
       "    </tr>\n",
       "    <tr>\n",
       "      <th>15</th>\n",
       "      <td>genres_sports</td>\n",
       "      <td>391</td>\n",
       "    </tr>\n",
       "    <tr>\n",
       "      <th>11</th>\n",
       "      <td>genres_psychological</td>\n",
       "      <td>349</td>\n",
       "    </tr>\n",
       "    <tr>\n",
       "      <th>9</th>\n",
       "      <td>genres_music</td>\n",
       "      <td>285</td>\n",
       "    </tr>\n",
       "    <tr>\n",
       "      <th>6</th>\n",
       "      <td>genres_horror</td>\n",
       "      <td>279</td>\n",
       "    </tr>\n",
       "    <tr>\n",
       "      <th>7</th>\n",
       "      <td>genres_mahou_shoujo</td>\n",
       "      <td>233</td>\n",
       "    </tr>\n",
       "    <tr>\n",
       "      <th>17</th>\n",
       "      <td>genres_thriller</td>\n",
       "      <td>140</td>\n",
       "    </tr>\n",
       "  </tbody>\n",
       "</table>\n",
       "</div>"
      ],
      "text/plain": [
       "                   genre count\n",
       "2          genres_comedy  2694\n",
       "0          genres_action  2477\n",
       "3           genres_drama  1754\n",
       "5         genres_fantasy  1657\n",
       "1       genres_adventure  1630\n",
       "13         genres_sci-fi  1501\n",
       "12        genres_romance  1393\n",
       "14  genres_slice_of_life   988\n",
       "16   genres_supernatural   943\n",
       "8           genres_mecha   603\n",
       "4           genres_ecchi   598\n",
       "10        genres_mystery   564\n",
       "15         genres_sports   391\n",
       "11  genres_psychological   349\n",
       "9           genres_music   285\n",
       "6          genres_horror   279\n",
       "7    genres_mahou_shoujo   233\n",
       "17       genres_thriller   140"
      ]
     },
     "execution_count": 50,
     "metadata": {},
     "output_type": "execute_result"
    }
   ],
   "source": [
    "genres_count_df.sort_values('count',ascending=False)"
   ]
  },
  {
   "cell_type": "code",
   "execution_count": null,
   "id": "7dd537a7-bbb5-4cc6-8373-e8bef2a78cd9",
   "metadata": {},
   "outputs": [],
   "source": []
  },
  {
   "cell_type": "markdown",
   "id": "00689051-fd1e-4857-876f-bf022d4e5536",
   "metadata": {},
   "source": [
    "## Exports"
   ]
  },
  {
   "cell_type": "markdown",
   "id": "0232ae35-7813-4217-bd35-0411f5444bbd",
   "metadata": {},
   "source": [
    "### Export anime id and titles mapping"
   ]
  },
  {
   "cell_type": "markdown",
   "id": "49af79ee-8ce6-42b0-9ceb-6edeec230445",
   "metadata": {},
   "source": [
    "For mapping model predictions to a title"
   ]
  },
  {
   "cell_type": "code",
   "execution_count": 42,
   "id": "b32105ef-acc6-4cd1-98e4-a8636e92730f",
   "metadata": {},
   "outputs": [
    {
     "data": {
      "text/html": [
       "<div>\n",
       "<style scoped>\n",
       "    .dataframe tbody tr th:only-of-type {\n",
       "        vertical-align: middle;\n",
       "    }\n",
       "\n",
       "    .dataframe tbody tr th {\n",
       "        vertical-align: top;\n",
       "    }\n",
       "\n",
       "    .dataframe thead th {\n",
       "        text-align: right;\n",
       "    }\n",
       "</style>\n",
       "<table border=\"1\" class=\"dataframe\">\n",
       "  <thead>\n",
       "    <tr style=\"text-align: right;\">\n",
       "      <th></th>\n",
       "      <th>id</th>\n",
       "      <th>title_romaji</th>\n",
       "      <th>title_english</th>\n",
       "      <th>relations</th>\n",
       "      <th>genres</th>\n",
       "    </tr>\n",
       "  </thead>\n",
       "  <tbody>\n",
       "    <tr>\n",
       "      <th>0</th>\n",
       "      <td>1</td>\n",
       "      <td>Cowboy Bebop</td>\n",
       "      <td>Cowboy Bebop</td>\n",
       "      <td>[5, 17205, 4037]</td>\n",
       "      <td>[Action, Adventure, Drama, Sci-Fi]</td>\n",
       "    </tr>\n",
       "    <tr>\n",
       "      <th>1</th>\n",
       "      <td>5</td>\n",
       "      <td>Cowboy Bebop: Tengoku no Tobira</td>\n",
       "      <td>Cowboy Bebop: The Movie - Knockin' on Heaven's...</td>\n",
       "      <td>[1]</td>\n",
       "      <td>[Action, Drama, Mystery, Sci-Fi]</td>\n",
       "    </tr>\n",
       "    <tr>\n",
       "      <th>2</th>\n",
       "      <td>6</td>\n",
       "      <td>TRIGUN</td>\n",
       "      <td>Trigun</td>\n",
       "      <td>[4106]</td>\n",
       "      <td>[Action, Adventure, Comedy, Drama, Sci-Fi]</td>\n",
       "    </tr>\n",
       "    <tr>\n",
       "      <th>3</th>\n",
       "      <td>7</td>\n",
       "      <td>Witch Hunter ROBIN</td>\n",
       "      <td>Witch Hunter ROBIN</td>\n",
       "      <td>None</td>\n",
       "      <td>[Action, Drama, Mystery, Supernatural]</td>\n",
       "    </tr>\n",
       "    <tr>\n",
       "      <th>4</th>\n",
       "      <td>8</td>\n",
       "      <td>Bouken Ou Beet</td>\n",
       "      <td>Beet the Vandel Buster</td>\n",
       "      <td>[1123]</td>\n",
       "      <td>[Adventure, Fantasy, Supernatural]</td>\n",
       "    </tr>\n",
       "  </tbody>\n",
       "</table>\n",
       "</div>"
      ],
      "text/plain": [
       "   id                     title_romaji  \\\n",
       "0   1                     Cowboy Bebop   \n",
       "1   5  Cowboy Bebop: Tengoku no Tobira   \n",
       "2   6                           TRIGUN   \n",
       "3   7               Witch Hunter ROBIN   \n",
       "4   8                   Bouken Ou Beet   \n",
       "\n",
       "                                       title_english         relations  \\\n",
       "0                                       Cowboy Bebop  [5, 17205, 4037]   \n",
       "1  Cowboy Bebop: The Movie - Knockin' on Heaven's...               [1]   \n",
       "2                                             Trigun            [4106]   \n",
       "3                                 Witch Hunter ROBIN              None   \n",
       "4                             Beet the Vandel Buster            [1123]   \n",
       "\n",
       "                                       genres  \n",
       "0          [Action, Adventure, Drama, Sci-Fi]  \n",
       "1            [Action, Drama, Mystery, Sci-Fi]  \n",
       "2  [Action, Adventure, Comedy, Drama, Sci-Fi]  \n",
       "3      [Action, Drama, Mystery, Supernatural]  \n",
       "4          [Adventure, Fantasy, Supernatural]  "
      ]
     },
     "execution_count": 42,
     "metadata": {},
     "output_type": "execute_result"
    }
   ],
   "source": [
    "anime_db_id_titles = anime_db[['id','title_romaji','title_english','relations','genres']]\n",
    "anime_db_id_titles.head()"
   ]
  },
  {
   "cell_type": "code",
   "execution_count": 43,
   "id": "2d41b902-0c21-4822-ba38-d7f578c77ece",
   "metadata": {},
   "outputs": [],
   "source": [
    "id_genre_dict = anime_db_id_titles[['id','genres']]"
   ]
  },
  {
   "cell_type": "code",
   "execution_count": 44,
   "id": "9ed2099f-3c0e-4812-b91d-383d8c5131ee",
   "metadata": {},
   "outputs": [],
   "source": [
    "id_genre_dict.set_index('id',inplace=True)\n",
    "id_genre_dict = id_genre_dict.to_dict()"
   ]
  },
  {
   "cell_type": "code",
   "execution_count": 46,
   "id": "813baa8f-d9a5-49cf-9ad6-8c968f23cb26",
   "metadata": {},
   "outputs": [],
   "source": [
    "id_genre_dict = id_genre_dict['genres']"
   ]
  },
  {
   "cell_type": "code",
   "execution_count": 47,
   "id": "16f8a0bd-e35d-4387-b6a7-2b3ab5ccf910",
   "metadata": {},
   "outputs": [
    {
     "data": {
      "text/html": [
       "<div>\n",
       "<style scoped>\n",
       "    .dataframe tbody tr th:only-of-type {\n",
       "        vertical-align: middle;\n",
       "    }\n",
       "\n",
       "    .dataframe tbody tr th {\n",
       "        vertical-align: top;\n",
       "    }\n",
       "\n",
       "    .dataframe thead th {\n",
       "        text-align: right;\n",
       "    }\n",
       "</style>\n",
       "<table border=\"1\" class=\"dataframe\">\n",
       "  <thead>\n",
       "    <tr style=\"text-align: right;\">\n",
       "      <th></th>\n",
       "      <th>id</th>\n",
       "      <th>title_romaji</th>\n",
       "      <th>title_english</th>\n",
       "      <th>relations</th>\n",
       "      <th>genres</th>\n",
       "    </tr>\n",
       "  </thead>\n",
       "  <tbody>\n",
       "    <tr>\n",
       "      <th>0</th>\n",
       "      <td>188</td>\n",
       "      <td>Gosenzo San'e</td>\n",
       "      <td>Masquerade</td>\n",
       "      <td>[4561]</td>\n",
       "      <td>[Comedy, Hentai, Mystery, Supernatural]</td>\n",
       "    </tr>\n",
       "    <tr>\n",
       "      <th>1</th>\n",
       "      <td>203</td>\n",
       "      <td>Words Worth</td>\n",
       "      <td>Words Worth</td>\n",
       "      <td>[2185, 125574]</td>\n",
       "      <td>[Adventure, Fantasy, Hentai]</td>\n",
       "    </tr>\n",
       "    <tr>\n",
       "      <th>2</th>\n",
       "      <td>211</td>\n",
       "      <td>Pure Mail</td>\n",
       "      <td>Pure Mail</td>\n",
       "      <td>None</td>\n",
       "      <td>[Hentai]</td>\n",
       "    </tr>\n",
       "    <tr>\n",
       "      <th>3</th>\n",
       "      <td>213</td>\n",
       "      <td>Pia Carrot e Youkoso!!</td>\n",
       "      <td>Welcome to Pia Carrot</td>\n",
       "      <td>[214, 215]</td>\n",
       "      <td>[Comedy, Hentai, Romance]</td>\n",
       "    </tr>\n",
       "    <tr>\n",
       "      <th>4</th>\n",
       "      <td>214</td>\n",
       "      <td>Pia Carrot e Youkoso!! 2</td>\n",
       "      <td>Welcome To Pia Carrot 2</td>\n",
       "      <td>[213, 215]</td>\n",
       "      <td>[Comedy, Drama, Hentai, Romance]</td>\n",
       "    </tr>\n",
       "  </tbody>\n",
       "</table>\n",
       "</div>"
      ],
      "text/plain": [
       "    id              title_romaji            title_english       relations  \\\n",
       "0  188             Gosenzo San'e               Masquerade          [4561]   \n",
       "1  203               Words Worth              Words Worth  [2185, 125574]   \n",
       "2  211                 Pure Mail                Pure Mail            None   \n",
       "3  213    Pia Carrot e Youkoso!!    Welcome to Pia Carrot      [214, 215]   \n",
       "4  214  Pia Carrot e Youkoso!! 2  Welcome To Pia Carrot 2      [213, 215]   \n",
       "\n",
       "                                    genres  \n",
       "0  [Comedy, Hentai, Mystery, Supernatural]  \n",
       "1             [Adventure, Fantasy, Hentai]  \n",
       "2                                 [Hentai]  \n",
       "3                [Comedy, Hentai, Romance]  \n",
       "4         [Comedy, Drama, Hentai, Romance]  "
      ]
     },
     "execution_count": 47,
     "metadata": {},
     "output_type": "execute_result"
    }
   ],
   "source": [
    "anime_db_18_id_titles = anime_db_18[['id','title_romaji','title_english','relations','genres']]\n",
    "anime_db_18_id_titles.head()"
   ]
  },
  {
   "cell_type": "code",
   "execution_count": 48,
   "id": "595839b6-ac5d-4765-8a06-3f46072bd2e0",
   "metadata": {},
   "outputs": [],
   "source": [
    "anime_db_id_mapping = pd.concat([anime_db_id_titles,anime_db_18_id_titles])"
   ]
  },
  {
   "cell_type": "code",
   "execution_count": 49,
   "id": "88b73cec-1cd8-4eac-abfd-5b4fe4f724a9",
   "metadata": {},
   "outputs": [],
   "source": [
    "anime_db_id_mapping.to_pickle(\"../data/anime_id_mapping.pkl\")"
   ]
  },
  {
   "cell_type": "markdown",
   "id": "2cee2ee5-523b-475e-8ede-20b22ee2c7fe",
   "metadata": {},
   "source": [
    "### Export data for modelling"
   ]
  },
  {
   "cell_type": "code",
   "execution_count": 51,
   "id": "194c33e3-0c00-4149-a624-84130c8c8432",
   "metadata": {},
   "outputs": [],
   "source": [
    "user_db_lightfm['genres'] = user_db_lightfm['mediaId'].map(id_genre_dict)"
   ]
  },
  {
   "cell_type": "code",
   "execution_count": 54,
   "id": "18951e80-822a-4a28-b7fe-68ba6fcc82e5",
   "metadata": {},
   "outputs": [],
   "source": [
    "user_db_lightfm.to_pickle('../data/user_db_lightfm_genres.pkl')"
   ]
  },
  {
   "cell_type": "markdown",
   "id": "bf79d086-91b7-40c2-8f36-6cb39801b7d9",
   "metadata": {},
   "source": [
    "### Export titles"
   ]
  },
  {
   "cell_type": "markdown",
   "id": "7877430c-3069-4f4b-9e88-7903d1e67ac8",
   "metadata": {},
   "source": [
    "For the webapp drop-down list"
   ]
  },
  {
   "cell_type": "code",
   "execution_count": 167,
   "id": "7f41ce17-3d52-49db-a213-0a39e6d1d666",
   "metadata": {},
   "outputs": [
    {
     "data": {
      "text/html": [
       "<div>\n",
       "<style scoped>\n",
       "    .dataframe tbody tr th:only-of-type {\n",
       "        vertical-align: middle;\n",
       "    }\n",
       "\n",
       "    .dataframe tbody tr th {\n",
       "        vertical-align: top;\n",
       "    }\n",
       "\n",
       "    .dataframe thead th {\n",
       "        text-align: right;\n",
       "    }\n",
       "</style>\n",
       "<table border=\"1\" class=\"dataframe\">\n",
       "  <thead>\n",
       "    <tr style=\"text-align: right;\">\n",
       "      <th></th>\n",
       "      <th>id</th>\n",
       "      <th>title_romaji</th>\n",
       "      <th>title_english</th>\n",
       "      <th>relations</th>\n",
       "      <th>genres</th>\n",
       "      <th>all_relations</th>\n",
       "      <th>series_id</th>\n",
       "      <th>series_title_romaji</th>\n",
       "      <th>series_title_english</th>\n",
       "    </tr>\n",
       "  </thead>\n",
       "  <tbody>\n",
       "    <tr>\n",
       "      <th>8966</th>\n",
       "      <td>99147</td>\n",
       "      <td>Shingeki no Kyojin 3</td>\n",
       "      <td>Attack on Titan Season 3</td>\n",
       "      <td>[20958, 104578, 119113, 99634]</td>\n",
       "      <td>[Action, Drama, Fantasy, Mystery]</td>\n",
       "      <td>[99147, 20958, 104578, 119113, 99634]</td>\n",
       "      <td>20958</td>\n",
       "      <td>Shingeki no Kyojin 2</td>\n",
       "      <td>Attack on Titan Season 2</td>\n",
       "    </tr>\n",
       "  </tbody>\n",
       "</table>\n",
       "</div>"
      ],
      "text/plain": [
       "         id          title_romaji             title_english  \\\n",
       "8966  99147  Shingeki no Kyojin 3  Attack on Titan Season 3   \n",
       "\n",
       "                           relations                             genres  \\\n",
       "8966  [20958, 104578, 119113, 99634]  [Action, Drama, Fantasy, Mystery]   \n",
       "\n",
       "                              all_relations  series_id   series_title_romaji  \\\n",
       "8966  [99147, 20958, 104578, 119113, 99634]      20958  Shingeki no Kyojin 2   \n",
       "\n",
       "          series_title_english  \n",
       "8966  Attack on Titan Season 2  "
      ]
     },
     "execution_count": 167,
     "metadata": {},
     "output_type": "execute_result"
    }
   ],
   "source": [
    "anime_db_id_mapping[anime_db_id_mapping['title_romaji']==\"Shingeki no Kyojin 3\"]"
   ]
  },
  {
   "cell_type": "code",
   "execution_count": 73,
   "id": "5c580e1f-7501-4271-9888-f4b455b54051",
   "metadata": {},
   "outputs": [
    {
     "data": {
      "text/html": [
       "<div>\n",
       "<style scoped>\n",
       "    .dataframe tbody tr th:only-of-type {\n",
       "        vertical-align: middle;\n",
       "    }\n",
       "\n",
       "    .dataframe tbody tr th {\n",
       "        vertical-align: top;\n",
       "    }\n",
       "\n",
       "    .dataframe thead th {\n",
       "        text-align: right;\n",
       "    }\n",
       "</style>\n",
       "<table border=\"1\" class=\"dataframe\">\n",
       "  <thead>\n",
       "    <tr style=\"text-align: right;\">\n",
       "      <th></th>\n",
       "      <th>id</th>\n",
       "      <th>title_romaji</th>\n",
       "      <th>title_english</th>\n",
       "      <th>relations</th>\n",
       "      <th>genres</th>\n",
       "    </tr>\n",
       "  </thead>\n",
       "  <tbody>\n",
       "    <tr>\n",
       "      <th>0</th>\n",
       "      <td>1</td>\n",
       "      <td>Cowboy Bebop</td>\n",
       "      <td>Cowboy Bebop</td>\n",
       "      <td>[5, 17205, 4037]</td>\n",
       "      <td>[Action, Adventure, Drama, Sci-Fi]</td>\n",
       "    </tr>\n",
       "    <tr>\n",
       "      <th>1</th>\n",
       "      <td>5</td>\n",
       "      <td>Cowboy Bebop: Tengoku no Tobira</td>\n",
       "      <td>Cowboy Bebop: The Movie - Knockin' on Heaven's...</td>\n",
       "      <td>[1]</td>\n",
       "      <td>[Action, Drama, Mystery, Sci-Fi]</td>\n",
       "    </tr>\n",
       "    <tr>\n",
       "      <th>2</th>\n",
       "      <td>6</td>\n",
       "      <td>TRIGUN</td>\n",
       "      <td>Trigun</td>\n",
       "      <td>[4106]</td>\n",
       "      <td>[Action, Adventure, Comedy, Drama, Sci-Fi]</td>\n",
       "    </tr>\n",
       "    <tr>\n",
       "      <th>4</th>\n",
       "      <td>8</td>\n",
       "      <td>Bouken Ou Beet</td>\n",
       "      <td>Beet the Vandel Buster</td>\n",
       "      <td>[1123]</td>\n",
       "      <td>[Adventure, Fantasy, Supernatural]</td>\n",
       "    </tr>\n",
       "    <tr>\n",
       "      <th>5</th>\n",
       "      <td>15</td>\n",
       "      <td>Eyeshield 21</td>\n",
       "      <td>Eyeshield 21</td>\n",
       "      <td>[1317, 6418]</td>\n",
       "      <td>[Action, Comedy, Sports]</td>\n",
       "    </tr>\n",
       "    <tr>\n",
       "      <th>...</th>\n",
       "      <td>...</td>\n",
       "      <td>...</td>\n",
       "      <td>...</td>\n",
       "      <td>...</td>\n",
       "      <td>...</td>\n",
       "    </tr>\n",
       "    <tr>\n",
       "      <th>1386</th>\n",
       "      <td>132209</td>\n",
       "      <td>Kuroinu II The Animation</td>\n",
       "      <td>Kuroinu II The Animation</td>\n",
       "      <td>[11827]</td>\n",
       "      <td>[Fantasy, Hentai, Sci-Fi]</td>\n",
       "    </tr>\n",
       "    <tr>\n",
       "      <th>1400</th>\n",
       "      <td>137799</td>\n",
       "      <td>Zoku Oujo &amp; Onna Kishi W Dogehin Roshutsu: Chi...</td>\n",
       "      <td>Zoku Oujo &amp; Onna Kishi W Dogehin Roshutsu: Chi...</td>\n",
       "      <td>[119491]</td>\n",
       "      <td>[Fantasy, Hentai]</td>\n",
       "    </tr>\n",
       "    <tr>\n",
       "      <th>1404</th>\n",
       "      <td>138411</td>\n",
       "      <td>Mama x Holic: Miwaku no Mama to Ama Ama Kankei...</td>\n",
       "      <td>Mama x Holic: Miwaku no Mama to Ama Ama Kankei...</td>\n",
       "      <td>[111320]</td>\n",
       "      <td>[Hentai]</td>\n",
       "    </tr>\n",
       "    <tr>\n",
       "      <th>1415</th>\n",
       "      <td>140788</td>\n",
       "      <td>Taimanin Shiranui: Inyoku no Dorei Shoufu</td>\n",
       "      <td>Taimanin Shiranui: Inyoku no Dorei Shoufu</td>\n",
       "      <td>[20860]</td>\n",
       "      <td>[Hentai]</td>\n",
       "    </tr>\n",
       "    <tr>\n",
       "      <th>1424</th>\n",
       "      <td>143264</td>\n",
       "      <td>Shin Injuu Gakuen La☆Blue Girl</td>\n",
       "      <td>La Blue Girl</td>\n",
       "      <td>[1274, 1272]</td>\n",
       "      <td>[Hentai]</td>\n",
       "    </tr>\n",
       "  </tbody>\n",
       "</table>\n",
       "<p>6443 rows × 5 columns</p>\n",
       "</div>"
      ],
      "text/plain": [
       "          id                                       title_romaji  \\\n",
       "0          1                                       Cowboy Bebop   \n",
       "1          5                    Cowboy Bebop: Tengoku no Tobira   \n",
       "2          6                                             TRIGUN   \n",
       "4          8                                     Bouken Ou Beet   \n",
       "5         15                                       Eyeshield 21   \n",
       "...      ...                                                ...   \n",
       "1386  132209                           Kuroinu II The Animation   \n",
       "1400  137799  Zoku Oujo & Onna Kishi W Dogehin Roshutsu: Chi...   \n",
       "1404  138411  Mama x Holic: Miwaku no Mama to Ama Ama Kankei...   \n",
       "1415  140788          Taimanin Shiranui: Inyoku no Dorei Shoufu   \n",
       "1424  143264                     Shin Injuu Gakuen La☆Blue Girl   \n",
       "\n",
       "                                          title_english         relations  \\\n",
       "0                                          Cowboy Bebop  [5, 17205, 4037]   \n",
       "1     Cowboy Bebop: The Movie - Knockin' on Heaven's...               [1]   \n",
       "2                                                Trigun            [4106]   \n",
       "4                                Beet the Vandel Buster            [1123]   \n",
       "5                                          Eyeshield 21      [1317, 6418]   \n",
       "...                                                 ...               ...   \n",
       "1386                           Kuroinu II The Animation           [11827]   \n",
       "1400  Zoku Oujo & Onna Kishi W Dogehin Roshutsu: Chi...          [119491]   \n",
       "1404  Mama x Holic: Miwaku no Mama to Ama Ama Kankei...          [111320]   \n",
       "1415          Taimanin Shiranui: Inyoku no Dorei Shoufu           [20860]   \n",
       "1424                                       La Blue Girl      [1274, 1272]   \n",
       "\n",
       "                                          genres  \n",
       "0             [Action, Adventure, Drama, Sci-Fi]  \n",
       "1               [Action, Drama, Mystery, Sci-Fi]  \n",
       "2     [Action, Adventure, Comedy, Drama, Sci-Fi]  \n",
       "4             [Adventure, Fantasy, Supernatural]  \n",
       "5                       [Action, Comedy, Sports]  \n",
       "...                                          ...  \n",
       "1386                   [Fantasy, Hentai, Sci-Fi]  \n",
       "1400                           [Fantasy, Hentai]  \n",
       "1404                                    [Hentai]  \n",
       "1415                                    [Hentai]  \n",
       "1424                                    [Hentai]  \n",
       "\n",
       "[6443 rows x 5 columns]"
      ]
     },
     "execution_count": 73,
     "metadata": {},
     "output_type": "execute_result"
    }
   ],
   "source": [
    "anime_db_id_mapping[~anime_db_id_mapping['relations'].isna()]"
   ]
  },
  {
   "cell_type": "code",
   "execution_count": 136,
   "id": "019dedb7-4a07-487f-9d15-0476adfdf015",
   "metadata": {},
   "outputs": [],
   "source": [
    "anime_db_id_mapping['all_relations'] = anime_db_id_mapping['id'].apply(convert_to_list) + anime_db_id_mapping['relations']"
   ]
  },
  {
   "cell_type": "code",
   "execution_count": 154,
   "id": "895b2e86-17bb-45d2-8267-7435e132fbbb",
   "metadata": {},
   "outputs": [],
   "source": [
    "def get_series_id(data_row,df):\n",
    "    if data_row is np.nan or data_row is None:\n",
    "        return None\n",
    "    relation_ids = [int(x) for x in data_row]\n",
    "    relation_ids.sort()\n",
    "    for relation_id in relation_ids:\n",
    "        if len(df[df['id']==relation_id]['title_romaji']!=0) or len(df[df['id']==relation_id]['title_english']!=0):\n",
    "            return relation_id\n",
    "    \n",
    "    return None"
   ]
  },
  {
   "cell_type": "code",
   "execution_count": 138,
   "id": "19a664c1-bee2-426c-9ac4-e4161911f0fc",
   "metadata": {},
   "outputs": [
    {
     "data": {
      "text/html": [
       "<div>\n",
       "<style scoped>\n",
       "    .dataframe tbody tr th:only-of-type {\n",
       "        vertical-align: middle;\n",
       "    }\n",
       "\n",
       "    .dataframe tbody tr th {\n",
       "        vertical-align: top;\n",
       "    }\n",
       "\n",
       "    .dataframe thead th {\n",
       "        text-align: right;\n",
       "    }\n",
       "</style>\n",
       "<table border=\"1\" class=\"dataframe\">\n",
       "  <thead>\n",
       "    <tr style=\"text-align: right;\">\n",
       "      <th></th>\n",
       "      <th>id</th>\n",
       "      <th>title_romaji</th>\n",
       "      <th>title_english</th>\n",
       "      <th>relations</th>\n",
       "      <th>genres</th>\n",
       "      <th>all_relations</th>\n",
       "      <th>series_id</th>\n",
       "    </tr>\n",
       "  </thead>\n",
       "  <tbody>\n",
       "    <tr>\n",
       "      <th>0</th>\n",
       "      <td>1</td>\n",
       "      <td>Cowboy Bebop</td>\n",
       "      <td>Cowboy Bebop</td>\n",
       "      <td>[5, 17205, 4037]</td>\n",
       "      <td>[Action, Adventure, Drama, Sci-Fi]</td>\n",
       "      <td>[1, 5, 17205, 4037]</td>\n",
       "      <td></td>\n",
       "    </tr>\n",
       "    <tr>\n",
       "      <th>1</th>\n",
       "      <td>5</td>\n",
       "      <td>Cowboy Bebop: Tengoku no Tobira</td>\n",
       "      <td>Cowboy Bebop: The Movie - Knockin' on Heaven's...</td>\n",
       "      <td>[1]</td>\n",
       "      <td>[Action, Drama, Mystery, Sci-Fi]</td>\n",
       "      <td>[5, 1]</td>\n",
       "      <td></td>\n",
       "    </tr>\n",
       "    <tr>\n",
       "      <th>2</th>\n",
       "      <td>6</td>\n",
       "      <td>TRIGUN</td>\n",
       "      <td>Trigun</td>\n",
       "      <td>[4106]</td>\n",
       "      <td>[Action, Adventure, Comedy, Drama, Sci-Fi]</td>\n",
       "      <td>[6, 4106]</td>\n",
       "      <td></td>\n",
       "    </tr>\n",
       "    <tr>\n",
       "      <th>3</th>\n",
       "      <td>7</td>\n",
       "      <td>Witch Hunter ROBIN</td>\n",
       "      <td>Witch Hunter ROBIN</td>\n",
       "      <td>None</td>\n",
       "      <td>[Action, Drama, Mystery, Supernatural]</td>\n",
       "      <td>NaN</td>\n",
       "      <td></td>\n",
       "    </tr>\n",
       "    <tr>\n",
       "      <th>4</th>\n",
       "      <td>8</td>\n",
       "      <td>Bouken Ou Beet</td>\n",
       "      <td>Beet the Vandel Buster</td>\n",
       "      <td>[1123]</td>\n",
       "      <td>[Adventure, Fantasy, Supernatural]</td>\n",
       "      <td>[8, 1123]</td>\n",
       "      <td></td>\n",
       "    </tr>\n",
       "    <tr>\n",
       "      <th>...</th>\n",
       "      <td>...</td>\n",
       "      <td>...</td>\n",
       "      <td>...</td>\n",
       "      <td>...</td>\n",
       "      <td>...</td>\n",
       "      <td>...</td>\n",
       "      <td>...</td>\n",
       "    </tr>\n",
       "    <tr>\n",
       "      <th>1419</th>\n",
       "      <td>142117</td>\n",
       "      <td>Kimi wa Yasashiku Netorareru The Animation</td>\n",
       "      <td>Kimi wa Yasashiku Netorareru The Animation</td>\n",
       "      <td>None</td>\n",
       "      <td>[Hentai]</td>\n",
       "      <td>NaN</td>\n",
       "      <td></td>\n",
       "    </tr>\n",
       "    <tr>\n",
       "      <th>1421</th>\n",
       "      <td>142229</td>\n",
       "      <td>Eroriman</td>\n",
       "      <td>Eroriman</td>\n",
       "      <td>None</td>\n",
       "      <td>[Hentai]</td>\n",
       "      <td>NaN</td>\n",
       "      <td></td>\n",
       "    </tr>\n",
       "    <tr>\n",
       "      <th>1423</th>\n",
       "      <td>143118</td>\n",
       "      <td>Kemonokko Tsuushin: The Animation</td>\n",
       "      <td>Kemonokko Tsuushin: The Animation</td>\n",
       "      <td>None</td>\n",
       "      <td>[Hentai]</td>\n",
       "      <td>NaN</td>\n",
       "      <td></td>\n",
       "    </tr>\n",
       "    <tr>\n",
       "      <th>1424</th>\n",
       "      <td>143264</td>\n",
       "      <td>Shin Injuu Gakuen La☆Blue Girl</td>\n",
       "      <td>La Blue Girl</td>\n",
       "      <td>[1274, 1272]</td>\n",
       "      <td>[Hentai]</td>\n",
       "      <td>[143264, 1274, 1272]</td>\n",
       "      <td></td>\n",
       "    </tr>\n",
       "    <tr>\n",
       "      <th>1427</th>\n",
       "      <td>144713</td>\n",
       "      <td>Na Bbeun Sang Sa</td>\n",
       "      <td>Na Bbeun Sang Sa</td>\n",
       "      <td>None</td>\n",
       "      <td>[Drama, Hentai, Romance, Slice of Life, Thriller]</td>\n",
       "      <td>NaN</td>\n",
       "      <td></td>\n",
       "    </tr>\n",
       "  </tbody>\n",
       "</table>\n",
       "<p>10886 rows × 7 columns</p>\n",
       "</div>"
      ],
      "text/plain": [
       "          id                                title_romaji  \\\n",
       "0          1                                Cowboy Bebop   \n",
       "1          5             Cowboy Bebop: Tengoku no Tobira   \n",
       "2          6                                      TRIGUN   \n",
       "3          7                          Witch Hunter ROBIN   \n",
       "4          8                              Bouken Ou Beet   \n",
       "...      ...                                         ...   \n",
       "1419  142117  Kimi wa Yasashiku Netorareru The Animation   \n",
       "1421  142229                                    Eroriman   \n",
       "1423  143118           Kemonokko Tsuushin: The Animation   \n",
       "1424  143264              Shin Injuu Gakuen La☆Blue Girl   \n",
       "1427  144713                            Na Bbeun Sang Sa   \n",
       "\n",
       "                                          title_english         relations  \\\n",
       "0                                          Cowboy Bebop  [5, 17205, 4037]   \n",
       "1     Cowboy Bebop: The Movie - Knockin' on Heaven's...               [1]   \n",
       "2                                                Trigun            [4106]   \n",
       "3                                    Witch Hunter ROBIN              None   \n",
       "4                                Beet the Vandel Buster            [1123]   \n",
       "...                                                 ...               ...   \n",
       "1419         Kimi wa Yasashiku Netorareru The Animation              None   \n",
       "1421                                           Eroriman              None   \n",
       "1423                  Kemonokko Tsuushin: The Animation              None   \n",
       "1424                                       La Blue Girl      [1274, 1272]   \n",
       "1427                                   Na Bbeun Sang Sa              None   \n",
       "\n",
       "                                                 genres         all_relations  \\\n",
       "0                    [Action, Adventure, Drama, Sci-Fi]   [1, 5, 17205, 4037]   \n",
       "1                      [Action, Drama, Mystery, Sci-Fi]                [5, 1]   \n",
       "2            [Action, Adventure, Comedy, Drama, Sci-Fi]             [6, 4106]   \n",
       "3                [Action, Drama, Mystery, Supernatural]                   NaN   \n",
       "4                    [Adventure, Fantasy, Supernatural]             [8, 1123]   \n",
       "...                                                 ...                   ...   \n",
       "1419                                           [Hentai]                   NaN   \n",
       "1421                                           [Hentai]                   NaN   \n",
       "1423                                           [Hentai]                   NaN   \n",
       "1424                                           [Hentai]  [143264, 1274, 1272]   \n",
       "1427  [Drama, Hentai, Romance, Slice of Life, Thriller]                   NaN   \n",
       "\n",
       "     series_id  \n",
       "0               \n",
       "1               \n",
       "2               \n",
       "3               \n",
       "4               \n",
       "...        ...  \n",
       "1419            \n",
       "1421            \n",
       "1423            \n",
       "1424            \n",
       "1427            \n",
       "\n",
       "[10886 rows x 7 columns]"
      ]
     },
     "execution_count": 138,
     "metadata": {},
     "output_type": "execute_result"
    }
   ],
   "source": [
    "anime_db_id_mapping"
   ]
  },
  {
   "cell_type": "code",
   "execution_count": 155,
   "id": "1a2e41eb-3c9a-4ad9-a60c-327d2050a729",
   "metadata": {},
   "outputs": [],
   "source": [
    "anime_db_id_mapping['series_id'] = anime_db_id_mapping['all_relations'].apply(get_series_id,args=(anime_db_id_mapping,))\n",
    "anime_db_id_mapping['series_id'].fillna(anime_db_id_mapping['id'],inplace=True)"
   ]
  },
  {
   "cell_type": "code",
   "execution_count": 156,
   "id": "72eb8b05-1345-4e21-b4be-ee0bcfd9ff1d",
   "metadata": {},
   "outputs": [],
   "source": [
    "anime_db_id_mapping['series_id'] = anime_db_id_mapping['series_id'].astype(np.int64)"
   ]
  },
  {
   "cell_type": "code",
   "execution_count": 161,
   "id": "3d8636ed-92b2-4d18-a53b-832e6d259edd",
   "metadata": {},
   "outputs": [],
   "source": [
    "def get_series_title_romaji(series_id, df):    \n",
    "    return df[df['id']==series_id]['title_romaji'].values[0]"
   ]
  },
  {
   "cell_type": "code",
   "execution_count": 162,
   "id": "8e609995-db6a-46fe-b33b-c7b9edf7d1b2",
   "metadata": {},
   "outputs": [],
   "source": [
    "def get_series_title_english(series_id, df):    \n",
    "    return df[df['id']==series_id]['title_english'].values[0]"
   ]
  },
  {
   "cell_type": "code",
   "execution_count": 163,
   "id": "41b4b84a-ca41-468f-8154-8bb823832bcd",
   "metadata": {
    "scrolled": true,
    "tags": []
   },
   "outputs": [],
   "source": [
    "anime_db_id_mapping['series_title_romaji'] = anime_db_id_mapping['series_id'].apply(get_series_title_romaji,args=(anime_db_id_mapping,))\n",
    "anime_db_id_mapping['series_title_english'] = anime_db_id_mapping['series_id'].apply(get_series_title_english,args=(anime_db_id_mapping,))"
   ]
  },
  {
   "cell_type": "code",
   "execution_count": 166,
   "id": "21d4dcfd-b4e9-4329-ae6d-abef0b77c376",
   "metadata": {},
   "outputs": [
    {
     "data": {
      "text/html": [
       "<div>\n",
       "<style scoped>\n",
       "    .dataframe tbody tr th:only-of-type {\n",
       "        vertical-align: middle;\n",
       "    }\n",
       "\n",
       "    .dataframe tbody tr th {\n",
       "        vertical-align: top;\n",
       "    }\n",
       "\n",
       "    .dataframe thead th {\n",
       "        text-align: right;\n",
       "    }\n",
       "</style>\n",
       "<table border=\"1\" class=\"dataframe\">\n",
       "  <thead>\n",
       "    <tr style=\"text-align: right;\">\n",
       "      <th></th>\n",
       "      <th>id</th>\n",
       "      <th>title_romaji</th>\n",
       "      <th>title_english</th>\n",
       "      <th>relations</th>\n",
       "      <th>genres</th>\n",
       "      <th>all_relations</th>\n",
       "      <th>series_id</th>\n",
       "      <th>series_title_romaji</th>\n",
       "      <th>series_title_english</th>\n",
       "    </tr>\n",
       "  </thead>\n",
       "  <tbody>\n",
       "    <tr>\n",
       "      <th>0</th>\n",
       "      <td>1</td>\n",
       "      <td>Cowboy Bebop</td>\n",
       "      <td>Cowboy Bebop</td>\n",
       "      <td>[5, 17205, 4037]</td>\n",
       "      <td>[Action, Adventure, Drama, Sci-Fi]</td>\n",
       "      <td>[1, 5, 17205, 4037]</td>\n",
       "      <td>1</td>\n",
       "      <td>Cowboy Bebop</td>\n",
       "      <td>Cowboy Bebop</td>\n",
       "    </tr>\n",
       "    <tr>\n",
       "      <th>1</th>\n",
       "      <td>5</td>\n",
       "      <td>Cowboy Bebop: Tengoku no Tobira</td>\n",
       "      <td>Cowboy Bebop: The Movie - Knockin' on Heaven's...</td>\n",
       "      <td>[1]</td>\n",
       "      <td>[Action, Drama, Mystery, Sci-Fi]</td>\n",
       "      <td>[5, 1]</td>\n",
       "      <td>1</td>\n",
       "      <td>Cowboy Bebop</td>\n",
       "      <td>Cowboy Bebop</td>\n",
       "    </tr>\n",
       "    <tr>\n",
       "      <th>2</th>\n",
       "      <td>6</td>\n",
       "      <td>TRIGUN</td>\n",
       "      <td>Trigun</td>\n",
       "      <td>[4106]</td>\n",
       "      <td>[Action, Adventure, Comedy, Drama, Sci-Fi]</td>\n",
       "      <td>[6, 4106]</td>\n",
       "      <td>6</td>\n",
       "      <td>TRIGUN</td>\n",
       "      <td>Trigun</td>\n",
       "    </tr>\n",
       "    <tr>\n",
       "      <th>3</th>\n",
       "      <td>7</td>\n",
       "      <td>Witch Hunter ROBIN</td>\n",
       "      <td>Witch Hunter ROBIN</td>\n",
       "      <td>None</td>\n",
       "      <td>[Action, Drama, Mystery, Supernatural]</td>\n",
       "      <td>NaN</td>\n",
       "      <td>7</td>\n",
       "      <td>Witch Hunter ROBIN</td>\n",
       "      <td>Witch Hunter ROBIN</td>\n",
       "    </tr>\n",
       "    <tr>\n",
       "      <th>4</th>\n",
       "      <td>8</td>\n",
       "      <td>Bouken Ou Beet</td>\n",
       "      <td>Beet the Vandel Buster</td>\n",
       "      <td>[1123]</td>\n",
       "      <td>[Adventure, Fantasy, Supernatural]</td>\n",
       "      <td>[8, 1123]</td>\n",
       "      <td>8</td>\n",
       "      <td>Bouken Ou Beet</td>\n",
       "      <td>Beet the Vandel Buster</td>\n",
       "    </tr>\n",
       "    <tr>\n",
       "      <th>...</th>\n",
       "      <td>...</td>\n",
       "      <td>...</td>\n",
       "      <td>...</td>\n",
       "      <td>...</td>\n",
       "      <td>...</td>\n",
       "      <td>...</td>\n",
       "      <td>...</td>\n",
       "      <td>...</td>\n",
       "      <td>...</td>\n",
       "    </tr>\n",
       "    <tr>\n",
       "      <th>1419</th>\n",
       "      <td>142117</td>\n",
       "      <td>Kimi wa Yasashiku Netorareru The Animation</td>\n",
       "      <td>Kimi wa Yasashiku Netorareru The Animation</td>\n",
       "      <td>None</td>\n",
       "      <td>[Hentai]</td>\n",
       "      <td>NaN</td>\n",
       "      <td>142117</td>\n",
       "      <td>Kimi wa Yasashiku Netorareru The Animation</td>\n",
       "      <td>Kimi wa Yasashiku Netorareru The Animation</td>\n",
       "    </tr>\n",
       "    <tr>\n",
       "      <th>1421</th>\n",
       "      <td>142229</td>\n",
       "      <td>Eroriman</td>\n",
       "      <td>Eroriman</td>\n",
       "      <td>None</td>\n",
       "      <td>[Hentai]</td>\n",
       "      <td>NaN</td>\n",
       "      <td>142229</td>\n",
       "      <td>Eroriman</td>\n",
       "      <td>Eroriman</td>\n",
       "    </tr>\n",
       "    <tr>\n",
       "      <th>1423</th>\n",
       "      <td>143118</td>\n",
       "      <td>Kemonokko Tsuushin: The Animation</td>\n",
       "      <td>Kemonokko Tsuushin: The Animation</td>\n",
       "      <td>None</td>\n",
       "      <td>[Hentai]</td>\n",
       "      <td>NaN</td>\n",
       "      <td>143118</td>\n",
       "      <td>Kemonokko Tsuushin: The Animation</td>\n",
       "      <td>Kemonokko Tsuushin: The Animation</td>\n",
       "    </tr>\n",
       "    <tr>\n",
       "      <th>1424</th>\n",
       "      <td>143264</td>\n",
       "      <td>Shin Injuu Gakuen La☆Blue Girl</td>\n",
       "      <td>La Blue Girl</td>\n",
       "      <td>[1274, 1272]</td>\n",
       "      <td>[Hentai]</td>\n",
       "      <td>[143264, 1274, 1272]</td>\n",
       "      <td>1272</td>\n",
       "      <td>Injuu Gakuen La☆Blue Girl</td>\n",
       "      <td>La Blue Girl</td>\n",
       "    </tr>\n",
       "    <tr>\n",
       "      <th>1427</th>\n",
       "      <td>144713</td>\n",
       "      <td>Na Bbeun Sang Sa</td>\n",
       "      <td>Na Bbeun Sang Sa</td>\n",
       "      <td>None</td>\n",
       "      <td>[Drama, Hentai, Romance, Slice of Life, Thriller]</td>\n",
       "      <td>NaN</td>\n",
       "      <td>144713</td>\n",
       "      <td>Na Bbeun Sang Sa</td>\n",
       "      <td>Na Bbeun Sang Sa</td>\n",
       "    </tr>\n",
       "  </tbody>\n",
       "</table>\n",
       "<p>10886 rows × 9 columns</p>\n",
       "</div>"
      ],
      "text/plain": [
       "          id                                title_romaji  \\\n",
       "0          1                                Cowboy Bebop   \n",
       "1          5             Cowboy Bebop: Tengoku no Tobira   \n",
       "2          6                                      TRIGUN   \n",
       "3          7                          Witch Hunter ROBIN   \n",
       "4          8                              Bouken Ou Beet   \n",
       "...      ...                                         ...   \n",
       "1419  142117  Kimi wa Yasashiku Netorareru The Animation   \n",
       "1421  142229                                    Eroriman   \n",
       "1423  143118           Kemonokko Tsuushin: The Animation   \n",
       "1424  143264              Shin Injuu Gakuen La☆Blue Girl   \n",
       "1427  144713                            Na Bbeun Sang Sa   \n",
       "\n",
       "                                          title_english         relations  \\\n",
       "0                                          Cowboy Bebop  [5, 17205, 4037]   \n",
       "1     Cowboy Bebop: The Movie - Knockin' on Heaven's...               [1]   \n",
       "2                                                Trigun            [4106]   \n",
       "3                                    Witch Hunter ROBIN              None   \n",
       "4                                Beet the Vandel Buster            [1123]   \n",
       "...                                                 ...               ...   \n",
       "1419         Kimi wa Yasashiku Netorareru The Animation              None   \n",
       "1421                                           Eroriman              None   \n",
       "1423                  Kemonokko Tsuushin: The Animation              None   \n",
       "1424                                       La Blue Girl      [1274, 1272]   \n",
       "1427                                   Na Bbeun Sang Sa              None   \n",
       "\n",
       "                                                 genres         all_relations  \\\n",
       "0                    [Action, Adventure, Drama, Sci-Fi]   [1, 5, 17205, 4037]   \n",
       "1                      [Action, Drama, Mystery, Sci-Fi]                [5, 1]   \n",
       "2            [Action, Adventure, Comedy, Drama, Sci-Fi]             [6, 4106]   \n",
       "3                [Action, Drama, Mystery, Supernatural]                   NaN   \n",
       "4                    [Adventure, Fantasy, Supernatural]             [8, 1123]   \n",
       "...                                                 ...                   ...   \n",
       "1419                                           [Hentai]                   NaN   \n",
       "1421                                           [Hentai]                   NaN   \n",
       "1423                                           [Hentai]                   NaN   \n",
       "1424                                           [Hentai]  [143264, 1274, 1272]   \n",
       "1427  [Drama, Hentai, Romance, Slice of Life, Thriller]                   NaN   \n",
       "\n",
       "      series_id                         series_title_romaji  \\\n",
       "0             1                                Cowboy Bebop   \n",
       "1             1                                Cowboy Bebop   \n",
       "2             6                                      TRIGUN   \n",
       "3             7                          Witch Hunter ROBIN   \n",
       "4             8                              Bouken Ou Beet   \n",
       "...         ...                                         ...   \n",
       "1419     142117  Kimi wa Yasashiku Netorareru The Animation   \n",
       "1421     142229                                    Eroriman   \n",
       "1423     143118           Kemonokko Tsuushin: The Animation   \n",
       "1424       1272                   Injuu Gakuen La☆Blue Girl   \n",
       "1427     144713                            Na Bbeun Sang Sa   \n",
       "\n",
       "                            series_title_english  \n",
       "0                                   Cowboy Bebop  \n",
       "1                                   Cowboy Bebop  \n",
       "2                                         Trigun  \n",
       "3                             Witch Hunter ROBIN  \n",
       "4                         Beet the Vandel Buster  \n",
       "...                                          ...  \n",
       "1419  Kimi wa Yasashiku Netorareru The Animation  \n",
       "1421                                    Eroriman  \n",
       "1423           Kemonokko Tsuushin: The Animation  \n",
       "1424                                La Blue Girl  \n",
       "1427                            Na Bbeun Sang Sa  \n",
       "\n",
       "[10886 rows x 9 columns]"
      ]
     },
     "execution_count": 166,
     "metadata": {},
     "output_type": "execute_result"
    }
   ],
   "source": [
    "anime_db_id_mapping"
   ]
  },
  {
   "cell_type": "code",
   "execution_count": 35,
   "id": "f616ddbc-569f-45ed-8017-d3f1f9975045",
   "metadata": {
    "scrolled": true,
    "tags": []
   },
   "outputs": [],
   "source": [
    "anime_title_list_english = list(anime_db_id_mapping['series_title_english'].dropna().values)\n",
    "anime_title_list_romaji = list(anime_db_id_mapping['series_title_romaji'].dropna().values)\n",
    "anime_title_list = list(set(anime_title_list_english + anime_title_list_romaji))\n",
    "anime_title_list.sort()"
   ]
  },
  {
   "cell_type": "code",
   "execution_count": 36,
   "id": "ad8eb3ec-c7ea-483b-a09b-c8ec9d45f4bc",
   "metadata": {},
   "outputs": [],
   "source": [
    "with open('../data/anime_titles.pkl', 'wb') as filehandle:\n",
    "    pickle.dump(anime_title_list, filehandle)"
   ]
  },
  {
   "cell_type": "code",
   "execution_count": 37,
   "id": "e8c89b53-2cd8-46e9-b64b-e6ef38f47dd3",
   "metadata": {
    "scrolled": true,
    "tags": []
   },
   "outputs": [],
   "source": [
    "anime_title_list_english_18 = list(anime_db_18['title_english'].dropna().values)\n",
    "anime_title_list_romaji_18 = list(anime_db_18['title_romaji'].dropna().values)\n",
    "anime_title_list_18 = list(set(anime_title_list_english_18 + anime_title_list_romaji_18))\n",
    "anime_title_list_18.sort()"
   ]
  },
  {
   "cell_type": "code",
   "execution_count": 38,
   "id": "ad987ac4-9995-404c-b4d2-86a31dba3d34",
   "metadata": {},
   "outputs": [],
   "source": [
    "with open('../data/anime_titles_18.pkl', 'wb') as filehandle:\n",
    "    pickle.dump(anime_title_list_18, filehandle)"
   ]
  },
  {
   "cell_type": "markdown",
   "id": "89b15494-2db2-4a3b-8fcd-fe42445b70a2",
   "metadata": {},
   "source": [
    "### Export genres"
   ]
  },
  {
   "cell_type": "markdown",
   "id": "e9a4392f-ac6a-4b0e-9daf-f63753f89e36",
   "metadata": {},
   "source": [
    "For the webapp drop-down list"
   ]
  },
  {
   "cell_type": "code",
   "execution_count": 40,
   "id": "e96ed9ce-9583-48f7-9eea-6299e488f01f",
   "metadata": {},
   "outputs": [],
   "source": [
    "anime_genres = list(anime_db['genres'].dropna().values)\n",
    "anime_genre_list = []\n",
    "\n",
    "for genres in anime_genres:\n",
    "    anime_genre_list.extend(genres)\n",
    "\n",
    "anime_genre_list = list(set(anime_genre_list))\n",
    "anime_genre_list.sort()"
   ]
  },
  {
   "cell_type": "code",
   "execution_count": 41,
   "id": "3a7d181d-fe24-4cf9-9c0f-7e3902d2531d",
   "metadata": {},
   "outputs": [],
   "source": [
    "with open('../data/anime_genres.pkl', 'wb') as filehandle:\n",
    "    pickle.dump(anime_genre_list, filehandle)"
   ]
  },
  {
   "cell_type": "code",
   "execution_count": null,
   "id": "0d9c353f-7d11-4a82-b92e-564c7d46a574",
   "metadata": {},
   "outputs": [],
   "source": []
  }
 ],
 "metadata": {
  "kernelspec": {
   "display_name": "Python 3",
   "language": "python",
   "name": "python3"
  },
  "language_info": {
   "codemirror_mode": {
    "name": "ipython",
    "version": 3
   },
   "file_extension": ".py",
   "mimetype": "text/x-python",
   "name": "python",
   "nbconvert_exporter": "python",
   "pygments_lexer": "ipython3",
   "version": "3.8.8"
  }
 },
 "nbformat": 4,
 "nbformat_minor": 5
}
