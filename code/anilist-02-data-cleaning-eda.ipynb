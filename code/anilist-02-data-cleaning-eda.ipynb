{
 "cells": [
  {
   "cell_type": "markdown",
   "id": "0e2fd966-9be1-44cf-9221-f4c43345400c",
   "metadata": {},
   "source": [
    "# Anime Recommender 02: Data Cleaning & EDA"
   ]
  },
  {
   "cell_type": "markdown",
   "id": "4ed427e2-ea65-436f-8143-fbb016139993",
   "metadata": {},
   "source": [
    "## Imports"
   ]
  },
  {
   "cell_type": "code",
   "execution_count": 1,
   "id": "7bde19bd-4e6d-4f24-b30d-69aebc06645c",
   "metadata": {},
   "outputs": [],
   "source": [
    "import pandas as pd\n",
    "import numpy as np\n",
    "import matplotlib.pyplot as plt\n",
    "import seaborn as sns\n",
    "import pickle"
   ]
  },
  {
   "cell_type": "markdown",
   "id": "7ce9fe98-313d-49d9-ba8b-dec087df1e19",
   "metadata": {},
   "source": [
    "## Animes"
   ]
  },
  {
   "cell_type": "code",
   "execution_count": 2,
   "id": "214db8ca-3e39-40f8-8ad6-f5b766ee2143",
   "metadata": {
    "scrolled": true,
    "tags": []
   },
   "outputs": [
    {
     "name": "stdout",
     "output_type": "stream",
     "text": [
      "(15954, 20)\n"
     ]
    },
    {
     "data": {
      "text/html": [
       "<div>\n",
       "<style scoped>\n",
       "    .dataframe tbody tr th:only-of-type {\n",
       "        vertical-align: middle;\n",
       "    }\n",
       "\n",
       "    .dataframe tbody tr th {\n",
       "        vertical-align: top;\n",
       "    }\n",
       "\n",
       "    .dataframe thead th {\n",
       "        text-align: right;\n",
       "    }\n",
       "</style>\n",
       "<table border=\"1\" class=\"dataframe\">\n",
       "  <thead>\n",
       "    <tr style=\"text-align: right;\">\n",
       "      <th></th>\n",
       "      <th>id</th>\n",
       "      <th>status</th>\n",
       "      <th>genres</th>\n",
       "      <th>format</th>\n",
       "      <th>description</th>\n",
       "      <th>startDate</th>\n",
       "      <th>endDate</th>\n",
       "      <th>episodes</th>\n",
       "      <th>season</th>\n",
       "      <th>seasonYear</th>\n",
       "      <th>duration</th>\n",
       "      <th>averageScore</th>\n",
       "      <th>meanScore</th>\n",
       "      <th>popularity</th>\n",
       "      <th>relations</th>\n",
       "      <th>siteUrl</th>\n",
       "      <th>title_romaji</th>\n",
       "      <th>title_english</th>\n",
       "      <th>coverImage_large</th>\n",
       "      <th>coverImage_medium</th>\n",
       "    </tr>\n",
       "  </thead>\n",
       "  <tbody>\n",
       "    <tr>\n",
       "      <th>0</th>\n",
       "      <td>1</td>\n",
       "      <td>FINISHED</td>\n",
       "      <td>Action, Adventure, Drama, Sci-Fi</td>\n",
       "      <td>TV</td>\n",
       "      <td>Enter a world in the distant future, where Bou...</td>\n",
       "      <td>1998-04-03</td>\n",
       "      <td>1999-04-24</td>\n",
       "      <td>26.0</td>\n",
       "      <td>SPRING</td>\n",
       "      <td>1998.0</td>\n",
       "      <td>24.0</td>\n",
       "      <td>86.0</td>\n",
       "      <td>86.0</td>\n",
       "      <td>249940</td>\n",
       "      <td>5, 17205, 4037</td>\n",
       "      <td>https://anilist.co/anime/1</td>\n",
       "      <td>Cowboy Bebop</td>\n",
       "      <td>Cowboy Bebop</td>\n",
       "      <td>https://s4.anilist.co/file/anilistcdn/media/an...</td>\n",
       "      <td>https://s4.anilist.co/file/anilistcdn/media/an...</td>\n",
       "    </tr>\n",
       "    <tr>\n",
       "      <th>1</th>\n",
       "      <td>5</td>\n",
       "      <td>FINISHED</td>\n",
       "      <td>Action, Drama, Mystery, Sci-Fi</td>\n",
       "      <td>MOVIE</td>\n",
       "      <td>As the Cowboy Bebop crew travels the stars, th...</td>\n",
       "      <td>2001-09-01</td>\n",
       "      <td>2001-09-01</td>\n",
       "      <td>1.0</td>\n",
       "      <td>SUMMER</td>\n",
       "      <td>2001.0</td>\n",
       "      <td>115.0</td>\n",
       "      <td>82.0</td>\n",
       "      <td>82.0</td>\n",
       "      <td>47081</td>\n",
       "      <td>1</td>\n",
       "      <td>https://anilist.co/anime/5</td>\n",
       "      <td>Cowboy Bebop: Tengoku no Tobira</td>\n",
       "      <td>Cowboy Bebop: The Movie - Knockin' on Heaven's...</td>\n",
       "      <td>https://s4.anilist.co/file/anilistcdn/media/an...</td>\n",
       "      <td>https://s4.anilist.co/file/anilistcdn/media/an...</td>\n",
       "    </tr>\n",
       "    <tr>\n",
       "      <th>2</th>\n",
       "      <td>6</td>\n",
       "      <td>FINISHED</td>\n",
       "      <td>Action, Adventure, Comedy, Drama, Sci-Fi</td>\n",
       "      <td>TV</td>\n",
       "      <td>Vash the Stampede is a wanted man with a habit...</td>\n",
       "      <td>1998-04-01</td>\n",
       "      <td>1998-09-30</td>\n",
       "      <td>26.0</td>\n",
       "      <td>SPRING</td>\n",
       "      <td>1998.0</td>\n",
       "      <td>24.0</td>\n",
       "      <td>79.0</td>\n",
       "      <td>79.0</td>\n",
       "      <td>81725</td>\n",
       "      <td>4106</td>\n",
       "      <td>https://anilist.co/anime/6</td>\n",
       "      <td>TRIGUN</td>\n",
       "      <td>Trigun</td>\n",
       "      <td>https://s4.anilist.co/file/anilistcdn/media/an...</td>\n",
       "      <td>https://s4.anilist.co/file/anilistcdn/media/an...</td>\n",
       "    </tr>\n",
       "    <tr>\n",
       "      <th>3</th>\n",
       "      <td>7</td>\n",
       "      <td>FINISHED</td>\n",
       "      <td>Action, Drama, Mystery, Supernatural</td>\n",
       "      <td>TV</td>\n",
       "      <td>Robin Sena is a powerful craft user drafted in...</td>\n",
       "      <td>2002-07-02</td>\n",
       "      <td>2002-12-24</td>\n",
       "      <td>26.0</td>\n",
       "      <td>SUMMER</td>\n",
       "      <td>2002.0</td>\n",
       "      <td>25.0</td>\n",
       "      <td>68.0</td>\n",
       "      <td>68.0</td>\n",
       "      <td>11850</td>\n",
       "      <td>NaN</td>\n",
       "      <td>https://anilist.co/anime/7</td>\n",
       "      <td>Witch Hunter ROBIN</td>\n",
       "      <td>Witch Hunter ROBIN</td>\n",
       "      <td>https://s4.anilist.co/file/anilistcdn/media/an...</td>\n",
       "      <td>https://s4.anilist.co/file/anilistcdn/media/an...</td>\n",
       "    </tr>\n",
       "    <tr>\n",
       "      <th>4</th>\n",
       "      <td>8</td>\n",
       "      <td>FINISHED</td>\n",
       "      <td>Adventure, Fantasy, Supernatural</td>\n",
       "      <td>TV</td>\n",
       "      <td>It is the dark century and the people are suff...</td>\n",
       "      <td>2004-09-30</td>\n",
       "      <td>2005-09-29</td>\n",
       "      <td>52.0</td>\n",
       "      <td>FALL</td>\n",
       "      <td>2004.0</td>\n",
       "      <td>23.0</td>\n",
       "      <td>62.0</td>\n",
       "      <td>64.0</td>\n",
       "      <td>1683</td>\n",
       "      <td>1123</td>\n",
       "      <td>https://anilist.co/anime/8</td>\n",
       "      <td>Bouken Ou Beet</td>\n",
       "      <td>Beet the Vandel Buster</td>\n",
       "      <td>https://s4.anilist.co/file/anilistcdn/media/an...</td>\n",
       "      <td>https://s4.anilist.co/file/anilistcdn/media/an...</td>\n",
       "    </tr>\n",
       "  </tbody>\n",
       "</table>\n",
       "</div>"
      ],
      "text/plain": [
       "   id    status                                    genres format  \\\n",
       "0   1  FINISHED          Action, Adventure, Drama, Sci-Fi     TV   \n",
       "1   5  FINISHED            Action, Drama, Mystery, Sci-Fi  MOVIE   \n",
       "2   6  FINISHED  Action, Adventure, Comedy, Drama, Sci-Fi     TV   \n",
       "3   7  FINISHED      Action, Drama, Mystery, Supernatural     TV   \n",
       "4   8  FINISHED          Adventure, Fantasy, Supernatural     TV   \n",
       "\n",
       "                                         description   startDate     endDate  \\\n",
       "0  Enter a world in the distant future, where Bou...  1998-04-03  1999-04-24   \n",
       "1  As the Cowboy Bebop crew travels the stars, th...  2001-09-01  2001-09-01   \n",
       "2  Vash the Stampede is a wanted man with a habit...  1998-04-01  1998-09-30   \n",
       "3  Robin Sena is a powerful craft user drafted in...  2002-07-02  2002-12-24   \n",
       "4  It is the dark century and the people are suff...  2004-09-30  2005-09-29   \n",
       "\n",
       "   episodes  season  seasonYear  duration  averageScore  meanScore  \\\n",
       "0      26.0  SPRING      1998.0      24.0          86.0       86.0   \n",
       "1       1.0  SUMMER      2001.0     115.0          82.0       82.0   \n",
       "2      26.0  SPRING      1998.0      24.0          79.0       79.0   \n",
       "3      26.0  SUMMER      2002.0      25.0          68.0       68.0   \n",
       "4      52.0    FALL      2004.0      23.0          62.0       64.0   \n",
       "\n",
       "   popularity       relations                     siteUrl  \\\n",
       "0      249940  5, 17205, 4037  https://anilist.co/anime/1   \n",
       "1       47081               1  https://anilist.co/anime/5   \n",
       "2       81725            4106  https://anilist.co/anime/6   \n",
       "3       11850             NaN  https://anilist.co/anime/7   \n",
       "4        1683            1123  https://anilist.co/anime/8   \n",
       "\n",
       "                      title_romaji  \\\n",
       "0                     Cowboy Bebop   \n",
       "1  Cowboy Bebop: Tengoku no Tobira   \n",
       "2                           TRIGUN   \n",
       "3               Witch Hunter ROBIN   \n",
       "4                   Bouken Ou Beet   \n",
       "\n",
       "                                       title_english  \\\n",
       "0                                       Cowboy Bebop   \n",
       "1  Cowboy Bebop: The Movie - Knockin' on Heaven's...   \n",
       "2                                             Trigun   \n",
       "3                                 Witch Hunter ROBIN   \n",
       "4                             Beet the Vandel Buster   \n",
       "\n",
       "                                    coverImage_large  \\\n",
       "0  https://s4.anilist.co/file/anilistcdn/media/an...   \n",
       "1  https://s4.anilist.co/file/anilistcdn/media/an...   \n",
       "2  https://s4.anilist.co/file/anilistcdn/media/an...   \n",
       "3  https://s4.anilist.co/file/anilistcdn/media/an...   \n",
       "4  https://s4.anilist.co/file/anilistcdn/media/an...   \n",
       "\n",
       "                                   coverImage_medium  \n",
       "0  https://s4.anilist.co/file/anilistcdn/media/an...  \n",
       "1  https://s4.anilist.co/file/anilistcdn/media/an...  \n",
       "2  https://s4.anilist.co/file/anilistcdn/media/an...  \n",
       "3  https://s4.anilist.co/file/anilistcdn/media/an...  \n",
       "4  https://s4.anilist.co/file/anilistcdn/media/an...  "
      ]
     },
     "execution_count": 2,
     "metadata": {},
     "output_type": "execute_result"
    }
   ],
   "source": [
    "anime_db = pd.read_csv(\"../data/anime_db.csv\", encoding='utf-8')\n",
    "print(anime_db.shape)\n",
    "anime_db.head()"
   ]
  },
  {
   "cell_type": "code",
   "execution_count": 3,
   "id": "c89ba0a8-3bd7-4fc2-9475-4ba679d2e8bd",
   "metadata": {
    "tags": []
   },
   "outputs": [
    {
     "name": "stdout",
     "output_type": "stream",
     "text": [
      "<class 'pandas.core.frame.DataFrame'>\n",
      "RangeIndex: 15954 entries, 0 to 15953\n",
      "Data columns (total 20 columns):\n",
      " #   Column             Non-Null Count  Dtype  \n",
      "---  ------             --------------  -----  \n",
      " 0   id                 15954 non-null  int64  \n",
      " 1   status             15951 non-null  object \n",
      " 2   genres             13885 non-null  object \n",
      " 3   format             15898 non-null  object \n",
      " 4   description        14879 non-null  object \n",
      " 5   startDate          13678 non-null  object \n",
      " 6   endDate            13353 non-null  object \n",
      " 7   episodes           15332 non-null  float64\n",
      " 8   season             10608 non-null  object \n",
      " 9   seasonYear         10608 non-null  float64\n",
      " 10  duration           15156 non-null  float64\n",
      " 11  averageScore       10885 non-null  float64\n",
      " 12  meanScore          15207 non-null  float64\n",
      " 13  popularity         15954 non-null  int64  \n",
      " 14  relations          8310 non-null   object \n",
      " 15  siteUrl            15954 non-null  object \n",
      " 16  title_romaji       15954 non-null  object \n",
      " 17  title_english      7313 non-null   object \n",
      " 18  coverImage_large   15954 non-null  object \n",
      " 19  coverImage_medium  15954 non-null  object \n",
      "dtypes: float64(5), int64(2), object(13)\n",
      "memory usage: 2.4+ MB\n"
     ]
    }
   ],
   "source": [
    "anime_db.info()"
   ]
  },
  {
   "cell_type": "code",
   "execution_count": 4,
   "id": "99c63711-cc88-451c-8a47-1472eeddab33",
   "metadata": {},
   "outputs": [],
   "source": [
    "anime_db['startDate']= pd.to_datetime(anime_db['startDate'], format='%Y-%m-%d')\n",
    "anime_db['endDate']= pd.to_datetime(anime_db['endDate'], format='%Y-%m-%d')"
   ]
  },
  {
   "cell_type": "code",
   "execution_count": 5,
   "id": "77b5348f-4658-4a5d-8925-05488f4ae473",
   "metadata": {},
   "outputs": [],
   "source": [
    "def convert_to_list(data_row):\n",
    "    return list(str(data_row).split(sep=\", \")) if data_row is not np.nan else None"
   ]
  },
  {
   "cell_type": "code",
   "execution_count": 6,
   "id": "2be26c8f-20fe-4364-9902-26fcfe292d7b",
   "metadata": {},
   "outputs": [],
   "source": [
    "anime_db['relations'] = anime_db['relations'].apply(convert_to_list)"
   ]
  },
  {
   "cell_type": "code",
   "execution_count": 7,
   "id": "3d8bff85-ac9c-430b-aafa-2590e1591f71",
   "metadata": {},
   "outputs": [],
   "source": [
    "anime_db['genres_str'] = anime_db['genres']\n",
    "anime_db['genres'] = anime_db['genres'].apply(convert_to_list)"
   ]
  },
  {
   "cell_type": "code",
   "execution_count": 8,
   "id": "bafd691b-f7b0-465b-92ef-92f81e62a9ca",
   "metadata": {},
   "outputs": [
    {
     "data": {
      "text/plain": [
       "FINISHED            15076\n",
       "NOT_YET_RELEASED      636\n",
       "RELEASING             208\n",
       "CANCELLED              31\n",
       "Name: status, dtype: int64"
      ]
     },
     "execution_count": 8,
     "metadata": {},
     "output_type": "execute_result"
    }
   ],
   "source": [
    "anime_db['status'].value_counts()"
   ]
  },
  {
   "cell_type": "markdown",
   "id": "f31431f5-c7ff-489b-b04e-4e6116d7601f",
   "metadata": {},
   "source": [
    "We will drop records with status NOT_YET_RELEASED or CANCELLED, as NOT_YET_RELEASED animes should not have any user ratings and CANCELLED animes never aired"
   ]
  },
  {
   "cell_type": "code",
   "execution_count": 9,
   "id": "11ef054a-7b30-4f0c-9a8a-2cd0df81aafa",
   "metadata": {},
   "outputs": [],
   "source": [
    "anime_db = anime_db[(anime_db['status']!=\"NOT_YET_RELEASED\") & (anime_db['status']!=\"CANCELLED\")]"
   ]
  },
  {
   "cell_type": "markdown",
   "id": "54bdfe1b-e9dd-437f-b9d4-5bc0669309eb",
   "metadata": {},
   "source": [
    "We will drop records where the duration is less than 10 mins as these are either special episodes belonging to a anime franchise, or are one-off short episodes, which are not relevant in the scope of this recommender."
   ]
  },
  {
   "cell_type": "code",
   "execution_count": 10,
   "id": "05ca7a67-c1ca-4d11-b93f-6bb87316b0e5",
   "metadata": {},
   "outputs": [],
   "source": [
    "anime_db = anime_db[(anime_db['duration']>=10)]"
   ]
  },
  {
   "cell_type": "code",
   "execution_count": 11,
   "id": "43c9f4f5-0cad-4d5f-b39a-1ec976a2013b",
   "metadata": {},
   "outputs": [
    {
     "data": {
      "text/plain": [
       "TV          3813\n",
       "MOVIE       2307\n",
       "OVA         1993\n",
       "SPECIAL      753\n",
       "ONA          677\n",
       "TV_SHORT     298\n",
       "MUSIC         11\n",
       "Name: format, dtype: int64"
      ]
     },
     "execution_count": 11,
     "metadata": {},
     "output_type": "execute_result"
    }
   ],
   "source": [
    "anime_db['format'].value_counts()"
   ]
  },
  {
   "cell_type": "markdown",
   "id": "13a9fa3e-9747-4ad6-b85e-1291fcaedf1b",
   "metadata": {},
   "source": [
    "We'll drop the 11 titles in MUSIC format in anime_db as they are not relevant in the scope of this recommender."
   ]
  },
  {
   "cell_type": "code",
   "execution_count": 12,
   "id": "de29ba54-118b-48eb-897d-5a7600b8dba1",
   "metadata": {},
   "outputs": [],
   "source": [
    "anime_db = anime_db[(anime_db['format']!=\"MUSIC\")]"
   ]
  },
  {
   "cell_type": "markdown",
   "id": "2d112844-269a-4c08-b627-8dbd689d87c1",
   "metadata": {},
   "source": [
    "We'll deal with null values next"
   ]
  },
  {
   "cell_type": "code",
   "execution_count": 13,
   "id": "c1c4e3a8-c373-40fe-a7d6-2c688ccf0216",
   "metadata": {
    "tags": []
   },
   "outputs": [
    {
     "data": {
      "text/plain": [
       "id                      0\n",
       "status                  0\n",
       "genres                295\n",
       "format                  0\n",
       "description           553\n",
       "startDate             507\n",
       "endDate               642\n",
       "episodes               33\n",
       "season               1475\n",
       "seasonYear           1475\n",
       "duration                0\n",
       "averageScore         2065\n",
       "meanScore              81\n",
       "popularity              0\n",
       "relations            3632\n",
       "siteUrl                 0\n",
       "title_romaji            0\n",
       "title_english        4361\n",
       "coverImage_large        0\n",
       "coverImage_medium       0\n",
       "genres_str            295\n",
       "dtype: int64"
      ]
     },
     "execution_count": 13,
     "metadata": {},
     "output_type": "execute_result"
    }
   ],
   "source": [
    "anime_db.isna().sum()"
   ]
  },
  {
   "cell_type": "markdown",
   "id": "b1050e39-bcac-4565-96c6-0f5a07a9be51",
   "metadata": {},
   "source": [
    "Null values in these columns are inconsequential: description, startDate, endDate, episodes, season, seasonYear, relations, title_english\n",
    "\n",
    "We will fill description with \"No description available\" in case we want to populate the description in the output of the recommender, and title_english with its corresponding title_romaji since the null values just means it does not have an English title. We will leave the other columns (as stated above) as is, since they are inconsequential."
   ]
  },
  {
   "cell_type": "code",
   "execution_count": 14,
   "id": "e84b80eb-56fd-466c-b355-163dd09ff12e",
   "metadata": {},
   "outputs": [],
   "source": [
    "anime_db['description'].fillna(\"No description available\", inplace=True)\n",
    "anime_db['title_english'].fillna(anime_db['title_romaji'], inplace=True)"
   ]
  },
  {
   "cell_type": "markdown",
   "id": "6a5f7474-29f0-43c0-a1a3-86e2938a59bb",
   "metadata": {},
   "source": [
    "averageScore is the weighted average and the meanScore is the actual average score. averageScore will be empty if not enough users have rated the anime, and meanScore will be empty if no users have rated the anime. We will drop records where meanScore is null."
   ]
  },
  {
   "cell_type": "code",
   "execution_count": 15,
   "id": "f6368ba3-4570-4e53-9a56-f9a833f14fa5",
   "metadata": {},
   "outputs": [],
   "source": [
    "anime_db.dropna(subset=['meanScore'],inplace=True)"
   ]
  },
  {
   "cell_type": "code",
   "execution_count": 16,
   "id": "a6b3ad98-0930-47f6-8faa-156ee2fea738",
   "metadata": {
    "scrolled": true,
    "tags": []
   },
   "outputs": [
    {
     "data": {
      "text/plain": [
       "0.0     0.319573\n",
       "1.0     0.581276\n",
       "2.0     0.704604\n",
       "3.0     0.795267\n",
       "4.0     0.849408\n",
       "5.0     0.893647\n",
       "6.0     0.930427\n",
       "7.0     0.956019\n",
       "8.0     0.974151\n",
       "9.0     0.984182\n",
       "10.0    0.990355\n",
       "11.0    0.993570\n",
       "12.0    0.996013\n",
       "13.0    0.998328\n",
       "14.0    0.999100\n",
       "15.0    0.999357\n",
       "16.0    0.999614\n",
       "17.0    0.999743\n",
       "20.0    0.999871\n",
       "21.0    1.000000\n",
       "Name: score_diff, dtype: float64"
      ]
     },
     "execution_count": 16,
     "metadata": {},
     "output_type": "execute_result"
    }
   ],
   "source": [
    "anime_db['score_diff'] = anime_db['averageScore'] - anime_db['meanScore']\n",
    "np.cumsum(abs(anime_db['score_diff']).value_counts(normalize=True).sort_index())"
   ]
  },
  {
   "cell_type": "markdown",
   "id": "8bb761e3-1dd7-4d76-8ef2-09ab3419994b",
   "metadata": {},
   "source": [
    "For majority of anime titles, the averageScore and meanScore does not differ that much, ~99% of titles have the averageScore differing from the meanScore by up to 10. As the score is on a scale of 1 to 100, 10 is merely a 10% difference. We will impute the null values in averageScore with the meanScore."
   ]
  },
  {
   "cell_type": "code",
   "execution_count": 17,
   "id": "93e0fcf4-89b5-4fe4-8033-8d50330ceb81",
   "metadata": {},
   "outputs": [],
   "source": [
    "anime_db['averageScore'].fillna(anime_db['meanScore'], inplace=True)"
   ]
  },
  {
   "cell_type": "code",
   "execution_count": 18,
   "id": "8b533e2e-938a-46d3-a797-feef4f126deb",
   "metadata": {},
   "outputs": [],
   "source": [
    "def impute_genres(relation_ids,df):\n",
    "    relation_id_to_use = -1\n",
    "    \n",
    "    if relation_ids is None or relation_ids is np.nan:\n",
    "        return None\n",
    "    \n",
    "    for relation_id in relation_ids:\n",
    "        if len(df[(df['id']==int(relation_id))]['genres']) > 0:\n",
    "            relation_id_to_use = relation_id\n",
    "            break\n",
    "        \n",
    "    return list(df[(df['id']==int(relation_id_to_use))]['genres'])[0] if relation_id_to_use != -1 else None"
   ]
  },
  {
   "cell_type": "code",
   "execution_count": 19,
   "id": "13dc2920-3450-45df-bfa7-991f188f4b6f",
   "metadata": {},
   "outputs": [],
   "source": [
    "anime_db['relation_genres']=anime_db['relations']\n",
    "anime_db['relation_genres']=anime_db['relation_genres'].apply(impute_genres, args=(anime_db,))\n",
    "anime_db['genres'].fillna(anime_db['relation_genres'], inplace=True)"
   ]
  },
  {
   "cell_type": "code",
   "execution_count": 20,
   "id": "7d60ff03-434b-448e-b0d8-f8574364d01b",
   "metadata": {
    "scrolled": true,
    "tags": []
   },
   "outputs": [
    {
     "data": {
      "text/plain": [
       "238"
      ]
     },
     "execution_count": 20,
     "metadata": {},
     "output_type": "execute_result"
    }
   ],
   "source": [
    "anime_db['genres'].isna().sum()"
   ]
  },
  {
   "cell_type": "markdown",
   "id": "6e7ccd73-0919-44f9-ab28-81ecf2af7a36",
   "metadata": {},
   "source": [
    "There are still null values in genres, but since there are only 238 null values (2.4%), we will drop them."
   ]
  },
  {
   "cell_type": "code",
   "execution_count": 21,
   "id": "787cf3ac-2952-4d30-ac58-7a642edf9e96",
   "metadata": {},
   "outputs": [],
   "source": [
    "anime_db = anime_db[(anime_db['genres'].notna())]"
   ]
  },
  {
   "cell_type": "markdown",
   "id": "d605a038-2150-4f92-bdc4-1c6d770f964b",
   "metadata": {},
   "source": [
    "## Users"
   ]
  },
  {
   "cell_type": "code",
   "execution_count": 22,
   "id": "53b3df9c-270e-46e2-bad1-39fa2e100a02",
   "metadata": {
    "tags": []
   },
   "outputs": [
    {
     "name": "stdout",
     "output_type": "stream",
     "text": [
      "(937799, 3)\n"
     ]
    },
    {
     "data": {
      "text/html": [
       "<div>\n",
       "<style scoped>\n",
       "    .dataframe tbody tr th:only-of-type {\n",
       "        vertical-align: middle;\n",
       "    }\n",
       "\n",
       "    .dataframe tbody tr th {\n",
       "        vertical-align: top;\n",
       "    }\n",
       "\n",
       "    .dataframe thead th {\n",
       "        text-align: right;\n",
       "    }\n",
       "</style>\n",
       "<table border=\"1\" class=\"dataframe\">\n",
       "  <thead>\n",
       "    <tr style=\"text-align: right;\">\n",
       "      <th></th>\n",
       "      <th>userId</th>\n",
       "      <th>mediaId</th>\n",
       "      <th>rating</th>\n",
       "    </tr>\n",
       "  </thead>\n",
       "  <tbody>\n",
       "    <tr>\n",
       "      <th>0</th>\n",
       "      <td>710080</td>\n",
       "      <td>1535</td>\n",
       "      <td>70</td>\n",
       "    </tr>\n",
       "    <tr>\n",
       "      <th>1</th>\n",
       "      <td>710080</td>\n",
       "      <td>21459</td>\n",
       "      <td>70</td>\n",
       "    </tr>\n",
       "    <tr>\n",
       "      <th>2</th>\n",
       "      <td>710080</td>\n",
       "      <td>113415</td>\n",
       "      <td>70</td>\n",
       "    </tr>\n",
       "    <tr>\n",
       "      <th>3</th>\n",
       "      <td>710080</td>\n",
       "      <td>11757</td>\n",
       "      <td>70</td>\n",
       "    </tr>\n",
       "    <tr>\n",
       "      <th>4</th>\n",
       "      <td>710080</td>\n",
       "      <td>5114</td>\n",
       "      <td>70</td>\n",
       "    </tr>\n",
       "  </tbody>\n",
       "</table>\n",
       "</div>"
      ],
      "text/plain": [
       "   userId  mediaId  rating\n",
       "0  710080     1535      70\n",
       "1  710080    21459      70\n",
       "2  710080   113415      70\n",
       "3  710080    11757      70\n",
       "4  710080     5114      70"
      ]
     },
     "execution_count": 22,
     "metadata": {},
     "output_type": "execute_result"
    }
   ],
   "source": [
    "user_db_lightfm = pd.read_csv(\"../data/user_list_lightfm.csv\")\n",
    "print(user_db_lightfm.shape)\n",
    "user_db_lightfm.head()"
   ]
  },
  {
   "cell_type": "markdown",
   "id": "2fa32308-cd75-4195-82cc-db01f167643e",
   "metadata": {},
   "source": [
    "Anilist has dirty data, where a user can have their settings on a POINT-5 or POINT-10 scale, but there are ratings higher than 5 or 10. As a result, some ratings might have been scaled wrongly during data collection so we will drop users with rating > 100 (indication that the scores were scaled wrongly)"
   ]
  },
  {
   "cell_type": "code",
   "execution_count": 23,
   "id": "1bc571d7-47e3-4fca-8931-84b5f4abad3a",
   "metadata": {},
   "outputs": [],
   "source": [
    "users_to_drop = user_db_lightfm[user_db_lightfm['rating']>100]['userId'].unique()"
   ]
  },
  {
   "cell_type": "code",
   "execution_count": 24,
   "id": "ad142d1b-8349-45af-b438-d053be7a1123",
   "metadata": {},
   "outputs": [],
   "source": [
    "user_db_lightfm = user_db_lightfm[~user_db_lightfm['userId'].isin(users_to_drop)]"
   ]
  },
  {
   "cell_type": "code",
   "execution_count": 25,
   "id": "2aba939e-f740-4af2-80c9-a14eac177bf1",
   "metadata": {},
   "outputs": [],
   "source": [
    "rated_media_id = user_db_lightfm['mediaId'].unique()\n",
    "media_ids = anime_db['id'].unique()"
   ]
  },
  {
   "cell_type": "markdown",
   "id": "c6b59124-b170-4d77-aec8-5b646d5374fe",
   "metadata": {},
   "source": [
    "As the user list we scraped is just a subset of the Anilist user base, it is normal for the user_db to not have any ratings for some animes that are inside anime_db. We will drop these animes from anime_db so that they will not be available for selection in the app, as the model would not have data on these titles.\n",
    "\n",
    "Since we dropped quite a few animes during the data cleaning, we will drop those animes from user_db as well."
   ]
  },
  {
   "cell_type": "code",
   "execution_count": 26,
   "id": "e76ee653-887e-4b9b-b804-30cff934c411",
   "metadata": {},
   "outputs": [],
   "source": [
    "media_id_drop_from_users = []\n",
    "media_id_drop_from_anime = []\n",
    "\n",
    "for media_id in rated_media_id:\n",
    "    if media_id not in media_ids:\n",
    "        media_id_drop_from_users.append(media_id)\n",
    "        \n",
    "for media_id in media_ids:\n",
    "    if media_id not in rated_media_id:\n",
    "        media_id_drop_from_anime.append(media_id)"
   ]
  },
  {
   "cell_type": "code",
   "execution_count": 27,
   "id": "d31e6a5c-70bf-4a33-946a-d10b1cbc4435",
   "metadata": {},
   "outputs": [],
   "source": [
    "anime_db = anime_db[~anime_db['id'].isin(media_id_drop_from_anime)]"
   ]
  },
  {
   "cell_type": "code",
   "execution_count": 28,
   "id": "39a66082-7241-4968-980e-1a8e6858031a",
   "metadata": {},
   "outputs": [],
   "source": [
    "user_db_lightfm = user_db_lightfm[~user_db_lightfm['mediaId'].isin(media_id_drop_from_users)]"
   ]
  },
  {
   "cell_type": "markdown",
   "id": "16b8e5fc-0305-4aa7-b8d4-556b96695c2b",
   "metadata": {},
   "source": [
    "## Export cleaned anime_db"
   ]
  },
  {
   "cell_type": "code",
   "execution_count": 29,
   "id": "273d498f-ca5d-460e-9b42-8b9eeac0a413",
   "metadata": {},
   "outputs": [],
   "source": [
    "anime_db.to_pickle(\"../data/anime_db_cleaned.pkl\")"
   ]
  },
  {
   "cell_type": "markdown",
   "id": "ae614241-3cd8-4ef6-b3f5-323e721e1bed",
   "metadata": {},
   "source": [
    "## EDA"
   ]
  },
  {
   "cell_type": "code",
   "execution_count": 71,
   "id": "f2814656-0669-4ce2-b8fe-bc6e8d16f07a",
   "metadata": {},
   "outputs": [
    {
     "data": {
      "image/png": "[encoded data removed]",
      "text/plain": [
       "<Figure size 864x576 with 1 Axes>"
      ]
     },
     "metadata": {
      "needs_background": "light"
     },
     "output_type": "display_data"
    }
   ],
   "source": [
    "plt.figure(figsize=(12,8))\n",
    "plt.title(\"Box plot of user ratings\")\n",
    "sns.boxplot(x= user_db_lightfm['rating'])\n",
    "plt.savefig(\"user_ratings_boxplot.png\");"
   ]
  },
  {
   "cell_type": "code",
   "execution_count": 64,
   "id": "7dc638eb-60a4-4cac-9eed-5a3b788c1ec6",
   "metadata": {},
   "outputs": [
    {
     "data": {
      "image/png": "[encoded data removed]",
      "text/plain": [
       "<Figure size 864x576 with 1 Axes>"
      ]
     },
     "metadata": {
      "needs_background": "light"
     },
     "output_type": "display_data"
    }
   ],
   "source": [
    "plt.figure(figsize=(12,8))\n",
    "plt.hist(user_db_lightfm['rating'],bins=10)\n",
    "plt.xlabel(\"Rating\")\n",
    "plt.ylabel(\"Count\")\n",
    "plt.title(\"Distribution of ratings\")\n",
    "plt.savefig(\"rating_dist.png\");"
   ]
  },
  {
   "cell_type": "code",
   "execution_count": 31,
   "id": "7973c8d0-1978-44fc-9dc7-f637d4113741",
   "metadata": {},
   "outputs": [
    {
     "data": {
      "text/plain": [
       "80     0.185641\n",
       "90     0.331654\n",
       "70     0.471551\n",
       "100    0.605392\n",
       "60     0.705472\n",
       "50     0.759831\n",
       "85     0.812390\n",
       "75     0.855194\n",
       "40     0.890604\n",
       "95     0.919183\n",
       "65     0.941056\n",
       "30     0.958902\n",
       "20     0.971131\n",
       "10     0.980687\n",
       "55     0.989018\n",
       "45     0.993323\n",
       "5      0.995952\n",
       "35     0.998154\n",
       "25     0.999341\n",
       "15     1.000000\n",
       "Name: rating, dtype: float64"
      ]
     },
     "execution_count": 31,
     "metadata": {},
     "output_type": "execute_result"
    }
   ],
   "source": [
    "user_db_lightfm['rating'].value_counts(normalize=True).cumsum()"
   ]
  },
  {
   "cell_type": "markdown",
   "id": "d6227657-fd43-44c5-8a50-65ec7167882e",
   "metadata": {},
   "source": [
    "Majority of ratings are 60-100. 75.9% of ratings are >= 50. This could indicate that animes would generally have a high average score as ratings are heavily skewed to the higher end. This could be because the general viewer may see a rating below 50 as being too harsh. Those who rate < 50 are either haters or purists. Based on domain knowledge, even terrible animes can manage a score of > 50, and the score distribution for most animes have the same shape as this distribution curve "
   ]
  },
  {
   "cell_type": "code",
   "execution_count": 32,
   "id": "2e837019-89bf-4056-838e-3e9f8f5b51b3",
   "metadata": {},
   "outputs": [],
   "source": [
    "rating_counts = pd.DataFrame(data=user_db_lightfm['mediaId'].value_counts())\n",
    "rating_counts.columns = ['rating_counts']"
   ]
  },
  {
   "cell_type": "code",
   "execution_count": 33,
   "id": "420a8abc-4222-4c81-853c-8d7fca129f97",
   "metadata": {},
   "outputs": [],
   "source": [
    "top_10_popular = rating_counts.head(10).index"
   ]
  },
  {
   "cell_type": "code",
   "execution_count": 34,
   "id": "4ca5140b-c10f-4183-ada3-fefba5d00bc7",
   "metadata": {},
   "outputs": [],
   "source": [
    "def get_ratings_count(anime_id):\n",
    "    return rating_counts.loc[anime_id]"
   ]
  },
  {
   "cell_type": "code",
   "execution_count": 35,
   "id": "b9d16628-632e-4d0b-af02-9a37024c6900",
   "metadata": {},
   "outputs": [],
   "source": [
    "anime_db['ratings_count'] = anime_db['id'].apply(get_ratings_count)"
   ]
  },
  {
   "cell_type": "code",
   "execution_count": 36,
   "id": "cbcaa7c8-a0d7-496e-8b13-5687c1071180",
   "metadata": {},
   "outputs": [
    {
     "data": {
      "text/html": [
       "<div>\n",
       "<style scoped>\n",
       "    .dataframe tbody tr th:only-of-type {\n",
       "        vertical-align: middle;\n",
       "    }\n",
       "\n",
       "    .dataframe tbody tr th {\n",
       "        vertical-align: top;\n",
       "    }\n",
       "\n",
       "    .dataframe thead th {\n",
       "        text-align: right;\n",
       "    }\n",
       "</style>\n",
       "<table border=\"1\" class=\"dataframe\">\n",
       "  <thead>\n",
       "    <tr style=\"text-align: right;\">\n",
       "      <th></th>\n",
       "      <th>id</th>\n",
       "      <th>title_romaji</th>\n",
       "      <th>title_english</th>\n",
       "      <th>averageScore</th>\n",
       "      <th>ratings_count</th>\n",
       "    </tr>\n",
       "  </thead>\n",
       "  <tbody>\n",
       "    <tr>\n",
       "      <th>6510</th>\n",
       "      <td>16498</td>\n",
       "      <td>Shingeki no Kyojin</td>\n",
       "      <td>Attack on Titan</td>\n",
       "      <td>85.0</td>\n",
       "      <td>7946</td>\n",
       "    </tr>\n",
       "    <tr>\n",
       "      <th>9510</th>\n",
       "      <td>101922</td>\n",
       "      <td>Kimetsu no Yaiba</td>\n",
       "      <td>Demon Slayer: Kimetsu no Yaiba</td>\n",
       "      <td>85.0</td>\n",
       "      <td>7231</td>\n",
       "    </tr>\n",
       "    <tr>\n",
       "      <th>8167</th>\n",
       "      <td>21459</td>\n",
       "      <td>Boku no Hero Academia</td>\n",
       "      <td>My Hero Academia</td>\n",
       "      <td>78.0</td>\n",
       "      <td>7048</td>\n",
       "    </tr>\n",
       "    <tr>\n",
       "      <th>1331</th>\n",
       "      <td>1535</td>\n",
       "      <td>DEATH NOTE</td>\n",
       "      <td>Death Note</td>\n",
       "      <td>84.0</td>\n",
       "      <td>6930</td>\n",
       "    </tr>\n",
       "    <tr>\n",
       "      <th>7877</th>\n",
       "      <td>21087</td>\n",
       "      <td>One Punch Man</td>\n",
       "      <td>One-Punch Man</td>\n",
       "      <td>83.0</td>\n",
       "      <td>6335</td>\n",
       "    </tr>\n",
       "    <tr>\n",
       "      <th>7771</th>\n",
       "      <td>20958</td>\n",
       "      <td>Shingeki no Kyojin 2</td>\n",
       "      <td>Attack on Titan Season 2</td>\n",
       "      <td>85.0</td>\n",
       "      <td>6309</td>\n",
       "    </tr>\n",
       "    <tr>\n",
       "      <th>8475</th>\n",
       "      <td>21856</td>\n",
       "      <td>Boku no Hero Academia 2</td>\n",
       "      <td>My Hero Academia Season 2</td>\n",
       "      <td>81.0</td>\n",
       "      <td>5933</td>\n",
       "    </tr>\n",
       "    <tr>\n",
       "      <th>8217</th>\n",
       "      <td>21519</td>\n",
       "      <td>Kimi no Na wa.</td>\n",
       "      <td>Your Name.</td>\n",
       "      <td>86.0</td>\n",
       "      <td>5909</td>\n",
       "    </tr>\n",
       "    <tr>\n",
       "      <th>7767</th>\n",
       "      <td>20954</td>\n",
       "      <td>Koe no Katachi</td>\n",
       "      <td>A Silent Voice</td>\n",
       "      <td>88.0</td>\n",
       "      <td>5893</td>\n",
       "    </tr>\n",
       "    <tr>\n",
       "      <th>5754</th>\n",
       "      <td>11757</td>\n",
       "      <td>Sword Art Online</td>\n",
       "      <td>Sword Art Online</td>\n",
       "      <td>69.0</td>\n",
       "      <td>5814</td>\n",
       "    </tr>\n",
       "  </tbody>\n",
       "</table>\n",
       "</div>"
      ],
      "text/plain": [
       "          id             title_romaji                   title_english  \\\n",
       "6510   16498       Shingeki no Kyojin                 Attack on Titan   \n",
       "9510  101922         Kimetsu no Yaiba  Demon Slayer: Kimetsu no Yaiba   \n",
       "8167   21459    Boku no Hero Academia                My Hero Academia   \n",
       "1331    1535               DEATH NOTE                      Death Note   \n",
       "7877   21087            One Punch Man                   One-Punch Man   \n",
       "7771   20958     Shingeki no Kyojin 2        Attack on Titan Season 2   \n",
       "8475   21856  Boku no Hero Academia 2       My Hero Academia Season 2   \n",
       "8217   21519           Kimi no Na wa.                      Your Name.   \n",
       "7767   20954           Koe no Katachi                  A Silent Voice   \n",
       "5754   11757         Sword Art Online                Sword Art Online   \n",
       "\n",
       "      averageScore  ratings_count  \n",
       "6510          85.0           7946  \n",
       "9510          85.0           7231  \n",
       "8167          78.0           7048  \n",
       "1331          84.0           6930  \n",
       "7877          83.0           6335  \n",
       "7771          85.0           6309  \n",
       "8475          81.0           5933  \n",
       "8217          86.0           5909  \n",
       "7767          88.0           5893  \n",
       "5754          69.0           5814  "
      ]
     },
     "execution_count": 36,
     "metadata": {},
     "output_type": "execute_result"
    }
   ],
   "source": [
    "anime_db[anime_db['id'].isin(top_10_popular)][['id','title_romaji','title_english','averageScore','ratings_count']].sort_values('ratings_count',ascending=False)"
   ]
  },
  {
   "cell_type": "markdown",
   "id": "4a096656-b21e-4f7b-8126-94df1dc33f3d",
   "metadata": {},
   "source": [
    "Top 10 most popular anime are all expected as they are widely known to be interesting/good and are popular. They have high average scores (>75) as well, with the exception of Sword Art Online"
   ]
  },
  {
   "cell_type": "code",
   "execution_count": 37,
   "id": "ec49c879-f355-4b26-be4b-927c6c2bb832",
   "metadata": {},
   "outputs": [
    {
     "data": {
      "text/plain": [
       "(1044, 24)"
      ]
     },
     "execution_count": 37,
     "metadata": {},
     "output_type": "execute_result"
    }
   ],
   "source": [
    "anime_db[anime_db['ratings_count']==1].shape"
   ]
  },
  {
   "cell_type": "markdown",
   "id": "126c1593-512b-4f62-ac24-aa07f7782bd1",
   "metadata": {},
   "source": [
    "There are 1044 animes that have only been rated by 1 user so there is not really a \"Least 10 popular\" animes"
   ]
  },
  {
   "cell_type": "code",
   "execution_count": 38,
   "id": "b943450f-3f7a-41f9-bec1-36e43b57061b",
   "metadata": {},
   "outputs": [
    {
     "name": "stdout",
     "output_type": "stream",
     "text": [
      "(1111, 1)\n"
     ]
    },
    {
     "data": {
      "text/html": [
       "<div>\n",
       "<style scoped>\n",
       "    .dataframe tbody tr th:only-of-type {\n",
       "        vertical-align: middle;\n",
       "    }\n",
       "\n",
       "    .dataframe tbody tr th {\n",
       "        vertical-align: top;\n",
       "    }\n",
       "\n",
       "    .dataframe thead th {\n",
       "        text-align: right;\n",
       "    }\n",
       "</style>\n",
       "<table border=\"1\" class=\"dataframe\">\n",
       "  <thead>\n",
       "    <tr style=\"text-align: right;\">\n",
       "      <th></th>\n",
       "      <th>genre_counts</th>\n",
       "    </tr>\n",
       "  </thead>\n",
       "  <tbody>\n",
       "    <tr>\n",
       "      <th>Comedy, Slice of Life</th>\n",
       "      <td>210</td>\n",
       "    </tr>\n",
       "    <tr>\n",
       "      <th>Comedy</th>\n",
       "      <td>179</td>\n",
       "    </tr>\n",
       "    <tr>\n",
       "      <th>Action, Adventure, Fantasy</th>\n",
       "      <td>109</td>\n",
       "    </tr>\n",
       "    <tr>\n",
       "      <th>Action, Mecha, Sci-Fi</th>\n",
       "      <td>99</td>\n",
       "    </tr>\n",
       "    <tr>\n",
       "      <th>Action, Sci-Fi</th>\n",
       "      <td>95</td>\n",
       "    </tr>\n",
       "    <tr>\n",
       "      <th>Adventure, Comedy, Fantasy</th>\n",
       "      <td>95</td>\n",
       "    </tr>\n",
       "    <tr>\n",
       "      <th>Action</th>\n",
       "      <td>87</td>\n",
       "    </tr>\n",
       "    <tr>\n",
       "      <th>Comedy, Romance</th>\n",
       "      <td>80</td>\n",
       "    </tr>\n",
       "    <tr>\n",
       "      <th>Comedy, Romance, Slice of Life</th>\n",
       "      <td>80</td>\n",
       "    </tr>\n",
       "    <tr>\n",
       "      <th>Action, Fantasy</th>\n",
       "      <td>72</td>\n",
       "    </tr>\n",
       "  </tbody>\n",
       "</table>\n",
       "</div>"
      ],
      "text/plain": [
       "                                genre_counts\n",
       "Comedy, Slice of Life                    210\n",
       "Comedy                                   179\n",
       "Action, Adventure, Fantasy               109\n",
       "Action, Mecha, Sci-Fi                     99\n",
       "Action, Sci-Fi                            95\n",
       "Adventure, Comedy, Fantasy                95\n",
       "Action                                    87\n",
       "Comedy, Romance                           80\n",
       "Comedy, Romance, Slice of Life            80\n",
       "Action, Fantasy                           72"
      ]
     },
     "execution_count": 38,
     "metadata": {},
     "output_type": "execute_result"
    }
   ],
   "source": [
    "genre_counts = pd.DataFrame(data=anime_db['genres_str'].value_counts())\n",
    "genre_counts.columns = ['genre_counts']\n",
    "print(genre_counts.shape)\n",
    "genre_counts.head(10)"
   ]
  },
  {
   "cell_type": "markdown",
   "id": "3164ae53-b557-4f09-9649-dd9a81be5cb8",
   "metadata": {},
   "source": [
    "The genres shown here have not been split, so each combination of genres will have a count. There are a total of 1111 combinations. The most common genre combination is \"Comedy, Slice of Life\". Comedy apears in half the combinations in the top 10."
   ]
  },
  {
   "cell_type": "code",
   "execution_count": 39,
   "id": "8aec501f-943d-4893-bd55-65cbf3710616",
   "metadata": {},
   "outputs": [],
   "source": [
    "split_genres = anime_db['genres_str'].str.get_dummies(', ')\n",
    "split_genres.columns = split_genres.columns.str.lower().str.replace(\" \",\"_\")"
   ]
  },
  {
   "cell_type": "code",
   "execution_count": 40,
   "id": "75e84177-b051-48ef-9174-bbd76aad9b11",
   "metadata": {},
   "outputs": [],
   "source": [
    "anime_db = pd.concat([anime_db,split_genres],axis=1)"
   ]
  },
  {
   "cell_type": "code",
   "execution_count": 41,
   "id": "8225ae1d-2f85-402e-a17e-07206047d557",
   "metadata": {},
   "outputs": [],
   "source": [
    "genre_count = []\n",
    "\n",
    "for column in split_genres.columns:\n",
    "    genre_count.append(anime_db[anime_db[column]==1][column].count())"
   ]
  },
  {
   "cell_type": "code",
   "execution_count": 42,
   "id": "2ff5da50-0062-4bf3-a88b-acf6dd6ab759",
   "metadata": {},
   "outputs": [],
   "source": [
    "genres_count_df = pd.DataFrame(data=[split_genres.columns.values,genre_count]).T\n",
    "genres_count_df.columns = ['genre','count']"
   ]
  },
  {
   "cell_type": "code",
   "execution_count": 43,
   "id": "83e32f43-f3d6-4be6-8adf-1b4b94358360",
   "metadata": {
    "tags": []
   },
   "outputs": [
    {
     "data": {
      "text/html": [
       "<div>\n",
       "<style scoped>\n",
       "    .dataframe tbody tr th:only-of-type {\n",
       "        vertical-align: middle;\n",
       "    }\n",
       "\n",
       "    .dataframe tbody tr th {\n",
       "        vertical-align: top;\n",
       "    }\n",
       "\n",
       "    .dataframe thead th {\n",
       "        text-align: right;\n",
       "    }\n",
       "</style>\n",
       "<table border=\"1\" class=\"dataframe\">\n",
       "  <thead>\n",
       "    <tr style=\"text-align: right;\">\n",
       "      <th></th>\n",
       "      <th>genre</th>\n",
       "      <th>count</th>\n",
       "    </tr>\n",
       "  </thead>\n",
       "  <tbody>\n",
       "    <tr>\n",
       "      <th>2</th>\n",
       "      <td>comedy</td>\n",
       "      <td>2694</td>\n",
       "    </tr>\n",
       "    <tr>\n",
       "      <th>0</th>\n",
       "      <td>action</td>\n",
       "      <td>2477</td>\n",
       "    </tr>\n",
       "    <tr>\n",
       "      <th>3</th>\n",
       "      <td>drama</td>\n",
       "      <td>1754</td>\n",
       "    </tr>\n",
       "    <tr>\n",
       "      <th>5</th>\n",
       "      <td>fantasy</td>\n",
       "      <td>1657</td>\n",
       "    </tr>\n",
       "    <tr>\n",
       "      <th>1</th>\n",
       "      <td>adventure</td>\n",
       "      <td>1630</td>\n",
       "    </tr>\n",
       "    <tr>\n",
       "      <th>13</th>\n",
       "      <td>sci-fi</td>\n",
       "      <td>1501</td>\n",
       "    </tr>\n",
       "    <tr>\n",
       "      <th>12</th>\n",
       "      <td>romance</td>\n",
       "      <td>1393</td>\n",
       "    </tr>\n",
       "    <tr>\n",
       "      <th>14</th>\n",
       "      <td>slice_of_life</td>\n",
       "      <td>988</td>\n",
       "    </tr>\n",
       "    <tr>\n",
       "      <th>16</th>\n",
       "      <td>supernatural</td>\n",
       "      <td>943</td>\n",
       "    </tr>\n",
       "    <tr>\n",
       "      <th>8</th>\n",
       "      <td>mecha</td>\n",
       "      <td>603</td>\n",
       "    </tr>\n",
       "    <tr>\n",
       "      <th>4</th>\n",
       "      <td>ecchi</td>\n",
       "      <td>598</td>\n",
       "    </tr>\n",
       "    <tr>\n",
       "      <th>10</th>\n",
       "      <td>mystery</td>\n",
       "      <td>564</td>\n",
       "    </tr>\n",
       "    <tr>\n",
       "      <th>15</th>\n",
       "      <td>sports</td>\n",
       "      <td>391</td>\n",
       "    </tr>\n",
       "    <tr>\n",
       "      <th>11</th>\n",
       "      <td>psychological</td>\n",
       "      <td>349</td>\n",
       "    </tr>\n",
       "    <tr>\n",
       "      <th>9</th>\n",
       "      <td>music</td>\n",
       "      <td>285</td>\n",
       "    </tr>\n",
       "    <tr>\n",
       "      <th>6</th>\n",
       "      <td>horror</td>\n",
       "      <td>279</td>\n",
       "    </tr>\n",
       "    <tr>\n",
       "      <th>7</th>\n",
       "      <td>mahou_shoujo</td>\n",
       "      <td>233</td>\n",
       "    </tr>\n",
       "    <tr>\n",
       "      <th>17</th>\n",
       "      <td>thriller</td>\n",
       "      <td>140</td>\n",
       "    </tr>\n",
       "  </tbody>\n",
       "</table>\n",
       "</div>"
      ],
      "text/plain": [
       "            genre count\n",
       "2          comedy  2694\n",
       "0          action  2477\n",
       "3           drama  1754\n",
       "5         fantasy  1657\n",
       "1       adventure  1630\n",
       "13         sci-fi  1501\n",
       "12        romance  1393\n",
       "14  slice_of_life   988\n",
       "16   supernatural   943\n",
       "8           mecha   603\n",
       "4           ecchi   598\n",
       "10        mystery   564\n",
       "15         sports   391\n",
       "11  psychological   349\n",
       "9           music   285\n",
       "6          horror   279\n",
       "7    mahou_shoujo   233\n",
       "17       thriller   140"
      ]
     },
     "execution_count": 43,
     "metadata": {},
     "output_type": "execute_result"
    }
   ],
   "source": [
    "genres_count_df.sort_values('count',ascending=False)"
   ]
  },
  {
   "cell_type": "markdown",
   "id": "e655633b-6904-42fb-9e57-fe9b18ff3206",
   "metadata": {},
   "source": [
    "The most common genre is Comedy, followed by Action and Drama"
   ]
  },
  {
   "cell_type": "markdown",
   "id": "00689051-fd1e-4857-876f-bf022d4e5536",
   "metadata": {},
   "source": [
    "## Exports"
   ]
  },
  {
   "cell_type": "markdown",
   "id": "2cee2ee5-523b-475e-8ede-20b22ee2c7fe",
   "metadata": {},
   "source": [
    "### Export data for modelling"
   ]
  },
  {
   "cell_type": "code",
   "execution_count": 44,
   "id": "34030d18-dddd-4706-80c9-98a992963666",
   "metadata": {},
   "outputs": [],
   "source": [
    "id_genre_dict = {x:y for x,y in zip(anime_db['id'],anime_db['genres'])}"
   ]
  },
  {
   "cell_type": "code",
   "execution_count": 45,
   "id": "194c33e3-0c00-4149-a624-84130c8c8432",
   "metadata": {},
   "outputs": [],
   "source": [
    "user_db_lightfm['genres'] = user_db_lightfm['mediaId'].map(id_genre_dict)"
   ]
  },
  {
   "cell_type": "code",
   "execution_count": 46,
   "id": "18951e80-822a-4a28-b7fe-68ba6fcc82e5",
   "metadata": {},
   "outputs": [],
   "source": [
    "user_db_lightfm.to_pickle('../data/user_db_lightfm_genres.pkl')"
   ]
  },
  {
   "cell_type": "markdown",
   "id": "bf79d086-91b7-40c2-8f36-6cb39801b7d9",
   "metadata": {},
   "source": [
    "### Export titles, anime id and titles mapping"
   ]
  },
  {
   "cell_type": "markdown",
   "id": "7877430c-3069-4f4b-9e88-7903d1e67ac8",
   "metadata": {},
   "source": [
    "For the webapp drop-down list and mapping predictions"
   ]
  },
  {
   "cell_type": "code",
   "execution_count": 47,
   "id": "019dedb7-4a07-487f-9d15-0476adfdf015",
   "metadata": {},
   "outputs": [],
   "source": [
    "anime_db['all_relations'] = anime_db['id'].apply(convert_to_list) + anime_db['relations']"
   ]
  },
  {
   "cell_type": "code",
   "execution_count": 48,
   "id": "111c5550-bc35-4bc4-b0eb-46784045b523",
   "metadata": {},
   "outputs": [],
   "source": [
    "id_and_relations_dict = {x:y for x,y in zip(anime_db['id'],anime_db['all_relations'])}"
   ]
  },
  {
   "cell_type": "code",
   "execution_count": 49,
   "id": "e8387bf8-763c-4ddd-8439-10e2a98de4de",
   "metadata": {},
   "outputs": [],
   "source": [
    "# recursive function to get main series id\n",
    "def get_series_id(current_id,relations_id):\n",
    "    if relations_id is np.nan or relations_id is None:\n",
    "        return None\n",
    "    \n",
    "    relations_id = [int(x) for x in relations_id if int(x) in id_and_relations_dict.keys()]\n",
    "    relations_id.sort()\n",
    "    \n",
    "    if len(relations_id) > 0:\n",
    "        if current_id == min(relations_id):\n",
    "            return current_id\n",
    "        else:\n",
    "            current_id = min(relations_id)\n",
    "            return get_series_id(current_id,id_and_relations_dict[current_id])\n",
    "    else:\n",
    "        return None"
   ]
  },
  {
   "cell_type": "code",
   "execution_count": 50,
   "id": "ed0eb97a-d3cf-431e-821c-112efc281d39",
   "metadata": {
    "scrolled": true,
    "tags": []
   },
   "outputs": [],
   "source": [
    "series_id_list = []\n",
    "\n",
    "for anime_id in id_and_relations_dict:\n",
    "    series_id_list.append(get_series_id(anime_id,id_and_relations_dict[anime_id]))"
   ]
  },
  {
   "cell_type": "code",
   "execution_count": 51,
   "id": "14f4e34f-2feb-4445-89ba-b09268cb7910",
   "metadata": {},
   "outputs": [],
   "source": [
    "series_mapping = {x:y for x,y in zip(id_and_relations_dict,series_id_list)}"
   ]
  },
  {
   "cell_type": "code",
   "execution_count": 52,
   "id": "613fe5a1-b7f9-4b78-a5c5-183aa5b49835",
   "metadata": {},
   "outputs": [],
   "source": [
    "anime_db['series_id'] = anime_db['id'].map(series_mapping)\n",
    "anime_db['series_id'].fillna(anime_db['id'],inplace=True)\n",
    "anime_db['series_id'] = anime_db['series_id'].astype(np.int64)"
   ]
  },
  {
   "cell_type": "code",
   "execution_count": 53,
   "id": "d55738dc-d2dc-4f4b-97a2-35acf76ef0f7",
   "metadata": {},
   "outputs": [],
   "source": [
    "title_romaji_mapping = {x:y for x,y in zip(anime_db['id'],anime_db['title_romaji'])}\n",
    "title_english_mapping = {x:y for x,y in zip(anime_db['id'],anime_db['title_english'])}"
   ]
  },
  {
   "cell_type": "code",
   "execution_count": 54,
   "id": "41b4b84a-ca41-468f-8154-8bb823832bcd",
   "metadata": {
    "scrolled": true,
    "tags": []
   },
   "outputs": [],
   "source": [
    "anime_db['series_title_romaji'] = anime_db['series_id'].map(title_romaji_mapping)\n",
    "anime_db['series_title_english'] = anime_db['series_id'].map(title_english_mapping)"
   ]
  },
  {
   "cell_type": "markdown",
   "id": "c3f4c2ce-d6ac-40f6-9b53-bd9cf9e0f03c",
   "metadata": {},
   "source": [
    "Performed a recursive search to get the id of the first anime of the series, with the intent to collapse related titles into 1 title to reduce clutter in the list of anime titles. However, upon further analysis, doing so is not ideal. While titles like Shingeki no Kyojin's/Attack on Titan's multiple seasons can be collapsed into 1 title \"Shingeki no Kyojin\" (or \"Attack on Titan\" for its english title), it also collapses anime titles which are spin-offs of the main series, which are considered to be different from the main series. E.g. the Toaru series. \n",
    "\n",
    "The Toaru series started with Toaru Majutsu no Index/A Certain Magical Index, and 2 spin-offs were made from it, Toaru Kagaku no Railgun/A Certain Scientific Railgun and Toaru Kagaku no Accelerator/A Certain Scientific Accelerator. While the 3 are related and take place in the same universe and cover events that took place around the same time period, they are seen as separate animes belonging to the same universe. Therefore, collapsing anime titles into their main series title is not ideal."
   ]
  },
  {
   "cell_type": "code",
   "execution_count": 55,
   "id": "7670c479-4810-4297-8000-0fcf7a7e8594",
   "metadata": {},
   "outputs": [
    {
     "data": {
      "text/html": [
       "<div>\n",
       "<style scoped>\n",
       "    .dataframe tbody tr th:only-of-type {\n",
       "        vertical-align: middle;\n",
       "    }\n",
       "\n",
       "    .dataframe tbody tr th {\n",
       "        vertical-align: top;\n",
       "    }\n",
       "\n",
       "    .dataframe thead th {\n",
       "        text-align: right;\n",
       "    }\n",
       "</style>\n",
       "<table border=\"1\" class=\"dataframe\">\n",
       "  <thead>\n",
       "    <tr style=\"text-align: right;\">\n",
       "      <th></th>\n",
       "      <th>id</th>\n",
       "      <th>title_romaji</th>\n",
       "      <th>title_english</th>\n",
       "      <th>genres</th>\n",
       "    </tr>\n",
       "  </thead>\n",
       "  <tbody>\n",
       "    <tr>\n",
       "      <th>0</th>\n",
       "      <td>1</td>\n",
       "      <td>Cowboy Bebop</td>\n",
       "      <td>Cowboy Bebop</td>\n",
       "      <td>[Action, Adventure, Drama, Sci-Fi]</td>\n",
       "    </tr>\n",
       "    <tr>\n",
       "      <th>1</th>\n",
       "      <td>5</td>\n",
       "      <td>Cowboy Bebop: Tengoku no Tobira</td>\n",
       "      <td>Cowboy Bebop: The Movie - Knockin' on Heaven's...</td>\n",
       "      <td>[Action, Drama, Mystery, Sci-Fi]</td>\n",
       "    </tr>\n",
       "    <tr>\n",
       "      <th>2</th>\n",
       "      <td>6</td>\n",
       "      <td>TRIGUN</td>\n",
       "      <td>Trigun</td>\n",
       "      <td>[Action, Adventure, Comedy, Drama, Sci-Fi]</td>\n",
       "    </tr>\n",
       "    <tr>\n",
       "      <th>3</th>\n",
       "      <td>7</td>\n",
       "      <td>Witch Hunter ROBIN</td>\n",
       "      <td>Witch Hunter ROBIN</td>\n",
       "      <td>[Action, Drama, Mystery, Supernatural]</td>\n",
       "    </tr>\n",
       "    <tr>\n",
       "      <th>4</th>\n",
       "      <td>8</td>\n",
       "      <td>Bouken Ou Beet</td>\n",
       "      <td>Beet the Vandel Buster</td>\n",
       "      <td>[Adventure, Fantasy, Supernatural]</td>\n",
       "    </tr>\n",
       "  </tbody>\n",
       "</table>\n",
       "</div>"
      ],
      "text/plain": [
       "   id                     title_romaji  \\\n",
       "0   1                     Cowboy Bebop   \n",
       "1   5  Cowboy Bebop: Tengoku no Tobira   \n",
       "2   6                           TRIGUN   \n",
       "3   7               Witch Hunter ROBIN   \n",
       "4   8                   Bouken Ou Beet   \n",
       "\n",
       "                                       title_english  \\\n",
       "0                                       Cowboy Bebop   \n",
       "1  Cowboy Bebop: The Movie - Knockin' on Heaven's...   \n",
       "2                                             Trigun   \n",
       "3                                 Witch Hunter ROBIN   \n",
       "4                             Beet the Vandel Buster   \n",
       "\n",
       "                                       genres  \n",
       "0          [Action, Adventure, Drama, Sci-Fi]  \n",
       "1            [Action, Drama, Mystery, Sci-Fi]  \n",
       "2  [Action, Adventure, Comedy, Drama, Sci-Fi]  \n",
       "3      [Action, Drama, Mystery, Supernatural]  \n",
       "4          [Adventure, Fantasy, Supernatural]  "
      ]
     },
     "execution_count": 55,
     "metadata": {},
     "output_type": "execute_result"
    }
   ],
   "source": [
    "anime_db_id_titles = anime_db[['id','title_romaji','title_english','genres']]\n",
    "anime_db_id_titles.head()"
   ]
  },
  {
   "cell_type": "code",
   "execution_count": 56,
   "id": "ba74fa16-0a45-4b3f-b47e-deaf9a1e0aed",
   "metadata": {},
   "outputs": [],
   "source": [
    "anime_db_id_titles.to_pickle(\"../data/anime_id_mapping.pkl\")"
   ]
  },
  {
   "cell_type": "code",
   "execution_count": 57,
   "id": "f616ddbc-569f-45ed-8017-d3f1f9975045",
   "metadata": {
    "scrolled": true,
    "tags": []
   },
   "outputs": [],
   "source": [
    "anime_title_list_english = list(anime_db_id_titles['title_english'].values)\n",
    "anime_title_list_romaji = list(anime_db_id_titles['title_romaji'].values)\n",
    "# to remove duplicates as we imputed missing values in title_english with title_romaji\n",
    "# there are also instances where the romaji and english titles are the same\n",
    "anime_title_list = list(set(anime_title_list_english + anime_title_list_romaji))\n",
    "# to have the list displayed in the app in alphabetical order\n",
    "anime_title_list.sort()"
   ]
  },
  {
   "cell_type": "code",
   "execution_count": 58,
   "id": "ad8eb3ec-c7ea-483b-a09b-c8ec9d45f4bc",
   "metadata": {},
   "outputs": [],
   "source": [
    "pickle.dump(anime_title_list, open('../data/anime_titles.pkl', 'wb'))"
   ]
  },
  {
   "cell_type": "code",
   "execution_count": 59,
   "id": "d332251c-2f7e-47da-b147-60cc5698e282",
   "metadata": {},
   "outputs": [],
   "source": [
    "anime_db.to_pickle(\"../data/anime_db_cleaned.pkl\")"
   ]
  },
  {
   "cell_type": "markdown",
   "id": "89b15494-2db2-4a3b-8fcd-fe42445b70a2",
   "metadata": {},
   "source": [
    "### Export genres"
   ]
  },
  {
   "cell_type": "markdown",
   "id": "e9a4392f-ac6a-4b0e-9daf-f63753f89e36",
   "metadata": {},
   "source": [
    "For the app genres drop-down list"
   ]
  },
  {
   "cell_type": "code",
   "execution_count": 60,
   "id": "e96ed9ce-9583-48f7-9eea-6299e488f01f",
   "metadata": {},
   "outputs": [],
   "source": [
    "anime_genres = list(anime_db['genres'].dropna().values)\n",
    "anime_genre_list = []\n",
    "\n",
    "for genres in anime_genres:\n",
    "    anime_genre_list.extend(genres)\n",
    "\n",
    "anime_genre_list = list(set(anime_genre_list))\n",
    "anime_genre_list.sort()"
   ]
  },
  {
   "cell_type": "code",
   "execution_count": 61,
   "id": "3a7d181d-fe24-4cf9-9c0f-7e3902d2531d",
   "metadata": {},
   "outputs": [],
   "source": [
    "pickle.dump(anime_genre_list, open('../data/anime_genres.pkl', 'wb'))"
   ]
  },
  {
   "cell_type": "code",
   "execution_count": null,
   "id": "0d9c353f-7d11-4a82-b92e-564c7d46a574",
   "metadata": {},
   "outputs": [],
   "source": []
  }
 ],
 "metadata": {
  "kernelspec": {
   "display_name": "Python 3",
   "language": "python",
   "name": "python3"
  },
  "language_info": {
   "codemirror_mode": {
    "name": "ipython",
    "version": 3
   },
   "file_extension": ".py",
   "mimetype": "text/x-python",
   "name": "python",
   "nbconvert_exporter": "python",
   "pygments_lexer": "ipython3",
   "version": "3.8.8"
  }
 },
 "nbformat": 4,
 "nbformat_minor": 5
}
