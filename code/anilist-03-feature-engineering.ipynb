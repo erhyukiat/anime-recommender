{
 "cells": [
  {
   "cell_type": "markdown",
   "id": "49cff676-4940-416e-9ad7-0d16787589c4",
   "metadata": {},
   "source": [
    "# Anime Recommender 03: Feature Engineering"
   ]
  },
  {
   "cell_type": "markdown",
   "id": "6ea786a0-54fa-498c-834d-3d0ee34408bc",
   "metadata": {},
   "source": [
    "## Imports"
   ]
  },
  {
   "cell_type": "code",
   "execution_count": 1,
   "id": "5e3b0231-516f-4751-925d-b2c9af0d6449",
   "metadata": {},
   "outputs": [],
   "source": [
    "import pandas as pd\n",
    "import numpy as np\n",
    "import pickle"
   ]
  },
  {
   "cell_type": "markdown",
   "id": "07919da3-4577-40d6-a1d3-fc822681777d",
   "metadata": {},
   "source": [
    "## User data"
   ]
  },
  {
   "cell_type": "code",
   "execution_count": 2,
   "id": "72d076a9-edd3-49a9-90a5-a6455737f945",
   "metadata": {},
   "outputs": [
    {
     "name": "stdout",
     "output_type": "stream",
     "text": [
      "(912234, 4)\n"
     ]
    },
    {
     "data": {
      "text/html": [
       "<div>\n",
       "<style scoped>\n",
       "    .dataframe tbody tr th:only-of-type {\n",
       "        vertical-align: middle;\n",
       "    }\n",
       "\n",
       "    .dataframe tbody tr th {\n",
       "        vertical-align: top;\n",
       "    }\n",
       "\n",
       "    .dataframe thead th {\n",
       "        text-align: right;\n",
       "    }\n",
       "</style>\n",
       "<table border=\"1\" class=\"dataframe\">\n",
       "  <thead>\n",
       "    <tr style=\"text-align: right;\">\n",
       "      <th></th>\n",
       "      <th>userId</th>\n",
       "      <th>mediaId</th>\n",
       "      <th>rating</th>\n",
       "      <th>genres</th>\n",
       "    </tr>\n",
       "  </thead>\n",
       "  <tbody>\n",
       "    <tr>\n",
       "      <th>0</th>\n",
       "      <td>710080</td>\n",
       "      <td>1535</td>\n",
       "      <td>70</td>\n",
       "      <td>[Mystery, Psychological, Supernatural, Thriller]</td>\n",
       "    </tr>\n",
       "    <tr>\n",
       "      <th>1</th>\n",
       "      <td>710080</td>\n",
       "      <td>21459</td>\n",
       "      <td>70</td>\n",
       "      <td>[Action, Adventure, Comedy]</td>\n",
       "    </tr>\n",
       "    <tr>\n",
       "      <th>2</th>\n",
       "      <td>710080</td>\n",
       "      <td>113415</td>\n",
       "      <td>70</td>\n",
       "      <td>[Action, Drama, Supernatural]</td>\n",
       "    </tr>\n",
       "    <tr>\n",
       "      <th>3</th>\n",
       "      <td>710080</td>\n",
       "      <td>11757</td>\n",
       "      <td>70</td>\n",
       "      <td>[Action, Adventure, Fantasy, Romance]</td>\n",
       "    </tr>\n",
       "    <tr>\n",
       "      <th>4</th>\n",
       "      <td>710080</td>\n",
       "      <td>5114</td>\n",
       "      <td>70</td>\n",
       "      <td>[Action, Adventure, Drama, Fantasy]</td>\n",
       "    </tr>\n",
       "  </tbody>\n",
       "</table>\n",
       "</div>"
      ],
      "text/plain": [
       "   userId  mediaId  rating                                            genres\n",
       "0  710080     1535      70  [Mystery, Psychological, Supernatural, Thriller]\n",
       "1  710080    21459      70                       [Action, Adventure, Comedy]\n",
       "2  710080   113415      70                     [Action, Drama, Supernatural]\n",
       "3  710080    11757      70             [Action, Adventure, Fantasy, Romance]\n",
       "4  710080     5114      70               [Action, Adventure, Drama, Fantasy]"
      ]
     },
     "execution_count": 2,
     "metadata": {},
     "output_type": "execute_result"
    }
   ],
   "source": [
    "users_db = pd.read_pickle(\"../data/user_db_lightfm_genres.pkl\")\n",
    "print(users_db.shape)\n",
    "users_db.head()"
   ]
  },
  {
   "cell_type": "code",
   "execution_count": 3,
   "id": "c35952ee-14fe-4f14-9b3d-207e1f9f1f97",
   "metadata": {},
   "outputs": [
    {
     "data": {
      "text/plain": [
       "14260"
      ]
     },
     "execution_count": 3,
     "metadata": {},
     "output_type": "execute_result"
    }
   ],
   "source": [
    "users_db['userId'].nunique()"
   ]
  },
  {
   "cell_type": "code",
   "execution_count": 5,
   "id": "c20c8db0-8b89-4064-8f19-b78a36977fc4",
   "metadata": {},
   "outputs": [],
   "source": [
    "def convert_to_str(genres_list):\n",
    "    if genres_list is np.nan:\n",
    "        return None\n",
    "    return \", \".join(genres_list)"
   ]
  },
  {
   "cell_type": "code",
   "execution_count": 114,
   "id": "6ff9056f-4f56-4062-85dd-46fccae70849",
   "metadata": {},
   "outputs": [],
   "source": [
    "users_db['genres_str'] = users_db['genres'].apply(convert_to_str)"
   ]
  },
  {
   "cell_type": "code",
   "execution_count": 86,
   "id": "3434f121-1bb4-4692-a1f5-ff3c51b7a4d7",
   "metadata": {},
   "outputs": [],
   "source": [
    "mask_avg = users_db['rating'] >= users_db['user_avg_rating']\n",
    "mask_75pct = users_db['rating'] >= users_db['user_75pct_rating']"
   ]
  },
  {
   "cell_type": "markdown",
   "id": "b70d77cd-9c31-451f-abd0-08d37d6edf2d",
   "metadata": {},
   "source": [
    "#### Choosing liked genres based on average rating and 75th percentile rating"
   ]
  },
  {
   "cell_type": "code",
   "execution_count": 82,
   "id": "f6c8babb-282b-47e5-864e-6b53521ea216",
   "metadata": {},
   "outputs": [],
   "source": [
    "users_avg_rating = {x:int(5 * round(y/5)) \n",
    "                    for x,y in zip (users_db.groupby('user_id').mean()['rating'].index,\n",
    "                                    users_db.groupby('user_id').mean()['rating'].values)}"
   ]
  },
  {
   "cell_type": "code",
   "execution_count": 83,
   "id": "9fa86a3d-50d6-4552-9c4f-835a63089926",
   "metadata": {},
   "outputs": [],
   "source": [
    "users_75pct_rating = {x:int(5 * round(y/5)) \n",
    "                      for x,y in zip (users_db.groupby('user_id').quantile(.75)['rating'].index,\n",
    "                                      users_db.groupby('user_id').quantile(.75)['rating'].values)}"
   ]
  },
  {
   "cell_type": "code",
   "execution_count": 84,
   "id": "64790db6-cdae-4018-860d-aea61632229b",
   "metadata": {},
   "outputs": [],
   "source": [
    "users_db['user_avg_rating'] = users_db['user_id'].map(users_avg_rating)"
   ]
  },
  {
   "cell_type": "code",
   "execution_count": 85,
   "id": "2c25162e-7fe8-4e75-be81-98f17324e7c2",
   "metadata": {},
   "outputs": [],
   "source": [
    "users_db['user_75pct_rating'] = users_db['user_id'].map(users_75pct_rating)"
   ]
  },
  {
   "cell_type": "code",
   "execution_count": 87,
   "id": "e6177a12-9726-49b3-bb84-fa66cd43828c",
   "metadata": {},
   "outputs": [],
   "source": [
    "users_liked_genres_avg = {x:sorted(list(set(list(y.split(', '))))) \n",
    "                          for x,y in zip(users_db[mask_avg].groupby('user_id')['genres_str'].apply(lambda x: ', '.join(x)).index, \n",
    "                                         users_db[mask_avg].groupby('user_id')['genres_str'].apply(lambda x: ', '.join(x)).values)}\n"
   ]
  },
  {
   "cell_type": "code",
   "execution_count": 88,
   "id": "f5a3bf65-385e-4649-b826-ceed90ac9826",
   "metadata": {},
   "outputs": [],
   "source": [
    "users_liked_genres_75pct = {x:sorted(list(set(list(y.split(', '))))) \n",
    "                            for x,y in zip(users_db[mask_75pct].groupby('user_id')['genres_str'].apply(lambda x: ', '.join(x)).index, \n",
    "                                           users_db[mask_75pct].groupby('user_id')['genres_str'].apply(lambda x: ', '.join(x)).values)}"
   ]
  },
  {
   "cell_type": "code",
   "execution_count": 89,
   "id": "8f01c66f-8c32-4b4e-88bd-086065a4d31a",
   "metadata": {},
   "outputs": [],
   "source": [
    "users_db['liked_genres_avg'] = users_db['user_id'].map(users_liked_genres_avg)\n",
    "users_db['liked_genres_75pct'] = users_db['user_id'].map(users_liked_genres_75pct)"
   ]
  },
  {
   "cell_type": "markdown",
   "id": "21931058-6d3a-47b6-b739-cbeb7974b014",
   "metadata": {},
   "source": [
    "#### Choosing top 3 or 5 most common genres based on average rating and 75th percentile rating"
   ]
  },
  {
   "cell_type": "code",
   "execution_count": 104,
   "id": "1cd30d10-423f-449a-8925-21d58f57ef0e",
   "metadata": {},
   "outputs": [],
   "source": [
    "watched_genres_avg = {x:sorted(list(y.split(', '))) \n",
    "                     for x,y in zip(users_db[mask_avg].groupby('user_id')['genres_str'].apply(lambda x: ', '.join(x)).index,\n",
    "                                    users_db[mask_avg].groupby('user_id')['genres_str'].apply(lambda x: ', '.join(x)).values)}"
   ]
  },
  {
   "cell_type": "code",
   "execution_count": 105,
   "id": "5b8e7b6f-e9bb-4661-8bc2-2d77b33417c3",
   "metadata": {},
   "outputs": [],
   "source": [
    "watched_genres_75pct = {x:sorted(list(y.split(', ')))\n",
    "                        for x,y in zip(users_db[mask_75pct].groupby('user_id')['genres_str'].apply(lambda x: ', '.join(x)).index,\n",
    "                                       users_db[mask_75pct].groupby('user_id')['genres_str'].apply(lambda x: ', '.join(x)).values)}"
   ]
  },
  {
   "cell_type": "code",
   "execution_count": 106,
   "id": "dd6e8850-7174-4dcb-8543-6fe50b47988a",
   "metadata": {},
   "outputs": [],
   "source": [
    "users_db['watched_genres_avg'] = users_db['user_id'].map(watched_genres_avg)\n",
    "users_db['watched_genres_75pct'] = users_db['user_id'].map(watched_genres_75pct)"
   ]
  },
  {
   "cell_type": "code",
   "execution_count": 107,
   "id": "d891e30f-e4af-4e14-9f6f-a722d5741df8",
   "metadata": {},
   "outputs": [],
   "source": [
    "genres = pickle.load(open('../data/anime_genres.pkl', 'rb'))"
   ]
  },
  {
   "cell_type": "code",
   "execution_count": 108,
   "id": "5f5ef5ee-f784-4693-8b5b-7b7f7d82843d",
   "metadata": {},
   "outputs": [],
   "source": [
    "def get_top_n_genres(watched_genres, n):\n",
    "    genres_count = [0] * 18\n",
    "    output_list = []\n",
    "    for watched_genre in watched_genres:\n",
    "        for idx,genre in enumerate(genres):\n",
    "            if watched_genre == genre:\n",
    "                genres_count[idx]+=1\n",
    "                break\n",
    "    \n",
    "    top_n = sorted(zip(genres_count,genres),reverse=True)[:n]\n",
    "    for pair in top_n:\n",
    "        output_list.append(pair[1])\n",
    "    \n",
    "    return sorted(output_list)"
   ]
  },
  {
   "cell_type": "code",
   "execution_count": 110,
   "id": "b66590aa-f455-48ff-a678-dcff98eaa401",
   "metadata": {},
   "outputs": [],
   "source": [
    "users_db['top_3_genres_avg'] = users_db['watched_genres_avg'].apply(get_top_n_genres,args=(3,))\n",
    "users_db['top_5_genres_avg'] = users_db['watched_genres_avg'].apply(get_top_n_genres,args=(5,))\n",
    "users_db['top_3_genres_75pct'] = users_db['watched_genres_75pct'].apply(get_top_n_genres,args=(3,))\n",
    "users_db['top_5_genres_75pct'] = users_db['watched_genres_75pct'].apply(get_top_n_genres,args=(5,))"
   ]
  },
  {
   "cell_type": "markdown",
   "id": "9c058d06-b9d7-4b91-80df-cb5510d69138",
   "metadata": {},
   "source": [
    "### Export"
   ]
  },
  {
   "cell_type": "code",
   "execution_count": 118,
   "id": "cdc7c6b8-0b29-4d57-929e-9e5c984cb929",
   "metadata": {},
   "outputs": [],
   "source": [
    "users_db.drop(columns=['genres_str','user_avg_rating','user_75pct_rating','watched_genres_avg','watched_genres_75pct'],inplace=True)"
   ]
  },
  {
   "cell_type": "code",
   "execution_count": 120,
   "id": "93650287-eee4-4fe0-912a-9448bd96a3b5",
   "metadata": {},
   "outputs": [
    {
     "data": {
      "text/html": [
       "<div>\n",
       "<style scoped>\n",
       "    .dataframe tbody tr th:only-of-type {\n",
       "        vertical-align: middle;\n",
       "    }\n",
       "\n",
       "    .dataframe tbody tr th {\n",
       "        vertical-align: top;\n",
       "    }\n",
       "\n",
       "    .dataframe thead th {\n",
       "        text-align: right;\n",
       "    }\n",
       "</style>\n",
       "<table border=\"1\" class=\"dataframe\">\n",
       "  <thead>\n",
       "    <tr style=\"text-align: right;\">\n",
       "      <th></th>\n",
       "      <th>user_id</th>\n",
       "      <th>media_id</th>\n",
       "      <th>rating</th>\n",
       "      <th>genres</th>\n",
       "      <th>liked_genres_avg</th>\n",
       "      <th>liked_genres_75pct</th>\n",
       "      <th>top_3_genres_avg</th>\n",
       "      <th>top_5_genres_avg</th>\n",
       "      <th>top_3_genres_75pct</th>\n",
       "      <th>top_5_genres_75pct</th>\n",
       "    </tr>\n",
       "  </thead>\n",
       "  <tbody>\n",
       "    <tr>\n",
       "      <th>0</th>\n",
       "      <td>710080</td>\n",
       "      <td>1535</td>\n",
       "      <td>70</td>\n",
       "      <td>[Mystery, Psychological, Supernatural, Thriller]</td>\n",
       "      <td>[Action, Adventure, Comedy, Drama, Ecchi, Fant...</td>\n",
       "      <td>[Action, Adventure, Comedy, Drama, Ecchi, Fant...</td>\n",
       "      <td>[Action, Comedy, Drama]</td>\n",
       "      <td>[Action, Comedy, Drama, Fantasy, Supernatural]</td>\n",
       "      <td>[Action, Comedy, Drama]</td>\n",
       "      <td>[Action, Comedy, Drama, Fantasy, Slice of Life]</td>\n",
       "    </tr>\n",
       "    <tr>\n",
       "      <th>1</th>\n",
       "      <td>710080</td>\n",
       "      <td>21459</td>\n",
       "      <td>70</td>\n",
       "      <td>[Action, Adventure, Comedy]</td>\n",
       "      <td>[Action, Adventure, Comedy, Drama, Ecchi, Fant...</td>\n",
       "      <td>[Action, Adventure, Comedy, Drama, Ecchi, Fant...</td>\n",
       "      <td>[Action, Comedy, Drama]</td>\n",
       "      <td>[Action, Comedy, Drama, Fantasy, Supernatural]</td>\n",
       "      <td>[Action, Comedy, Drama]</td>\n",
       "      <td>[Action, Comedy, Drama, Fantasy, Slice of Life]</td>\n",
       "    </tr>\n",
       "    <tr>\n",
       "      <th>2</th>\n",
       "      <td>710080</td>\n",
       "      <td>113415</td>\n",
       "      <td>70</td>\n",
       "      <td>[Action, Drama, Supernatural]</td>\n",
       "      <td>[Action, Adventure, Comedy, Drama, Ecchi, Fant...</td>\n",
       "      <td>[Action, Adventure, Comedy, Drama, Ecchi, Fant...</td>\n",
       "      <td>[Action, Comedy, Drama]</td>\n",
       "      <td>[Action, Comedy, Drama, Fantasy, Supernatural]</td>\n",
       "      <td>[Action, Comedy, Drama]</td>\n",
       "      <td>[Action, Comedy, Drama, Fantasy, Slice of Life]</td>\n",
       "    </tr>\n",
       "    <tr>\n",
       "      <th>3</th>\n",
       "      <td>710080</td>\n",
       "      <td>11757</td>\n",
       "      <td>70</td>\n",
       "      <td>[Action, Adventure, Fantasy, Romance]</td>\n",
       "      <td>[Action, Adventure, Comedy, Drama, Ecchi, Fant...</td>\n",
       "      <td>[Action, Adventure, Comedy, Drama, Ecchi, Fant...</td>\n",
       "      <td>[Action, Comedy, Drama]</td>\n",
       "      <td>[Action, Comedy, Drama, Fantasy, Supernatural]</td>\n",
       "      <td>[Action, Comedy, Drama]</td>\n",
       "      <td>[Action, Comedy, Drama, Fantasy, Slice of Life]</td>\n",
       "    </tr>\n",
       "    <tr>\n",
       "      <th>4</th>\n",
       "      <td>710080</td>\n",
       "      <td>5114</td>\n",
       "      <td>70</td>\n",
       "      <td>[Action, Adventure, Drama, Fantasy]</td>\n",
       "      <td>[Action, Adventure, Comedy, Drama, Ecchi, Fant...</td>\n",
       "      <td>[Action, Adventure, Comedy, Drama, Ecchi, Fant...</td>\n",
       "      <td>[Action, Comedy, Drama]</td>\n",
       "      <td>[Action, Comedy, Drama, Fantasy, Supernatural]</td>\n",
       "      <td>[Action, Comedy, Drama]</td>\n",
       "      <td>[Action, Comedy, Drama, Fantasy, Slice of Life]</td>\n",
       "    </tr>\n",
       "  </tbody>\n",
       "</table>\n",
       "</div>"
      ],
      "text/plain": [
       "   user_id  media_id  rating  \\\n",
       "0   710080      1535      70   \n",
       "1   710080     21459      70   \n",
       "2   710080    113415      70   \n",
       "3   710080     11757      70   \n",
       "4   710080      5114      70   \n",
       "\n",
       "                                             genres  \\\n",
       "0  [Mystery, Psychological, Supernatural, Thriller]   \n",
       "1                       [Action, Adventure, Comedy]   \n",
       "2                     [Action, Drama, Supernatural]   \n",
       "3             [Action, Adventure, Fantasy, Romance]   \n",
       "4               [Action, Adventure, Drama, Fantasy]   \n",
       "\n",
       "                                    liked_genres_avg  \\\n",
       "0  [Action, Adventure, Comedy, Drama, Ecchi, Fant...   \n",
       "1  [Action, Adventure, Comedy, Drama, Ecchi, Fant...   \n",
       "2  [Action, Adventure, Comedy, Drama, Ecchi, Fant...   \n",
       "3  [Action, Adventure, Comedy, Drama, Ecchi, Fant...   \n",
       "4  [Action, Adventure, Comedy, Drama, Ecchi, Fant...   \n",
       "\n",
       "                                  liked_genres_75pct         top_3_genres_avg  \\\n",
       "0  [Action, Adventure, Comedy, Drama, Ecchi, Fant...  [Action, Comedy, Drama]   \n",
       "1  [Action, Adventure, Comedy, Drama, Ecchi, Fant...  [Action, Comedy, Drama]   \n",
       "2  [Action, Adventure, Comedy, Drama, Ecchi, Fant...  [Action, Comedy, Drama]   \n",
       "3  [Action, Adventure, Comedy, Drama, Ecchi, Fant...  [Action, Comedy, Drama]   \n",
       "4  [Action, Adventure, Comedy, Drama, Ecchi, Fant...  [Action, Comedy, Drama]   \n",
       "\n",
       "                                 top_5_genres_avg       top_3_genres_75pct  \\\n",
       "0  [Action, Comedy, Drama, Fantasy, Supernatural]  [Action, Comedy, Drama]   \n",
       "1  [Action, Comedy, Drama, Fantasy, Supernatural]  [Action, Comedy, Drama]   \n",
       "2  [Action, Comedy, Drama, Fantasy, Supernatural]  [Action, Comedy, Drama]   \n",
       "3  [Action, Comedy, Drama, Fantasy, Supernatural]  [Action, Comedy, Drama]   \n",
       "4  [Action, Comedy, Drama, Fantasy, Supernatural]  [Action, Comedy, Drama]   \n",
       "\n",
       "                                top_5_genres_75pct  \n",
       "0  [Action, Comedy, Drama, Fantasy, Slice of Life]  \n",
       "1  [Action, Comedy, Drama, Fantasy, Slice of Life]  \n",
       "2  [Action, Comedy, Drama, Fantasy, Slice of Life]  \n",
       "3  [Action, Comedy, Drama, Fantasy, Slice of Life]  \n",
       "4  [Action, Comedy, Drama, Fantasy, Slice of Life]  "
      ]
     },
     "execution_count": 120,
     "metadata": {},
     "output_type": "execute_result"
    }
   ],
   "source": [
    "users_db.head()"
   ]
  },
  {
   "cell_type": "code",
   "execution_count": 121,
   "id": "87d78c63-9002-4991-9524-318527239d66",
   "metadata": {},
   "outputs": [],
   "source": [
    "users_db.to_pickle(\"../data/users_db_feateng.pkl\")"
   ]
  },
  {
   "cell_type": "code",
   "execution_count": null,
   "id": "8663bd08-986f-44d9-8285-1bf5861fc295",
   "metadata": {},
   "outputs": [],
   "source": []
  }
 ],
 "metadata": {
  "kernelspec": {
   "display_name": "Python 3",
   "language": "python",
   "name": "python3"
  },
  "language_info": {
   "codemirror_mode": {
    "name": "ipython",
    "version": 3
   },
   "file_extension": ".py",
   "mimetype": "text/x-python",
   "name": "python",
   "nbconvert_exporter": "python",
   "pygments_lexer": "ipython3",
   "version": "3.8.8"
  }
 },
 "nbformat": 4,
 "nbformat_minor": 5
}
